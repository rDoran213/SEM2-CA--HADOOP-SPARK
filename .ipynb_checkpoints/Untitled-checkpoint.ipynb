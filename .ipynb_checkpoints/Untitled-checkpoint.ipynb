{
 "cells": [
  {
   "cell_type": "code",
   "execution_count": 1,
   "id": "1dc72ffb",
   "metadata": {},
   "outputs": [
    {
     "name": "stdout",
     "output_type": "stream",
     "text": [
      "hello\n"
     ]
    }
   ],
   "source": [
    "print(\"hello\")"
   ]
  },
  {
   "cell_type": "code",
   "execution_count": 2,
   "id": "44092e66",
   "metadata": {},
   "outputs": [],
   "source": [
    "import json\n",
    "\n",
    "with open('secrets.json', 'r') as file:\n",
    "    secret_data = json.load(file)\n",
    "\n"
   ]
  },
  {
   "cell_type": "code",
   "execution_count": 3,
   "id": "fa7886b1",
   "metadata": {},
   "outputs": [],
   "source": [
    "api_data_start = \"2020-01-01\"\n",
    "\n",
    "api_key_arg = \"&api_key=\" + secret_data.get(\"api_key\")\n",
    "api_start_arg = \"&start=\" + api_data_start"
   ]
  },
  {
   "cell_type": "code",
   "execution_count": 4,
   "id": "9917eac7",
   "metadata": {},
   "outputs": [],
   "source": [
    "###data_endpoint = \"https://api.eia.gov/v2/electricity/rto/daily-region-sub-ba-data/data/?frequency=daily&data[0]=value&start=2025-03-15&sort[0][column]=period&sort[0][direction]=desc&offset=0\""
   ]
  },
  {
   "cell_type": "code",
   "execution_count": 5,
   "id": "796e3273",
   "metadata": {},
   "outputs": [],
   "source": [
    "data_endpoint = \"https://api.eia.gov/v2/electricity/rto/daily-region-data/data/?frequency=daily&data[0]=value&facets[respondent][]=NY&facets[timezone][]=Eastern&facets[type][]=D&sort[0][column]=period&sort[0][direction]=desc&offset=0&length=5000\""
   ]
  },
  {
   "cell_type": "code",
   "execution_count": 6,
   "id": "d6532a28",
   "metadata": {},
   "outputs": [],
   "source": [
    "import requests\n",
    "import pandas as pd\n",
    "import seaborn as sns"
   ]
  },
  {
   "cell_type": "code",
   "execution_count": 7,
   "id": "ecd595db",
   "metadata": {},
   "outputs": [
    {
     "name": "stdout",
     "output_type": "stream",
     "text": [
      "request succeeded\n"
     ]
    }
   ],
   "source": [
    "\n",
    "\n",
    "response = requests.get(data_endpoint+api_start_arg+api_key_arg)\n",
    "\n",
    "if response.status_code == 200:\n",
    "    data = response.json()\n",
    "    print(\"request succeeded\")\n",
    "\n",
    "else:\n",
    "    print(f\"request failed, code:  {response.status_code}\")"
   ]
  },
  {
   "cell_type": "code",
   "execution_count": 8,
   "id": "18e2f980",
   "metadata": {},
   "outputs": [],
   "source": [
    "#data.get(\"response\").get(\"data\")"
   ]
  },
  {
   "cell_type": "code",
   "execution_count": 9,
   "id": "cf4188b0",
   "metadata": {},
   "outputs": [
    {
     "data": {
      "text/html": [
       "<div>\n",
       "<style scoped>\n",
       "    .dataframe tbody tr th:only-of-type {\n",
       "        vertical-align: middle;\n",
       "    }\n",
       "\n",
       "    .dataframe tbody tr th {\n",
       "        vertical-align: top;\n",
       "    }\n",
       "\n",
       "    .dataframe thead th {\n",
       "        text-align: right;\n",
       "    }\n",
       "</style>\n",
       "<table border=\"1\" class=\"dataframe\">\n",
       "  <thead>\n",
       "    <tr style=\"text-align: right;\">\n",
       "      <th></th>\n",
       "      <th>period</th>\n",
       "      <th>respondent</th>\n",
       "      <th>respondent-name</th>\n",
       "      <th>type</th>\n",
       "      <th>type-name</th>\n",
       "      <th>timezone</th>\n",
       "      <th>timezone-description</th>\n",
       "      <th>value</th>\n",
       "      <th>value-units</th>\n",
       "    </tr>\n",
       "  </thead>\n",
       "  <tbody>\n",
       "    <tr>\n",
       "      <th>0</th>\n",
       "      <td>2025-03-23</td>\n",
       "      <td>NY</td>\n",
       "      <td>New York</td>\n",
       "      <td>D</td>\n",
       "      <td>Demand</td>\n",
       "      <td>Eastern</td>\n",
       "      <td>Eastern</td>\n",
       "      <td>351612</td>\n",
       "      <td>megawatthours</td>\n",
       "    </tr>\n",
       "    <tr>\n",
       "      <th>1</th>\n",
       "      <td>2025-03-22</td>\n",
       "      <td>NY</td>\n",
       "      <td>New York</td>\n",
       "      <td>D</td>\n",
       "      <td>Demand</td>\n",
       "      <td>Eastern</td>\n",
       "      <td>Eastern</td>\n",
       "      <td>354942</td>\n",
       "      <td>megawatthours</td>\n",
       "    </tr>\n",
       "    <tr>\n",
       "      <th>2</th>\n",
       "      <td>2025-03-21</td>\n",
       "      <td>NY</td>\n",
       "      <td>New York</td>\n",
       "      <td>D</td>\n",
       "      <td>Demand</td>\n",
       "      <td>Eastern</td>\n",
       "      <td>Eastern</td>\n",
       "      <td>360106</td>\n",
       "      <td>megawatthours</td>\n",
       "    </tr>\n",
       "    <tr>\n",
       "      <th>3</th>\n",
       "      <td>2025-03-20</td>\n",
       "      <td>NY</td>\n",
       "      <td>New York</td>\n",
       "      <td>D</td>\n",
       "      <td>Demand</td>\n",
       "      <td>Eastern</td>\n",
       "      <td>Eastern</td>\n",
       "      <td>365904</td>\n",
       "      <td>megawatthours</td>\n",
       "    </tr>\n",
       "    <tr>\n",
       "      <th>4</th>\n",
       "      <td>2025-03-19</td>\n",
       "      <td>NY</td>\n",
       "      <td>New York</td>\n",
       "      <td>D</td>\n",
       "      <td>Demand</td>\n",
       "      <td>Eastern</td>\n",
       "      <td>Eastern</td>\n",
       "      <td>354325</td>\n",
       "      <td>megawatthours</td>\n",
       "    </tr>\n",
       "    <tr>\n",
       "      <th>...</th>\n",
       "      <td>...</td>\n",
       "      <td>...</td>\n",
       "      <td>...</td>\n",
       "      <td>...</td>\n",
       "      <td>...</td>\n",
       "      <td>...</td>\n",
       "      <td>...</td>\n",
       "      <td>...</td>\n",
       "      <td>...</td>\n",
       "    </tr>\n",
       "    <tr>\n",
       "      <th>1903</th>\n",
       "      <td>2020-01-05</td>\n",
       "      <td>NY</td>\n",
       "      <td>New York</td>\n",
       "      <td>D</td>\n",
       "      <td>Demand</td>\n",
       "      <td>Eastern</td>\n",
       "      <td>Eastern</td>\n",
       "      <td>396540</td>\n",
       "      <td>megawatthours</td>\n",
       "    </tr>\n",
       "    <tr>\n",
       "      <th>1904</th>\n",
       "      <td>2020-01-04</td>\n",
       "      <td>NY</td>\n",
       "      <td>New York</td>\n",
       "      <td>D</td>\n",
       "      <td>Demand</td>\n",
       "      <td>Eastern</td>\n",
       "      <td>Eastern</td>\n",
       "      <td>389879</td>\n",
       "      <td>megawatthours</td>\n",
       "    </tr>\n",
       "    <tr>\n",
       "      <th>1905</th>\n",
       "      <td>2020-01-03</td>\n",
       "      <td>NY</td>\n",
       "      <td>New York</td>\n",
       "      <td>D</td>\n",
       "      <td>Demand</td>\n",
       "      <td>Eastern</td>\n",
       "      <td>Eastern</td>\n",
       "      <td>411481</td>\n",
       "      <td>megawatthours</td>\n",
       "    </tr>\n",
       "    <tr>\n",
       "      <th>1906</th>\n",
       "      <td>2020-01-02</td>\n",
       "      <td>NY</td>\n",
       "      <td>New York</td>\n",
       "      <td>D</td>\n",
       "      <td>Demand</td>\n",
       "      <td>Eastern</td>\n",
       "      <td>Eastern</td>\n",
       "      <td>416985</td>\n",
       "      <td>megawatthours</td>\n",
       "    </tr>\n",
       "    <tr>\n",
       "      <th>1907</th>\n",
       "      <td>2020-01-01</td>\n",
       "      <td>NY</td>\n",
       "      <td>New York</td>\n",
       "      <td>D</td>\n",
       "      <td>Demand</td>\n",
       "      <td>Eastern</td>\n",
       "      <td>Eastern</td>\n",
       "      <td>395316</td>\n",
       "      <td>megawatthours</td>\n",
       "    </tr>\n",
       "  </tbody>\n",
       "</table>\n",
       "<p>1908 rows × 9 columns</p>\n",
       "</div>"
      ],
      "text/plain": [
       "          period respondent respondent-name type type-name timezone  \\\n",
       "0     2025-03-23         NY        New York    D    Demand  Eastern   \n",
       "1     2025-03-22         NY        New York    D    Demand  Eastern   \n",
       "2     2025-03-21         NY        New York    D    Demand  Eastern   \n",
       "3     2025-03-20         NY        New York    D    Demand  Eastern   \n",
       "4     2025-03-19         NY        New York    D    Demand  Eastern   \n",
       "...          ...        ...             ...  ...       ...      ...   \n",
       "1903  2020-01-05         NY        New York    D    Demand  Eastern   \n",
       "1904  2020-01-04         NY        New York    D    Demand  Eastern   \n",
       "1905  2020-01-03         NY        New York    D    Demand  Eastern   \n",
       "1906  2020-01-02         NY        New York    D    Demand  Eastern   \n",
       "1907  2020-01-01         NY        New York    D    Demand  Eastern   \n",
       "\n",
       "     timezone-description   value    value-units  \n",
       "0                 Eastern  351612  megawatthours  \n",
       "1                 Eastern  354942  megawatthours  \n",
       "2                 Eastern  360106  megawatthours  \n",
       "3                 Eastern  365904  megawatthours  \n",
       "4                 Eastern  354325  megawatthours  \n",
       "...                   ...     ...            ...  \n",
       "1903              Eastern  396540  megawatthours  \n",
       "1904              Eastern  389879  megawatthours  \n",
       "1905              Eastern  411481  megawatthours  \n",
       "1906              Eastern  416985  megawatthours  \n",
       "1907              Eastern  395316  megawatthours  \n",
       "\n",
       "[1908 rows x 9 columns]"
      ]
     },
     "execution_count": 9,
     "metadata": {},
     "output_type": "execute_result"
    }
   ],
   "source": [
    "raw_df = pd.DataFrame(data.get(\"response\").get(\"data\"))\n",
    "raw_df\n",
    "##df = pd.DataFrame(data.get(\"data\"))\n"
   ]
  },
  {
   "cell_type": "code",
   "execution_count": 10,
   "id": "96237ee8",
   "metadata": {},
   "outputs": [],
   "source": [
    "df = raw_df[['period', 'value']]"
   ]
  },
  {
   "cell_type": "code",
   "execution_count": 11,
   "id": "0c3ceb12",
   "metadata": {},
   "outputs": [
    {
     "data": {
      "text/html": [
       "<div>\n",
       "<style scoped>\n",
       "    .dataframe tbody tr th:only-of-type {\n",
       "        vertical-align: middle;\n",
       "    }\n",
       "\n",
       "    .dataframe tbody tr th {\n",
       "        vertical-align: top;\n",
       "    }\n",
       "\n",
       "    .dataframe thead th {\n",
       "        text-align: right;\n",
       "    }\n",
       "</style>\n",
       "<table border=\"1\" class=\"dataframe\">\n",
       "  <thead>\n",
       "    <tr style=\"text-align: right;\">\n",
       "      <th></th>\n",
       "      <th>period</th>\n",
       "      <th>value</th>\n",
       "    </tr>\n",
       "  </thead>\n",
       "  <tbody>\n",
       "    <tr>\n",
       "      <th>0</th>\n",
       "      <td>2025-03-23</td>\n",
       "      <td>351612</td>\n",
       "    </tr>\n",
       "    <tr>\n",
       "      <th>1</th>\n",
       "      <td>2025-03-22</td>\n",
       "      <td>354942</td>\n",
       "    </tr>\n",
       "    <tr>\n",
       "      <th>2</th>\n",
       "      <td>2025-03-21</td>\n",
       "      <td>360106</td>\n",
       "    </tr>\n",
       "    <tr>\n",
       "      <th>3</th>\n",
       "      <td>2025-03-20</td>\n",
       "      <td>365904</td>\n",
       "    </tr>\n",
       "    <tr>\n",
       "      <th>4</th>\n",
       "      <td>2025-03-19</td>\n",
       "      <td>354325</td>\n",
       "    </tr>\n",
       "    <tr>\n",
       "      <th>...</th>\n",
       "      <td>...</td>\n",
       "      <td>...</td>\n",
       "    </tr>\n",
       "    <tr>\n",
       "      <th>1903</th>\n",
       "      <td>2020-01-05</td>\n",
       "      <td>396540</td>\n",
       "    </tr>\n",
       "    <tr>\n",
       "      <th>1904</th>\n",
       "      <td>2020-01-04</td>\n",
       "      <td>389879</td>\n",
       "    </tr>\n",
       "    <tr>\n",
       "      <th>1905</th>\n",
       "      <td>2020-01-03</td>\n",
       "      <td>411481</td>\n",
       "    </tr>\n",
       "    <tr>\n",
       "      <th>1906</th>\n",
       "      <td>2020-01-02</td>\n",
       "      <td>416985</td>\n",
       "    </tr>\n",
       "    <tr>\n",
       "      <th>1907</th>\n",
       "      <td>2020-01-01</td>\n",
       "      <td>395316</td>\n",
       "    </tr>\n",
       "  </tbody>\n",
       "</table>\n",
       "<p>1908 rows × 2 columns</p>\n",
       "</div>"
      ],
      "text/plain": [
       "          period   value\n",
       "0     2025-03-23  351612\n",
       "1     2025-03-22  354942\n",
       "2     2025-03-21  360106\n",
       "3     2025-03-20  365904\n",
       "4     2025-03-19  354325\n",
       "...          ...     ...\n",
       "1903  2020-01-05  396540\n",
       "1904  2020-01-04  389879\n",
       "1905  2020-01-03  411481\n",
       "1906  2020-01-02  416985\n",
       "1907  2020-01-01  395316\n",
       "\n",
       "[1908 rows x 2 columns]"
      ]
     },
     "execution_count": 11,
     "metadata": {},
     "output_type": "execute_result"
    }
   ],
   "source": [
    "df"
   ]
  },
  {
   "cell_type": "code",
   "execution_count": 12,
   "id": "40103052",
   "metadata": {},
   "outputs": [],
   "source": [
    "#arizona_data = df[df[\"timezone\"] == \"Arizona\"]"
   ]
  },
  {
   "cell_type": "code",
   "execution_count": 13,
   "id": "b381d022",
   "metadata": {},
   "outputs": [
    {
     "data": {
      "text/plain": [
       "period    object\n",
       "value     object\n",
       "dtype: object"
      ]
     },
     "execution_count": 13,
     "metadata": {},
     "output_type": "execute_result"
    }
   ],
   "source": [
    "df.dtypes"
   ]
  },
  {
   "cell_type": "code",
   "execution_count": 14,
   "id": "e7f8b495",
   "metadata": {},
   "outputs": [
    {
     "name": "stderr",
     "output_type": "stream",
     "text": [
      "/tmp/ipykernel_7077/345619104.py:1: SettingWithCopyWarning: \n",
      "A value is trying to be set on a copy of a slice from a DataFrame.\n",
      "Try using .loc[row_indexer,col_indexer] = value instead\n",
      "\n",
      "See the caveats in the documentation: https://pandas.pydata.org/pandas-docs/stable/user_guide/indexing.html#returning-a-view-versus-a-copy\n",
      "  df['value'] = pd.to_numeric(df['value'], errors='coerce')\n",
      "/tmp/ipykernel_7077/345619104.py:2: SettingWithCopyWarning: \n",
      "A value is trying to be set on a copy of a slice from a DataFrame.\n",
      "Try using .loc[row_indexer,col_indexer] = value instead\n",
      "\n",
      "See the caveats in the documentation: https://pandas.pydata.org/pandas-docs/stable/user_guide/indexing.html#returning-a-view-versus-a-copy\n",
      "  df['period'] = pd.to_datetime(df['period'])\n"
     ]
    }
   ],
   "source": [
    "df['value'] = pd.to_numeric(df['value'], errors='coerce')\n",
    "df['period'] = pd.to_datetime(df['period'])\n",
    "df.set_index('period', inplace=True)"
   ]
  },
  {
   "cell_type": "code",
   "execution_count": 15,
   "id": "fef875c5",
   "metadata": {},
   "outputs": [
    {
     "data": {
      "image/png": "[encoded data removed]",
      "text/plain": [
       "<Figure size 640x480 with 1 Axes>"
      ]
     },
     "metadata": {},
     "output_type": "display_data"
    }
   ],
   "source": [
    "import matplotlib.pyplot as plt\n",
    "import matplotlib.dates as mdates\n",
    "\n",
    "\n",
    "\n",
    "fig, ax = plt.subplots()\n",
    "df.plot(ax=ax)\n",
    "\n",
    "ax.xaxis.set_major_locator(mdates.MonthLocator(interval=3))\n",
    "\n",
    "ax.xaxis.set_major_formatter(mdates.DateFormatter('%Y-%m-%d'))\n",
    "\n",
    "plt.xticks(rotation=45)\n",
    "plt.tight_layout()\n",
    "plt.show()\n"
   ]
  },
  {
   "cell_type": "code",
   "execution_count": 16,
   "id": "f7467312",
   "metadata": {},
   "outputs": [
    {
     "data": {
      "text/plain": [
       "<seaborn.axisgrid.PairGrid at 0x7bc678b4f860>"
      ]
     },
     "execution_count": 16,
     "metadata": {},
     "output_type": "execute_result"
    },
    {
     "data": {
      "image/png": "[encoded data removed]",
      "text/plain": [
       "<Figure size 250x250 with 2 Axes>"
      ]
     },
     "metadata": {},
     "output_type": "display_data"
    }
   ],
   "source": [
    "sns.pairplot(df)"
   ]
  },
  {
   "cell_type": "code",
   "execution_count": 17,
   "id": "460db424",
   "metadata": {},
   "outputs": [],
   "source": [
    "from sklearn.preprocessing import MinMaxScaler\n",
    "scaler = MinMaxScaler()"
   ]
  },
  {
   "cell_type": "code",
   "execution_count": 25,
   "id": "21e7aa27",
   "metadata": {},
   "outputs": [
    {
     "data": {
      "text/plain": [
       "(1908, 1)"
      ]
     },
     "execution_count": 25,
     "metadata": {},
     "output_type": "execute_result"
    }
   ],
   "source": [
    "df.shape"
   ]
  },
  {
   "cell_type": "code",
   "execution_count": 26,
   "id": "a6bfa58b",
   "metadata": {},
   "outputs": [],
   "source": [
    "test_df = df.copy()"
   ]
  },
  {
   "cell_type": "code",
   "execution_count": null,
   "id": "884c402f",
   "metadata": {},
   "outputs": [],
   "source": [
    "training_data = test_df.iloc[0]"
   ]
  },
  {
   "cell_type": "code",
   "execution_count": null,
   "id": "4cf4e737",
   "metadata": {},
   "outputs": [],
   "source": []
  },
  {
   "cell_type": "code",
   "execution_count": 18,
   "id": "d01107e1",
   "metadata": {},
   "outputs": [],
   "source": [
    "#scaler.fit(df)\n",
    "#scaled_data = scaler.transform(df)"
   ]
  },
  {
   "cell_type": "code",
   "execution_count": 19,
   "id": "d6304e16",
   "metadata": {},
   "outputs": [],
   "source": [
    "#sns.pairplot(scaled_data)"
   ]
  },
  {
   "cell_type": "code",
   "execution_count": null,
   "id": "07ebf3d2",
   "metadata": {},
   "outputs": [],
   "source": []
  },
  {
   "cell_type": "markdown",
   "id": "12866841",
   "metadata": {},
   "source": [
    "Save Data to HDFS"
   ]
  },
  {
   "cell_type": "code",
   "execution_count": 20,
   "id": "83afca6e",
   "metadata": {},
   "outputs": [],
   "source": [
    "## Save df as csv\n",
    "\n",
    "df.to_csv('test-data.csv')"
   ]
  },
  {
   "cell_type": "code",
   "execution_count": 21,
   "id": "a6eb0848",
   "metadata": {},
   "outputs": [
    {
     "data": {
      "text/plain": [
       "0"
      ]
     },
     "execution_count": 21,
     "metadata": {},
     "output_type": "execute_result"
    }
   ],
   "source": [
    "## upload to Hadoop\n",
    "\n",
    "import os\n",
    "\n",
    "os.system(\"hdfs dfs -put -f ./test-data.csv /testdata/\")\n"
   ]
  },
  {
   "cell_type": "code",
   "execution_count": 22,
   "id": "ba3bb2b7",
   "metadata": {},
   "outputs": [],
   "source": [
    "#"
   ]
  },
  {
   "cell_type": "code",
   "execution_count": 23,
   "id": "3f6743bd",
   "metadata": {},
   "outputs": [
    {
     "name": "stderr",
     "output_type": "stream",
     "text": [
      "25/03/24 19:58:39 WARN SparkSession: Using an existing Spark session; only runtime SQL configurations will take effect.\n",
      "                                                                                \r"
     ]
    },
    {
     "name": "stdout",
     "output_type": "stream",
     "text": [
      "+----------+------+\n",
      "|    period| value|\n",
      "+----------+------+\n",
      "|2025-03-23|351612|\n",
      "|2025-03-22|354942|\n",
      "|2025-03-21|360106|\n",
      "|2025-03-20|365904|\n",
      "|2025-03-19|354325|\n",
      "|2025-03-18|367109|\n",
      "|2025-03-17|383316|\n",
      "|2025-03-16|350585|\n",
      "|2025-03-15|353508|\n",
      "|2025-03-14|362794|\n",
      "|2025-03-13|374367|\n",
      "|2025-03-12|380035|\n",
      "|2025-03-11|360839|\n",
      "|2025-03-10|368767|\n",
      "|2025-03-08|379947|\n",
      "|2025-03-07|406048|\n",
      "|2025-03-06|403469|\n",
      "|2025-03-05|407344|\n",
      "|2025-03-04|420282|\n",
      "|2025-03-03|430754|\n",
      "+----------+------+\n",
      "only showing top 20 rows\n",
      "\n"
     ]
    }
   ],
   "source": [
    "from pyspark.sql import SparkSession\n",
    "\n",
    "spark = SparkSession.builder \\\n",
    "    .appName(\"Power Demand Tracker\") \\\n",
    "    .getOrCreate()\n",
    "\n",
    "df_spark = spark.read.csv('hdfs:///testdata/test-data.csv', header=True, inferSchema=True)\n",
    "\n",
    "df_spark.show()"
   ]
  },
  {
   "cell_type": "code",
   "execution_count": 24,
   "id": "c34aa9ef",
   "metadata": {},
   "outputs": [
    {
     "data": {
      "text/plain": [
       "DataFrame[period: date, value: int]"
      ]
     },
     "execution_count": 24,
     "metadata": {},
     "output_type": "execute_result"
    }
   ],
   "source": [
    "df_spark"
   ]
  },
  {
   "cell_type": "code",
   "execution_count": null,
   "id": "2d5d6600",
   "metadata": {},
   "outputs": [],
   "source": []
  },
  {
   "cell_type": "code",
   "execution_count": null,
   "id": "0895ca3b",
   "metadata": {},
   "outputs": [],
   "source": []
  },
  {
   "cell_type": "code",
   "execution_count": null,
   "id": "c9b68787",
   "metadata": {},
   "outputs": [],
   "source": []
  }
 ],
 "metadata": {
  "kernelspec": {
   "display_name": "Python 3 (ipykernel)",
   "language": "python",
   "name": "python3"
  },
  "language_info": {
   "codemirror_mode": {
    "name": "ipython",
    "version": 3
   },
   "file_extension": ".py",
   "mimetype": "text/x-python",
   "name": "python",
   "nbconvert_exporter": "python",
   "pygments_lexer": "ipython3",
   "version": "3.12.3"
  }
 },
 "nbformat": 4,
 "nbformat_minor": 5
}
