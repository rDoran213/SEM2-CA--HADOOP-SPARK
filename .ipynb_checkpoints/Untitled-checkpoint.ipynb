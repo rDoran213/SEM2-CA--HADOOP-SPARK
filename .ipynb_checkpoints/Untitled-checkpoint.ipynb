{
 "cells": [
  {
   "cell_type": "code",
   "execution_count": 1,
   "id": "1dc72ffb",
   "metadata": {},
   "outputs": [
    {
     "name": "stdout",
     "output_type": "stream",
     "text": [
      "hello\n"
     ]
    }
   ],
   "source": [
    "print(\"hello\")"
   ]
  },
  {
   "cell_type": "code",
   "execution_count": 2,
   "id": "44092e66",
   "metadata": {},
   "outputs": [],
   "source": [
    "import json\n",
    "\n",
    "with open('secrets.json', 'r') as file:\n",
    "    secret_data = json.load(file)\n",
    "\n"
   ]
  },
  {
   "cell_type": "code",
   "execution_count": 3,
   "id": "fa7886b1",
   "metadata": {},
   "outputs": [],
   "source": [
    "api_data_start = \"2020-01-01\"\n",
    "\n",
    "api_key_arg = \"&api_key=\" + secret_data.get(\"api_key\")\n",
    "api_start_arg = \"&start=\" + api_data_start"
   ]
  },
  {
   "cell_type": "code",
   "execution_count": 4,
   "id": "9917eac7",
   "metadata": {},
   "outputs": [],
   "source": [
    "###data_endpoint = \"https://api.eia.gov/v2/electricity/rto/daily-region-sub-ba-data/data/?frequency=daily&data[0]=value&start=2025-03-15&sort[0][column]=period&sort[0][direction]=desc&offset=0\""
   ]
  },
  {
   "cell_type": "code",
   "execution_count": 5,
   "id": "796e3273",
   "metadata": {},
   "outputs": [],
   "source": [
    "data_endpoint = \"https://api.eia.gov/v2/electricity/rto/daily-region-data/data/?frequency=daily&data[0]=value&facets[respondent][]=NY&facets[timezone][]=Eastern&facets[type][]=D&sort[0][column]=period&sort[0][direction]=desc&offset=0&length=5000\""
   ]
  },
  {
   "cell_type": "code",
   "execution_count": 6,
   "id": "d6532a28",
   "metadata": {},
   "outputs": [],
   "source": [
    "import requests\n",
    "import pandas as pd\n",
    "import seaborn as sns"
   ]
  },
  {
   "cell_type": "code",
   "execution_count": 7,
   "id": "ecd595db",
   "metadata": {},
   "outputs": [
    {
     "name": "stdout",
     "output_type": "stream",
     "text": [
      "request succeeded\n"
     ]
    }
   ],
   "source": [
    "\n",
    "\n",
    "response = requests.get(data_endpoint+api_start_arg+api_key_arg)\n",
    "\n",
    "if response.status_code == 200:\n",
    "    data = response.json()\n",
    "    print(\"request succeeded\")\n",
    "\n",
    "else:\n",
    "    print(f\"request failed, code:  {response.status_code}\")"
   ]
  },
  {
   "cell_type": "code",
   "execution_count": 8,
   "id": "18e2f980",
   "metadata": {},
   "outputs": [],
   "source": [
    "#data.get(\"response\").get(\"data\")"
   ]
  },
  {
   "cell_type": "code",
   "execution_count": 9,
   "id": "cf4188b0",
   "metadata": {},
   "outputs": [],
   "source": [
    "raw_df = pd.DataFrame(data.get(\"response\").get(\"data\"))\n",
    "#raw_df\n",
    "##df = pd.DataFrame(data.get(\"data\"))\n"
   ]
  },
  {
   "cell_type": "code",
   "execution_count": 10,
   "id": "9f1a83dd",
   "metadata": {},
   "outputs": [],
   "source": [
    "raw_df.to_csv('test-data.csv')"
   ]
  },
  {
   "cell_type": "code",
   "execution_count": 11,
   "id": "7a86d0f7",
   "metadata": {},
   "outputs": [
    {
     "name": "stderr",
     "output_type": "stream",
     "text": [
      "25/03/31 17:54:49 WARN SparkSession: Using an existing Spark session; only runtime SQL configurations will take effect.\n",
      "                                                                                \r"
     ]
    },
    {
     "name": "stdout",
     "output_type": "stream",
     "text": [
      "+---+----------+----------+---------------+----+---------+--------+--------------------+------+-------------+\n",
      "|_c0|    period|respondent|respondent-name|type|type-name|timezone|timezone-description| value|  value-units|\n",
      "+---+----------+----------+---------------+----+---------+--------+--------------------+------+-------------+\n",
      "|  0|2025-03-30|        NY|       New York|   D|   Demand| Eastern|             Eastern|360251|megawatthours|\n",
      "|  1|2025-03-29|        NY|       New York|   D|   Demand| Eastern|             Eastern|356584|megawatthours|\n",
      "|  2|2025-03-28|        NY|       New York|   D|   Demand| Eastern|             Eastern|373815|megawatthours|\n",
      "|  3|2025-03-27|        NY|       New York|   D|   Demand| Eastern|             Eastern|371568|megawatthours|\n",
      "|  4|2025-03-26|        NY|       New York|   D|   Demand| Eastern|             Eastern|383131|megawatthours|\n",
      "|  5|2025-03-25|        NY|       New York|   D|   Demand| Eastern|             Eastern|378674|megawatthours|\n",
      "|  6|2025-03-24|        NY|       New York|   D|   Demand| Eastern|             Eastern|398827|megawatthours|\n",
      "|  7|2025-03-23|        NY|       New York|   D|   Demand| Eastern|             Eastern|351612|megawatthours|\n",
      "|  8|2025-03-22|        NY|       New York|   D|   Demand| Eastern|             Eastern|354942|megawatthours|\n",
      "|  9|2025-03-21|        NY|       New York|   D|   Demand| Eastern|             Eastern|360106|megawatthours|\n",
      "| 10|2025-03-20|        NY|       New York|   D|   Demand| Eastern|             Eastern|365904|megawatthours|\n",
      "| 11|2025-03-19|        NY|       New York|   D|   Demand| Eastern|             Eastern|354325|megawatthours|\n",
      "| 12|2025-03-18|        NY|       New York|   D|   Demand| Eastern|             Eastern|367109|megawatthours|\n",
      "| 13|2025-03-17|        NY|       New York|   D|   Demand| Eastern|             Eastern|383316|megawatthours|\n",
      "| 14|2025-03-16|        NY|       New York|   D|   Demand| Eastern|             Eastern|350585|megawatthours|\n",
      "| 15|2025-03-15|        NY|       New York|   D|   Demand| Eastern|             Eastern|353508|megawatthours|\n",
      "| 16|2025-03-14|        NY|       New York|   D|   Demand| Eastern|             Eastern|362794|megawatthours|\n",
      "| 17|2025-03-13|        NY|       New York|   D|   Demand| Eastern|             Eastern|374367|megawatthours|\n",
      "| 18|2025-03-12|        NY|       New York|   D|   Demand| Eastern|             Eastern|380035|megawatthours|\n",
      "| 19|2025-03-11|        NY|       New York|   D|   Demand| Eastern|             Eastern|360839|megawatthours|\n",
      "+---+----------+----------+---------------+----+---------+--------+--------------------+------+-------------+\n",
      "only showing top 20 rows\n",
      "\n"
     ]
    },
    {
     "name": "stderr",
     "output_type": "stream",
     "text": [
      "25/03/31 17:55:02 WARN CSVHeaderChecker: CSV header does not conform to the schema.\n",
      " Header: , period, respondent, respondent-name, type, type-name, timezone, timezone-description, value, value-units\n",
      " Schema: _c0, period, respondent, respondent-name, type, type-name, timezone, timezone-description, value, value-units\n",
      "Expected: _c0 but found: \n",
      "CSV file: hdfs://localhost:9000/testdata/test-data.csv\n"
     ]
    }
   ],
   "source": [
    "from pyspark.sql import SparkSession\n",
    "import os\n",
    "\n",
    "os.system(\"hdfs dfs -put -f ./test-data.csv /testdata/\")\n",
    "\n",
    "\n",
    "spark = SparkSession.builder \\\n",
    "    .appName(\"Power Demand Tracker\") \\\n",
    "    .getOrCreate()\n",
    "\n",
    "df_spark = spark.read.csv('hdfs:///testdata/test-data.csv', header=True, inferSchema=True)\n",
    "\n",
    "df_spark.show()"
   ]
  },
  {
   "cell_type": "raw",
   "id": "e7b1da09",
   "metadata": {},
   "source": []
  },
  {
   "cell_type": "code",
   "execution_count": 12,
   "id": "96fd340a",
   "metadata": {},
   "outputs": [],
   "source": [
    "from pyspark.sql.functions import col\n",
    "\n",
    "\n",
    "filtered_spark_df = df_spark.select(\n",
    "    col(\"period\").alias(\"Date\"),\n",
    "    col(\"value\").alias(\"MWh\")\n",
    ")"
   ]
  },
  {
   "cell_type": "code",
   "execution_count": 13,
   "id": "4e99dbb4",
   "metadata": {},
   "outputs": [],
   "source": [
    "#filtered_spark_df = df_spark.select('period', 'value')"
   ]
  },
  {
   "cell_type": "code",
   "execution_count": 14,
   "id": "85f36024",
   "metadata": {},
   "outputs": [
    {
     "name": "stdout",
     "output_type": "stream",
     "text": [
      "+----------+------+\n",
      "|      Date|   MWh|\n",
      "+----------+------+\n",
      "|2025-03-30|360251|\n",
      "|2025-03-29|356584|\n",
      "|2025-03-28|373815|\n",
      "|2025-03-27|371568|\n",
      "|2025-03-26|383131|\n",
      "|2025-03-25|378674|\n",
      "|2025-03-24|398827|\n",
      "|2025-03-23|351612|\n",
      "|2025-03-22|354942|\n",
      "|2025-03-21|360106|\n",
      "|2025-03-20|365904|\n",
      "|2025-03-19|354325|\n",
      "|2025-03-18|367109|\n",
      "|2025-03-17|383316|\n",
      "|2025-03-16|350585|\n",
      "|2025-03-15|353508|\n",
      "|2025-03-14|362794|\n",
      "|2025-03-13|374367|\n",
      "|2025-03-12|380035|\n",
      "|2025-03-11|360839|\n",
      "+----------+------+\n",
      "only showing top 20 rows\n",
      "\n"
     ]
    }
   ],
   "source": [
    "filtered_spark_df.show()"
   ]
  },
  {
   "cell_type": "code",
   "execution_count": 15,
   "id": "96237ee8",
   "metadata": {},
   "outputs": [],
   "source": [
    "#df = raw_df[['period', 'value']]"
   ]
  },
  {
   "cell_type": "code",
   "execution_count": 16,
   "id": "0c3ceb12",
   "metadata": {},
   "outputs": [],
   "source": [
    "from pyspark.sql import functions as F"
   ]
  },
  {
   "cell_type": "code",
   "execution_count": null,
   "id": "0facb6f2",
   "metadata": {},
   "outputs": [],
   "source": []
  },
  {
   "cell_type": "code",
   "execution_count": 17,
   "id": "40103052",
   "metadata": {},
   "outputs": [
    {
     "name": "stdout",
     "output_type": "stream",
     "text": [
      "+----------+------+-------+-----+\n",
      "|      Date|   MWh|weekday|month|\n",
      "+----------+------+-------+-----+\n",
      "|2025-03-30|360251|      1|    3|\n",
      "|2025-03-29|356584|      7|    3|\n",
      "|2025-03-28|373815|      6|    3|\n",
      "|2025-03-27|371568|      5|    3|\n",
      "|2025-03-26|383131|      4|    3|\n",
      "|2025-03-25|378674|      3|    3|\n",
      "|2025-03-24|398827|      2|    3|\n",
      "|2025-03-23|351612|      1|    3|\n",
      "|2025-03-22|354942|      7|    3|\n",
      "|2025-03-21|360106|      6|    3|\n",
      "|2025-03-20|365904|      5|    3|\n",
      "|2025-03-19|354325|      4|    3|\n",
      "|2025-03-18|367109|      3|    3|\n",
      "|2025-03-17|383316|      2|    3|\n",
      "|2025-03-16|350585|      1|    3|\n",
      "|2025-03-15|353508|      7|    3|\n",
      "|2025-03-14|362794|      6|    3|\n",
      "|2025-03-13|374367|      5|    3|\n",
      "|2025-03-12|380035|      4|    3|\n",
      "|2025-03-11|360839|      3|    3|\n",
      "+----------+------+-------+-----+\n",
      "only showing top 20 rows\n",
      "\n"
     ]
    }
   ],
   "source": [
    "features_df = filtered_spark_df.withColumn(\"Day\", F.dayofweek(\"Date\"))\n",
    "features_df = features_df.withColumn(\"Month\", F.month(\"Date\"))\n",
    "features_df.show()"
   ]
  },
  {
   "cell_type": "code",
   "execution_count": 32,
   "id": "3e915c17",
   "metadata": {},
   "outputs": [
    {
     "name": "stderr",
     "output_type": "stream",
     "text": [
      "\r",
      "[Stage 8:>                                                          (0 + 1) / 1]\r",
      "\r",
      "                                                                                \r"
     ]
    }
   ],
   "source": [
    "## Writes back data to Hadoop\n",
    "#features_df.write.option(\"header\", True).mode(\"overwrite\").csv(\"hdfs:////user/hduser/unscaled-data\")\n",
    "\n",
    "features_df.write.mode(\"overwrite\").option(\"header\", True).csv(\"hdfs:///unscaled/\")"
   ]
  },
  {
   "cell_type": "code",
   "execution_count": 19,
   "id": "955e2e31",
   "metadata": {},
   "outputs": [],
   "source": [
    "#features_df.coalesce(1).write.option(\"header\", True).mode(\"overwrite\").csv(\"/.unscaled-data\")"
   ]
  },
  {
   "cell_type": "code",
   "execution_count": 20,
   "id": "df5f47fe",
   "metadata": {},
   "outputs": [],
   "source": [
    "#os.getcwd()"
   ]
  },
  {
   "cell_type": "code",
   "execution_count": 21,
   "id": "95eecdb6",
   "metadata": {},
   "outputs": [],
   "source": [
    "#features_df.write.csv(os.getcwd()+\"/newtest\")"
   ]
  },
  {
   "cell_type": "code",
   "execution_count": 33,
   "id": "b4da1237",
   "metadata": {},
   "outputs": [
    {
     "name": "stdout",
     "output_type": "stream",
     "text": [
      "+----------+------+-------+-----+\n",
      "|      Date|   MWh|weekday|month|\n",
      "+----------+------+-------+-----+\n",
      "|2025-03-30|360251|      1|    3|\n",
      "|2025-03-29|356584|      7|    3|\n",
      "|2025-03-28|373815|      6|    3|\n",
      "|2025-03-27|371568|      5|    3|\n",
      "|2025-03-26|383131|      4|    3|\n",
      "|2025-03-25|378674|      3|    3|\n",
      "|2025-03-24|398827|      2|    3|\n",
      "|2025-03-23|351612|      1|    3|\n",
      "|2025-03-22|354942|      7|    3|\n",
      "|2025-03-21|360106|      6|    3|\n",
      "|2025-03-20|365904|      5|    3|\n",
      "|2025-03-19|354325|      4|    3|\n",
      "|2025-03-18|367109|      3|    3|\n",
      "|2025-03-17|383316|      2|    3|\n",
      "|2025-03-16|350585|      1|    3|\n",
      "|2025-03-15|353508|      7|    3|\n",
      "|2025-03-14|362794|      6|    3|\n",
      "|2025-03-13|374367|      5|    3|\n",
      "|2025-03-12|380035|      4|    3|\n",
      "|2025-03-11|360839|      3|    3|\n",
      "+----------+------+-------+-----+\n",
      "only showing top 20 rows\n",
      "\n"
     ]
    }
   ],
   "source": [
    "df_spark_test = spark.read.option(\"header\", True).option(\"inferSchema\", True).csv(\"hdfs:///unscaled/\")\n",
    "df_spark_test.show()\n",
    "\n",
    "\n",
    "##hdfs dfs -getmerge /unscaled/ ./unscaled-data.csv"
   ]
  },
  {
   "cell_type": "code",
   "execution_count": null,
   "id": "8d3216d1",
   "metadata": {},
   "outputs": [],
   "source": []
  },
  {
   "cell_type": "code",
   "execution_count": null,
   "id": "72899e73",
   "metadata": {},
   "outputs": [],
   "source": []
  },
  {
   "cell_type": "code",
   "execution_count": null,
   "id": "c0e53ea7",
   "metadata": {},
   "outputs": [],
   "source": []
  },
  {
   "cell_type": "code",
   "execution_count": 22,
   "id": "b381d022",
   "metadata": {},
   "outputs": [
    {
     "ename": "NameError",
     "evalue": "name 'df' is not defined",
     "output_type": "error",
     "traceback": [
      "\u001b[0;31m---------------------------------------------------------------------------\u001b[0m",
      "\u001b[0;31mNameError\u001b[0m                                 Traceback (most recent call last)",
      "Cell \u001b[0;32mIn[22], line 1\u001b[0m\n\u001b[0;32m----> 1\u001b[0m \u001b[43mdf\u001b[49m\u001b[38;5;241m.\u001b[39mdtypes\n",
      "\u001b[0;31mNameError\u001b[0m: name 'df' is not defined"
     ]
    }
   ],
   "source": [
    "#df.dtypes"
   ]
  },
  {
   "cell_type": "code",
   "execution_count": null,
   "id": "e7f8b495",
   "metadata": {},
   "outputs": [],
   "source": [
    "#df['value'] = pd.to_numeric(df['value'], errors='coerce')\n",
    "#df['period'] = pd.to_datetime(df['period'])\n",
    "#df.set_index('period', inplace=True)"
   ]
  },
  {
   "cell_type": "code",
   "execution_count": null,
   "id": "fef875c5",
   "metadata": {},
   "outputs": [],
   "source": [
    "import matplotlib.pyplot as plt\n",
    "import matplotlib.dates as mdates\n",
    "\n",
    "\n",
    "\n",
    "#fig, ax = plt.subplots()\n",
    "#df.plot(ax=ax)\n",
    "\n",
    "#ax.xaxis.set_major_locator(mdates.MonthLocator(interval=3))\n",
    "\n",
    "#ax.xaxis.set_major_formatter(mdates.DateFormatter('%Y-%m-%d'))\n",
    "\n",
    "#plt.xticks(rotation=45)\n",
    "#plt.tight_layout()\n",
    "#plt.show()\n"
   ]
  },
  {
   "cell_type": "code",
   "execution_count": null,
   "id": "f7467312",
   "metadata": {},
   "outputs": [],
   "source": [
    "#sns.pairplot(df)"
   ]
  },
  {
   "cell_type": "code",
   "execution_count": null,
   "id": "ca302ddf",
   "metadata": {},
   "outputs": [],
   "source": [
    "#from sklearn.preprocessing import MinMaxScaler\n",
    "#scaler = MinMaxScaler()"
   ]
  },
  {
   "cell_type": "code",
   "execution_count": null,
   "id": "fa096091",
   "metadata": {},
   "outputs": [],
   "source": [
    "#df.shape"
   ]
  },
  {
   "cell_type": "code",
   "execution_count": null,
   "id": "1b896346",
   "metadata": {},
   "outputs": [],
   "source": [
    "#test_df = df.copy()"
   ]
  },
  {
   "cell_type": "code",
   "execution_count": null,
   "id": "531f117d",
   "metadata": {},
   "outputs": [],
   "source": [
    "#training_data = test_df.iloc[:,0].values"
   ]
  },
  {
   "cell_type": "code",
   "execution_count": null,
   "id": "3a2a52c2",
   "metadata": {},
   "outputs": [],
   "source": [
    "#training_data = scaler.fit_transform(training_data.reshape(-1, 1))"
   ]
  },
  {
   "cell_type": "code",
   "execution_count": null,
   "id": "355f2ef3",
   "metadata": {},
   "outputs": [],
   "source": [
    "#scaler.fit(df)\n",
    "#scaled_data = scaler.transform(df)"
   ]
  },
  {
   "cell_type": "code",
   "execution_count": null,
   "id": "ec5ee3b4",
   "metadata": {},
   "outputs": [],
   "source": [
    "#sns.pairplot(scaled_data)"
   ]
  },
  {
   "cell_type": "code",
   "execution_count": null,
   "id": "2e537ade",
   "metadata": {},
   "outputs": [],
   "source": [
    "#training_data.shape"
   ]
  },
  {
   "cell_type": "code",
   "execution_count": null,
   "id": "c63103ff",
   "metadata": {},
   "outputs": [],
   "source": [
    "#new_test_df = pd.DataFrame(training_data)"
   ]
  },
  {
   "cell_type": "code",
   "execution_count": null,
   "id": "39ee5e17",
   "metadata": {},
   "outputs": [],
   "source": [
    "#sns.pairplot(new_test_df)"
   ]
  },
  {
   "cell_type": "code",
   "execution_count": null,
   "id": "91fc99cb",
   "metadata": {},
   "outputs": [],
   "source": []
  },
  {
   "cell_type": "code",
   "execution_count": null,
   "id": "904caad0",
   "metadata": {},
   "outputs": [],
   "source": []
  },
  {
   "cell_type": "code",
   "execution_count": null,
   "id": "7f3ca69c",
   "metadata": {},
   "outputs": [],
   "source": []
  },
  {
   "cell_type": "markdown",
   "id": "12866841",
   "metadata": {},
   "source": [
    "Save Data to HDFS"
   ]
  },
  {
   "cell_type": "code",
   "execution_count": null,
   "id": "83afca6e",
   "metadata": {},
   "outputs": [],
   "source": [
    "## Save df as csv\n",
    "\n",
    "##df.to_csv('test-data.csv')"
   ]
  },
  {
   "cell_type": "code",
   "execution_count": null,
   "id": "a6eb0848",
   "metadata": {},
   "outputs": [],
   "source": [
    "## upload to Hadoop\n",
    "\n",
    "#import os\n",
    "\n",
    "#os.system(\"hdfs dfs -put -f ./test-data.csv /testdata/\")\n"
   ]
  },
  {
   "cell_type": "code",
   "execution_count": null,
   "id": "ba3bb2b7",
   "metadata": {},
   "outputs": [],
   "source": [
    "#"
   ]
  },
  {
   "cell_type": "code",
   "execution_count": null,
   "id": "3f6743bd",
   "metadata": {},
   "outputs": [],
   "source": [
    "#from pyspark.sql import SparkSession\n",
    "#import os\n",
    "\n",
    "#os.system(\"hdfs dfs -put -f ./test-data.csv /testdata/\")\n",
    "\n",
    "\n",
    "#park = SparkSession.builder \\\n",
    "   # .appName(\"Power Demand Tracker\") \\\n",
    " #  .getOrCreate()\n",
    "\n",
    "#df_spark = spark.read.csv('hdfs:///testdata/test-data.csv', header=True, inferSchema=True)\n",
    "\n",
    "#df_spark.show()"
   ]
  },
  {
   "cell_type": "code",
   "execution_count": null,
   "id": "c34aa9ef",
   "metadata": {},
   "outputs": [],
   "source": [
    "#df_spark"
   ]
  },
  {
   "cell_type": "code",
   "execution_count": null,
   "id": "2d5d6600",
   "metadata": {},
   "outputs": [],
   "source": []
  },
  {
   "cell_type": "code",
   "execution_count": null,
   "id": "107e56a5",
   "metadata": {},
   "outputs": [],
   "source": []
  },
  {
   "cell_type": "code",
   "execution_count": null,
   "id": "2d3406f9",
   "metadata": {},
   "outputs": [],
   "source": []
  }
 ],
 "metadata": {
  "kernelspec": {
   "display_name": "Python 3 (ipykernel)",
   "language": "python",
   "name": "python3"
  },
  "language_info": {
   "codemirror_mode": {
    "name": "ipython",
    "version": 3
   },
   "file_extension": ".py",
   "mimetype": "text/x-python",
   "name": "python",
   "nbconvert_exporter": "python",
   "pygments_lexer": "ipython3",
   "version": "3.12.3"
  }
 },
 "nbformat": 4,
 "nbformat_minor": 5
}
