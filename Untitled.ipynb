{
 "cells": [
  {
   "cell_type": "code",
   "execution_count": 1,
   "id": "1dc72ffb",
   "metadata": {},
   "outputs": [],
   "source": [
    "import os\n",
    "import requests\n",
    "import pandas as pd\n",
    "import seaborn as sns\n",
    "from pyspark.sql import SparkSession\n",
    "from pyspark.sql import functions as F\n",
    "from pyspark.sql.functions import col, collect_list, udf,expr\n",
    "from pyspark.sql.window import Window\n",
    "from pyspark.sql.functions import lag, lit\n",
    "from pyspark.ml.feature import MinMaxScaler, VectorAssembler\n",
    "from pyspark.sql.types import DoubleType\n",
    "\n"
   ]
  },
  {
   "cell_type": "code",
   "execution_count": 2,
   "id": "f58d7ef3",
   "metadata": {},
   "outputs": [
    {
     "name": "stderr",
     "output_type": "stream",
     "text": [
      "25/04/04 10:30:00 WARN SparkSession: Using an existing Spark session; only runtime SQL configurations will take effect.\n"
     ]
    }
   ],
   "source": [
    "spark = SparkSession.builder \\\n",
    "    .appName(\"Power Demand Tracker\") \\\n",
    "    .getOrCreate()"
   ]
  },
  {
   "cell_type": "code",
   "execution_count": 3,
   "id": "99b19d32",
   "metadata": {},
   "outputs": [
    {
     "data": {
      "text/plain": [
       "0"
      ]
     },
     "execution_count": 3,
     "metadata": {},
     "output_type": "execute_result"
    }
   ],
   "source": [
    "temp_data = pd.read_csv(\"open-meteo-nwe-york.csv\")\n",
    "os.system(\"hdfs dfs -put -f ./open-meteo-nwe-york.csv /staging/temp\")\n"
   ]
  },
  {
   "cell_type": "code",
   "execution_count": 4,
   "id": "7462ffb2",
   "metadata": {},
   "outputs": [
    {
     "name": "stderr",
     "output_type": "stream",
     "text": [
      "                                                                                \r"
     ]
    }
   ],
   "source": [
    "df_tempurature_spark = spark.read.csv('hdfs:///staging/temp/open-meteo-nwe-york.csv', header=True, inferSchema=True)\n"
   ]
  },
  {
   "cell_type": "code",
   "execution_count": 5,
   "id": "e7b41848",
   "metadata": {},
   "outputs": [
    {
     "name": "stdout",
     "output_type": "stream",
     "text": [
      "+----------+--------------------+--------------------+------------------+----------------+---------------------+\n",
      "|  latitude|           longitude|           elevation|utc_offset_seconds|        timezone|timezone_abbreviation|\n",
      "+----------+--------------------+--------------------+------------------+----------------+---------------------+\n",
      "| 40.738136|           -74.04254|                51.0|            -14400|America/New_York|                GMT-4|\n",
      "|      time|temperature_2m_me...|temperature_2m_ma...|              null|            null|                 null|\n",
      "|2020-01-01|                 2.1|                 4.2|              null|            null|                 null|\n",
      "|2020-01-02|                 2.3|                 8.8|              null|            null|                 null|\n",
      "|2020-01-03|                 6.3|                 9.2|              null|            null|                 null|\n",
      "|2020-01-04|                 7.5|                 9.9|              null|            null|                 null|\n",
      "|2020-01-05|                 2.5|                 5.0|              null|            null|                 null|\n",
      "|2020-01-06|                 2.6|                 7.5|              null|            null|                 null|\n",
      "|2020-01-07|                 2.4|                 5.9|              null|            null|                 null|\n",
      "|2020-01-08|                 0.8|                 4.9|              null|            null|                 null|\n",
      "|2020-01-09|                -2.3|                 0.4|              null|            null|                 null|\n",
      "|2020-01-10|                 4.8|                11.0|              null|            null|                 null|\n",
      "|2020-01-11|                13.6|                18.2|              null|            null|                 null|\n",
      "|2020-01-12|                14.6|                18.6|              null|            null|                 null|\n",
      "|2020-01-13|                 4.7|                 8.7|              null|            null|                 null|\n",
      "|2020-01-14|                 4.0|                 6.6|              null|            null|                 null|\n",
      "|2020-01-15|                 5.5|                 9.2|              null|            null|                 null|\n",
      "|2020-01-16|                 5.5|                 8.5|              null|            null|                 null|\n",
      "|2020-01-17|                -3.3|                 0.6|              null|            null|                 null|\n",
      "|2020-01-18|                -3.3|                 2.3|              null|            null|                 null|\n",
      "+----------+--------------------+--------------------+------------------+----------------+---------------------+\n",
      "only showing top 20 rows\n",
      "\n"
     ]
    }
   ],
   "source": [
    "df_tempurature_spark.show()"
   ]
  },
  {
   "cell_type": "code",
   "execution_count": 6,
   "id": "c71aeb17",
   "metadata": {},
   "outputs": [],
   "source": [
    "## remove the first 2 rows \n",
    "\n",
    "df_tempurature_spark = df_tempurature_spark.rdd.zipWithIndex().filter(lambda row: row[1] >= 2).map(lambda row: row[0]).toDF(df_tempurature_spark.schema)"
   ]
  },
  {
   "cell_type": "code",
   "execution_count": 7,
   "id": "dd745de3",
   "metadata": {},
   "outputs": [
    {
     "name": "stderr",
     "output_type": "stream",
     "text": [
      "\r",
      "[Stage 3:>                                                          (0 + 1) / 1]\r"
     ]
    },
    {
     "name": "stdout",
     "output_type": "stream",
     "text": [
      "+----------+---------+---------+------------------+--------+---------------------+\n",
      "|  latitude|longitude|elevation|utc_offset_seconds|timezone|timezone_abbreviation|\n",
      "+----------+---------+---------+------------------+--------+---------------------+\n",
      "|2020-01-01|      2.1|      4.2|              null|    null|                 null|\n",
      "|2020-01-02|      2.3|      8.8|              null|    null|                 null|\n",
      "|2020-01-03|      6.3|      9.2|              null|    null|                 null|\n",
      "|2020-01-04|      7.5|      9.9|              null|    null|                 null|\n",
      "|2020-01-05|      2.5|      5.0|              null|    null|                 null|\n",
      "|2020-01-06|      2.6|      7.5|              null|    null|                 null|\n",
      "|2020-01-07|      2.4|      5.9|              null|    null|                 null|\n",
      "|2020-01-08|      0.8|      4.9|              null|    null|                 null|\n",
      "|2020-01-09|     -2.3|      0.4|              null|    null|                 null|\n",
      "|2020-01-10|      4.8|     11.0|              null|    null|                 null|\n",
      "|2020-01-11|     13.6|     18.2|              null|    null|                 null|\n",
      "|2020-01-12|     14.6|     18.6|              null|    null|                 null|\n",
      "|2020-01-13|      4.7|      8.7|              null|    null|                 null|\n",
      "|2020-01-14|      4.0|      6.6|              null|    null|                 null|\n",
      "|2020-01-15|      5.5|      9.2|              null|    null|                 null|\n",
      "|2020-01-16|      5.5|      8.5|              null|    null|                 null|\n",
      "|2020-01-17|     -3.3|      0.6|              null|    null|                 null|\n",
      "|2020-01-18|     -3.3|      2.3|              null|    null|                 null|\n",
      "|2020-01-19|      2.6|      6.9|              null|    null|                 null|\n",
      "|2020-01-20|     -4.1|     -1.0|              null|    null|                 null|\n",
      "+----------+---------+---------+------------------+--------+---------------------+\n",
      "only showing top 20 rows\n",
      "\n"
     ]
    },
    {
     "name": "stderr",
     "output_type": "stream",
     "text": [
      "\r",
      "                                                                                \r"
     ]
    }
   ],
   "source": [
    "df_tempurature_spark.show()"
   ]
  },
  {
   "cell_type": "code",
   "execution_count": 8,
   "id": "42a37a41",
   "metadata": {},
   "outputs": [],
   "source": [
    "filtered_tempurature_df = df_tempurature_spark.select(\n",
    "    col(\"latitude\").alias(\"Date\"),\n",
    "    col(\"longitude\").alias(\"Min_temp\"),\n",
    "    col(\"elevation\").alias(\"Max_temp\")\n",
    ")"
   ]
  },
  {
   "cell_type": "code",
   "execution_count": 9,
   "id": "13772012",
   "metadata": {},
   "outputs": [
    {
     "name": "stdout",
     "output_type": "stream",
     "text": [
      "+----------+--------+--------+\n",
      "|      Date|Min_temp|Max_temp|\n",
      "+----------+--------+--------+\n",
      "|2020-01-01|     2.1|     4.2|\n",
      "|2020-01-02|     2.3|     8.8|\n",
      "|2020-01-03|     6.3|     9.2|\n",
      "|2020-01-04|     7.5|     9.9|\n",
      "|2020-01-05|     2.5|     5.0|\n",
      "|2020-01-06|     2.6|     7.5|\n",
      "|2020-01-07|     2.4|     5.9|\n",
      "|2020-01-08|     0.8|     4.9|\n",
      "|2020-01-09|    -2.3|     0.4|\n",
      "|2020-01-10|     4.8|    11.0|\n",
      "|2020-01-11|    13.6|    18.2|\n",
      "|2020-01-12|    14.6|    18.6|\n",
      "|2020-01-13|     4.7|     8.7|\n",
      "|2020-01-14|     4.0|     6.6|\n",
      "|2020-01-15|     5.5|     9.2|\n",
      "|2020-01-16|     5.5|     8.5|\n",
      "|2020-01-17|    -3.3|     0.6|\n",
      "|2020-01-18|    -3.3|     2.3|\n",
      "|2020-01-19|     2.6|     6.9|\n",
      "|2020-01-20|    -4.1|    -1.0|\n",
      "+----------+--------+--------+\n",
      "only showing top 20 rows\n",
      "\n"
     ]
    }
   ],
   "source": [
    "filtered_tempurature_df.show()"
   ]
  },
  {
   "cell_type": "code",
   "execution_count": 10,
   "id": "ee1e04fa",
   "metadata": {},
   "outputs": [],
   "source": [
    "filtered_tempurature_df = filtered_tempurature_df.withColumn(\"Avg_temp\", (col(\"Min_temp\") + col(\"Max_temp\")) / 2)"
   ]
  },
  {
   "cell_type": "code",
   "execution_count": 11,
   "id": "bb3f872f",
   "metadata": {},
   "outputs": [
    {
     "name": "stdout",
     "output_type": "stream",
     "text": [
      "+----------+--------+--------+-------------------+\n",
      "|      Date|Min_temp|Max_temp|           Avg_temp|\n",
      "+----------+--------+--------+-------------------+\n",
      "|2020-01-01|     2.1|     4.2| 3.1500000000000004|\n",
      "|2020-01-02|     2.3|     8.8|  5.550000000000001|\n",
      "|2020-01-03|     6.3|     9.2|               7.75|\n",
      "|2020-01-04|     7.5|     9.9|                8.7|\n",
      "|2020-01-05|     2.5|     5.0|               3.75|\n",
      "|2020-01-06|     2.6|     7.5|               5.05|\n",
      "|2020-01-07|     2.4|     5.9|               4.15|\n",
      "|2020-01-08|     0.8|     4.9|               2.85|\n",
      "|2020-01-09|    -2.3|     0.4|              -0.95|\n",
      "|2020-01-10|     4.8|    11.0|                7.9|\n",
      "|2020-01-11|    13.6|    18.2| 15.899999999999999|\n",
      "|2020-01-12|    14.6|    18.6|               16.6|\n",
      "|2020-01-13|     4.7|     8.7|  6.699999999999999|\n",
      "|2020-01-14|     4.0|     6.6|                5.3|\n",
      "|2020-01-15|     5.5|     9.2|               7.35|\n",
      "|2020-01-16|     5.5|     8.5|                7.0|\n",
      "|2020-01-17|    -3.3|     0.6|-1.3499999999999999|\n",
      "|2020-01-18|    -3.3|     2.3|               -0.5|\n",
      "|2020-01-19|     2.6|     6.9|               4.75|\n",
      "|2020-01-20|    -4.1|    -1.0|              -2.55|\n",
      "+----------+--------+--------+-------------------+\n",
      "only showing top 20 rows\n",
      "\n"
     ]
    }
   ],
   "source": [
    "filtered_tempurature_df.show()"
   ]
  },
  {
   "cell_type": "code",
   "execution_count": 12,
   "id": "44092e66",
   "metadata": {},
   "outputs": [],
   "source": [
    "import json\n",
    "\n",
    "with open('secrets.json', 'r') as file:\n",
    "    secret_data = json.load(file)\n",
    "\n"
   ]
  },
  {
   "cell_type": "code",
   "execution_count": 13,
   "id": "fa7886b1",
   "metadata": {},
   "outputs": [],
   "source": [
    "api_data_start = \"2020-01-01\"\n",
    "\n",
    "api_key_arg = \"&api_key=\" + secret_data.get(\"eia_api_key\")\n",
    "api_start_arg = \"&start=\" + api_data_start"
   ]
  },
  {
   "cell_type": "code",
   "execution_count": null,
   "id": "9917eac7",
   "metadata": {},
   "outputs": [],
   "source": []
  },
  {
   "cell_type": "code",
   "execution_count": 14,
   "id": "796e3273",
   "metadata": {},
   "outputs": [],
   "source": [
    "data_endpoint = \"https://api.eia.gov/v2/electricity/rto/daily-region-data/data/?frequency=daily&data[0]=value&facets[respondent][]=NY&facets[timezone][]=Eastern&facets[type][]=D&sort[0][column]=period&sort[0][direction]=desc&offset=0&length=5000\""
   ]
  },
  {
   "cell_type": "code",
   "execution_count": null,
   "id": "d6532a28",
   "metadata": {},
   "outputs": [],
   "source": []
  },
  {
   "cell_type": "code",
   "execution_count": 15,
   "id": "ecd595db",
   "metadata": {},
   "outputs": [
    {
     "name": "stdout",
     "output_type": "stream",
     "text": [
      "request succeeded\n"
     ]
    }
   ],
   "source": [
    "\n",
    "response = requests.get(data_endpoint+api_start_arg+api_key_arg)\n",
    "\n",
    "if response.status_code == 200:\n",
    "    data = response.json()\n",
    "    print(\"request succeeded\")\n",
    "\n",
    "else:\n",
    "    print(\"request failed\")"
   ]
  },
  {
   "cell_type": "code",
   "execution_count": null,
   "id": "18e2f980",
   "metadata": {},
   "outputs": [],
   "source": []
  },
  {
   "cell_type": "code",
   "execution_count": 16,
   "id": "cf4188b0",
   "metadata": {},
   "outputs": [],
   "source": [
    "raw_df = pd.DataFrame(data.get(\"response\").get(\"data\"))\n"
   ]
  },
  {
   "cell_type": "code",
   "execution_count": 17,
   "id": "1c0aac7a",
   "metadata": {},
   "outputs": [],
   "source": [
    "raw_df.to_csv('raw-data.csv')"
   ]
  },
  {
   "cell_type": "code",
   "execution_count": 18,
   "id": "bf139802",
   "metadata": {},
   "outputs": [
    {
     "name": "stdout",
     "output_type": "stream",
     "text": [
      "+---+----------+----------+---------------+----+---------+--------+--------------------+------+-------------+\n",
      "|_c0|    period|respondent|respondent-name|type|type-name|timezone|timezone-description| value|  value-units|\n",
      "+---+----------+----------+---------------+----+---------+--------+--------------------+------+-------------+\n",
      "|  0|2025-04-03|        NY|       New York|   D|   Demand| Eastern|             Eastern|377519|megawatthours|\n",
      "|  1|2025-04-02|        NY|       New York|   D|   Demand| Eastern|             Eastern|387527|megawatthours|\n",
      "|  2|2025-04-01|        NY|       New York|   D|   Demand| Eastern|             Eastern|358784|megawatthours|\n",
      "|  3|2025-03-31|        NY|       New York|   D|   Demand| Eastern|             Eastern|370439|megawatthours|\n",
      "|  4|2025-03-30|        NY|       New York|   D|   Demand| Eastern|             Eastern|360251|megawatthours|\n",
      "|  5|2025-03-29|        NY|       New York|   D|   Demand| Eastern|             Eastern|356584|megawatthours|\n",
      "|  6|2025-03-28|        NY|       New York|   D|   Demand| Eastern|             Eastern|373815|megawatthours|\n",
      "|  7|2025-03-27|        NY|       New York|   D|   Demand| Eastern|             Eastern|371568|megawatthours|\n",
      "|  8|2025-03-26|        NY|       New York|   D|   Demand| Eastern|             Eastern|383131|megawatthours|\n",
      "|  9|2025-03-25|        NY|       New York|   D|   Demand| Eastern|             Eastern|378674|megawatthours|\n",
      "| 10|2025-03-24|        NY|       New York|   D|   Demand| Eastern|             Eastern|398827|megawatthours|\n",
      "| 11|2025-03-23|        NY|       New York|   D|   Demand| Eastern|             Eastern|351612|megawatthours|\n",
      "| 12|2025-03-22|        NY|       New York|   D|   Demand| Eastern|             Eastern|354942|megawatthours|\n",
      "| 13|2025-03-21|        NY|       New York|   D|   Demand| Eastern|             Eastern|360106|megawatthours|\n",
      "| 14|2025-03-20|        NY|       New York|   D|   Demand| Eastern|             Eastern|365904|megawatthours|\n",
      "| 15|2025-03-19|        NY|       New York|   D|   Demand| Eastern|             Eastern|354325|megawatthours|\n",
      "| 16|2025-03-18|        NY|       New York|   D|   Demand| Eastern|             Eastern|367109|megawatthours|\n",
      "| 17|2025-03-17|        NY|       New York|   D|   Demand| Eastern|             Eastern|383316|megawatthours|\n",
      "| 18|2025-03-16|        NY|       New York|   D|   Demand| Eastern|             Eastern|350585|megawatthours|\n",
      "| 19|2025-03-15|        NY|       New York|   D|   Demand| Eastern|             Eastern|353508|megawatthours|\n",
      "+---+----------+----------+---------------+----+---------+--------+--------------------+------+-------------+\n",
      "only showing top 20 rows\n",
      "\n"
     ]
    },
    {
     "name": "stderr",
     "output_type": "stream",
     "text": [
      "25/04/04 10:30:36 WARN CSVHeaderChecker: CSV header does not conform to the schema.\n",
      " Header: , period, respondent, respondent-name, type, type-name, timezone, timezone-description, value, value-units\n",
      " Schema: _c0, period, respondent, respondent-name, type, type-name, timezone, timezone-description, value, value-units\n",
      "Expected: _c0 but found: \n",
      "CSV file: hdfs://localhost:9000/staging/eia/raw-data.csv\n"
     ]
    }
   ],
   "source": [
    "\n",
    "\n",
    "os.system(\"hdfs dfs -put -f ./raw-data.csv /staging/eia\")\n",
    "df_spark = spark.read.csv('hdfs:///staging/eia/raw-data.csv', header=True, inferSchema=True)\n",
    "\n",
    "df_spark.show()"
   ]
  },
  {
   "cell_type": "raw",
   "id": "ac1186ca",
   "metadata": {},
   "source": []
  },
  {
   "cell_type": "code",
   "execution_count": 19,
   "id": "5b191230",
   "metadata": {},
   "outputs": [],
   "source": [
    "\n",
    "\n",
    "filtered_spark_df = df_spark.select(\n",
    "    col(\"period\").alias(\"Date\"),\n",
    "    col(\"value\").alias(\"MWh\")\n",
    ")"
   ]
  },
  {
   "cell_type": "code",
   "execution_count": null,
   "id": "9bbb85e5",
   "metadata": {},
   "outputs": [],
   "source": []
  },
  {
   "cell_type": "code",
   "execution_count": 20,
   "id": "08da28e7",
   "metadata": {},
   "outputs": [
    {
     "name": "stdout",
     "output_type": "stream",
     "text": [
      "+----------+------+\n",
      "|      Date|   MWh|\n",
      "+----------+------+\n",
      "|2025-04-03|377519|\n",
      "|2025-04-02|387527|\n",
      "|2025-04-01|358784|\n",
      "|2025-03-31|370439|\n",
      "|2025-03-30|360251|\n",
      "|2025-03-29|356584|\n",
      "|2025-03-28|373815|\n",
      "|2025-03-27|371568|\n",
      "|2025-03-26|383131|\n",
      "|2025-03-25|378674|\n",
      "|2025-03-24|398827|\n",
      "|2025-03-23|351612|\n",
      "|2025-03-22|354942|\n",
      "|2025-03-21|360106|\n",
      "|2025-03-20|365904|\n",
      "|2025-03-19|354325|\n",
      "|2025-03-18|367109|\n",
      "|2025-03-17|383316|\n",
      "|2025-03-16|350585|\n",
      "|2025-03-15|353508|\n",
      "+----------+------+\n",
      "only showing top 20 rows\n",
      "\n"
     ]
    }
   ],
   "source": [
    "filtered_spark_df.show()"
   ]
  },
  {
   "cell_type": "code",
   "execution_count": 21,
   "id": "96237ee8",
   "metadata": {},
   "outputs": [],
   "source": [
    "#df = raw_df[['period', 'value']]"
   ]
  },
  {
   "cell_type": "code",
   "execution_count": null,
   "id": "0c3ceb12",
   "metadata": {},
   "outputs": [],
   "source": []
  },
  {
   "cell_type": "code",
   "execution_count": null,
   "id": "f995e6dc",
   "metadata": {},
   "outputs": [],
   "source": []
  },
  {
   "cell_type": "code",
   "execution_count": 22,
   "id": "40103052",
   "metadata": {},
   "outputs": [
    {
     "name": "stdout",
     "output_type": "stream",
     "text": [
      "+----------+------+---+-----+\n",
      "|      Date|   MWh|Day|Month|\n",
      "+----------+------+---+-----+\n",
      "|2025-04-03|377519|  5|    4|\n",
      "|2025-04-02|387527|  4|    4|\n",
      "|2025-04-01|358784|  3|    4|\n",
      "|2025-03-31|370439|  2|    3|\n",
      "|2025-03-30|360251|  1|    3|\n",
      "|2025-03-29|356584|  7|    3|\n",
      "|2025-03-28|373815|  6|    3|\n",
      "|2025-03-27|371568|  5|    3|\n",
      "|2025-03-26|383131|  4|    3|\n",
      "|2025-03-25|378674|  3|    3|\n",
      "|2025-03-24|398827|  2|    3|\n",
      "|2025-03-23|351612|  1|    3|\n",
      "|2025-03-22|354942|  7|    3|\n",
      "|2025-03-21|360106|  6|    3|\n",
      "|2025-03-20|365904|  5|    3|\n",
      "|2025-03-19|354325|  4|    3|\n",
      "|2025-03-18|367109|  3|    3|\n",
      "|2025-03-17|383316|  2|    3|\n",
      "|2025-03-16|350585|  1|    3|\n",
      "|2025-03-15|353508|  7|    3|\n",
      "+----------+------+---+-----+\n",
      "only showing top 20 rows\n",
      "\n"
     ]
    }
   ],
   "source": [
    "features_df = filtered_spark_df.withColumn(\"Day\", F.dayofweek(\"Date\"))\n",
    "features_df = features_df.withColumn(\"Month\", F.month(\"Date\"))\n",
    "features_df.show()"
   ]
  },
  {
   "cell_type": "code",
   "execution_count": 23,
   "id": "2af5aede",
   "metadata": {},
   "outputs": [],
   "source": [
    "\n",
    "#features_df.write.mode(\"overwrite\").option(\"header\", True).csv(\"hdfs:///unscaled/\")"
   ]
  },
  {
   "cell_type": "code",
   "execution_count": 24,
   "id": "4811196d",
   "metadata": {},
   "outputs": [],
   "source": [
    "joined_df = filtered_spark_df.join(filtered_tempurature_df, on=\"date\", how=\"inner\")  "
   ]
  },
  {
   "cell_type": "code",
   "execution_count": 25,
   "id": "c2b13dc4",
   "metadata": {},
   "outputs": [
    {
     "name": "stdout",
     "output_type": "stream",
     "text": [
      "+----------+------+--------+--------+-------------------+\n",
      "|      Date|   MWh|Min_temp|Max_temp|           Avg_temp|\n",
      "+----------+------+--------+--------+-------------------+\n",
      "|2020-01-01|395316|     2.1|     4.2| 3.1500000000000004|\n",
      "|2020-01-02|416985|     2.3|     8.8|  5.550000000000001|\n",
      "|2020-01-03|411481|     6.3|     9.2|               7.75|\n",
      "|2020-01-04|389879|     7.5|     9.9|                8.7|\n",
      "|2020-01-05|396540|     2.5|     5.0|               3.75|\n",
      "|2020-01-06|432354|     2.6|     7.5|               5.05|\n",
      "|2020-01-07|432730|     2.4|     5.9|               4.15|\n",
      "|2020-01-08|441775|     0.8|     4.9|               2.85|\n",
      "|2020-01-09|457121|    -2.3|     0.4|              -0.95|\n",
      "|2020-01-10|430162|     4.8|    11.0|                7.9|\n",
      "|2020-01-11|374525|    13.6|    18.2| 15.899999999999999|\n",
      "|2020-01-12|366821|    14.6|    18.6|               16.6|\n",
      "|2020-01-13|419733|     4.7|     8.7|  6.699999999999999|\n",
      "|2020-01-14|418257|     4.0|     6.6|                5.3|\n",
      "|2020-01-15|408105|     5.5|     9.2|               7.35|\n",
      "|2020-01-16|424414|     5.5|     8.5|                7.0|\n",
      "|2020-01-17|457882|    -3.3|     0.6|-1.3499999999999999|\n",
      "|2020-01-18|449093|    -3.3|     2.3|               -0.5|\n",
      "|2020-01-19|412874|     2.6|     6.9|               4.75|\n",
      "|2020-01-20|455573|    -4.1|    -1.0|              -2.55|\n",
      "+----------+------+--------+--------+-------------------+\n",
      "only showing top 20 rows\n",
      "\n"
     ]
    }
   ],
   "source": [
    "joined_df.show()"
   ]
  },
  {
   "cell_type": "code",
   "execution_count": null,
   "id": "518109ca",
   "metadata": {},
   "outputs": [],
   "source": []
  },
  {
   "cell_type": "code",
   "execution_count": 26,
   "id": "d4f32622",
   "metadata": {},
   "outputs": [],
   "source": [
    "#df_spark_test = spark.read.option(\"header\", True).option(\"inferSchema\", True).csv(\"hdfs:///unscaled/\")\n",
    "#df_spark_test.show()\n",
    "\n",
    "\n",
    "##hdfs dfs -getmerge /unscaled/ ./unscaled-data.csv"
   ]
  },
  {
   "cell_type": "code",
   "execution_count": 27,
   "id": "9ad4dbf1",
   "metadata": {},
   "outputs": [],
   "source": [
    "## RNN"
   ]
  },
  {
   "cell_type": "code",
   "execution_count": 28,
   "id": "47e04593",
   "metadata": {},
   "outputs": [],
   "source": [
    "#RNN_df = features_df.select(\"Date\", \"MWh\")"
   ]
  },
  {
   "cell_type": "code",
   "execution_count": 29,
   "id": "52b8daf5",
   "metadata": {},
   "outputs": [],
   "source": [
    "\n",
    "def scale_features(df):\n",
    "    this_df = df\n",
    "    \n",
    "    for index, column in enumerate(df.columns):\n",
    "        if column != \"Date\":\n",
    "            assembler = VectorAssembler(inputCols=[column], outputCol=\"feature_\"+column)\n",
    "            df_vec = assembler.transform(this_df)\n",
    "            #print(df_vec)\n",
    "            scaler = MinMaxScaler(inputCol=\"feature_\"+column, outputCol=\"scaled_\"+column)\n",
    "            scaler_model = scaler.fit(df_vec)\n",
    "            scaled_df = scaler_model.transform(df_vec)\n",
    "            extract_element = udf(lambda v: float(v[0]), DoubleType())\n",
    "            #print(\"scaled_\"+column)\n",
    "            this_df = scaled_df.withColumn(\"scaled_\"+column, extract_element(col(\"scaled_\"+column)))\n",
    "\n",
    "    return this_df\n"
   ]
  },
  {
   "cell_type": "code",
   "execution_count": 30,
   "id": "a346724a",
   "metadata": {},
   "outputs": [
    {
     "name": "stderr",
     "output_type": "stream",
     "text": [
      "                                                                                \r"
     ]
    }
   ],
   "source": [
    "scaled_features_df = scale_features(features_df)"
   ]
  },
  {
   "cell_type": "code",
   "execution_count": 31,
   "id": "b20e416a",
   "metadata": {},
   "outputs": [],
   "source": [
    "filtered_scaled_feature = scaled_features_df.select(\"Date\", \"scaled_MWh\", \"scaled_Day\", \"scaled_Month\")"
   ]
  },
  {
   "cell_type": "code",
   "execution_count": 32,
   "id": "2f079ce8",
   "metadata": {
    "scrolled": false
   },
   "outputs": [
    {
     "name": "stderr",
     "output_type": "stream",
     "text": [
      "\r",
      "[Stage 22:>                                                         (0 + 1) / 1]\r"
     ]
    },
    {
     "name": "stdout",
     "output_type": "stream",
     "text": [
      "+----------+-------------------+-------------------+-------------------+\n",
      "|      Date|         scaled_MWh|         scaled_Day|       scaled_Month|\n",
      "+----------+-------------------+-------------------+-------------------+\n",
      "|2025-04-03| 0.2215267487609218| 0.6666666666666666| 0.2727272727272727|\n",
      "|2025-04-02| 0.2534873026416637|                0.5| 0.2727272727272727|\n",
      "|2025-04-01| 0.1616965152521588| 0.3333333333333333| 0.2727272727272727|\n",
      "|2025-03-31| 0.1989167646006847|0.16666666666666666|0.18181818181818182|\n",
      "|2025-03-30|0.16638138061417404|                0.0|0.18181818181818182|\n",
      "|2025-03-29|0.15467081395942978|                1.0|0.18181818181818182|\n",
      "|2025-03-28|0.20969802258443618| 0.8333333333333333|0.18181818181818182|\n",
      "|2025-03-27|0.20252222676408974| 0.6666666666666666|0.18181818181818182|\n",
      "|2025-03-26|0.23944867405855605|                0.5|0.18181818181818182|\n",
      "|2025-03-25|0.22521524193960452| 0.3333333333333333|0.18181818181818182|\n",
      "|2025-03-24|0.28957385928159013|0.16666666666666666|0.18181818181818182|\n",
      "|2025-03-23|0.13879272903786216|                0.0|0.18181818181818182|\n",
      "|2025-03-22|0.14942708599458382|                1.0|0.18181818181818182|\n",
      "|2025-03-21|0.16591832302897144| 0.8333333333333333|0.18181818181818182|\n",
      "|2025-03-20|0.18443423943590007| 0.6666666666666666|0.18181818181818182|\n",
      "|2025-03-19| 0.1474566961320321|                0.5|0.18181818181818182|\n",
      "|2025-03-18|  0.188282407643963| 0.3333333333333333|0.18181818181818182|\n",
      "|2025-03-17| 0.2400394716672628|0.16666666666666666|0.18181818181818182|\n",
      "|2025-03-16|0.13551300393439272|                0.0|0.18181818181818182|\n",
      "|2025-03-15|0.14484760615195955|                1.0|0.18181818181818182|\n",
      "+----------+-------------------+-------------------+-------------------+\n",
      "only showing top 20 rows\n",
      "\n"
     ]
    },
    {
     "name": "stderr",
     "output_type": "stream",
     "text": [
      "\r",
      "                                                                                \r"
     ]
    }
   ],
   "source": [
    "filtered_scaled_feature.show()"
   ]
  },
  {
   "cell_type": "code",
   "execution_count": 33,
   "id": "d10b78da",
   "metadata": {},
   "outputs": [
    {
     "name": "stderr",
     "output_type": "stream",
     "text": [
      "                                                                                \r"
     ]
    }
   ],
   "source": [
    "filtered_scaled_feature.write.mode(\"overwrite\").option(\"header\", True).csv(\"hdfs:///transformed/\")"
   ]
  },
  {
   "cell_type": "code",
   "execution_count": 34,
   "id": "4fa924be",
   "metadata": {},
   "outputs": [],
   "source": [
    "########## hdfs dfs -getmerge /transformed/ ./transformed.csv"
   ]
  },
  {
   "cell_type": "code",
   "execution_count": 35,
   "id": "98421c6a",
   "metadata": {},
   "outputs": [
    {
     "name": "stdout",
     "output_type": "stream",
     "text": [
      "+----------+-------------------+-------------------+-------------------+\n",
      "|      Date|         scaled_MWh|         scaled_Day|       scaled_Month|\n",
      "+----------+-------------------+-------------------+-------------------+\n",
      "|2025-04-03| 0.2215267487609218| 0.6666666666666666| 0.2727272727272727|\n",
      "|2025-04-02| 0.2534873026416637|                0.5| 0.2727272727272727|\n",
      "|2025-04-01| 0.1616965152521588| 0.3333333333333333| 0.2727272727272727|\n",
      "|2025-03-31| 0.1989167646006847|0.16666666666666666|0.18181818181818182|\n",
      "|2025-03-30|0.16638138061417404|                0.0|0.18181818181818182|\n",
      "|2025-03-29|0.15467081395942978|                1.0|0.18181818181818182|\n",
      "|2025-03-28|0.20969802258443618| 0.8333333333333333|0.18181818181818182|\n",
      "|2025-03-27|0.20252222676408974| 0.6666666666666666|0.18181818181818182|\n",
      "|2025-03-26|0.23944867405855605|                0.5|0.18181818181818182|\n",
      "|2025-03-25|0.22521524193960452| 0.3333333333333333|0.18181818181818182|\n",
      "|2025-03-24|0.28957385928159013|0.16666666666666666|0.18181818181818182|\n",
      "|2025-03-23|0.13879272903786216|                0.0|0.18181818181818182|\n",
      "|2025-03-22|0.14942708599458382|                1.0|0.18181818181818182|\n",
      "|2025-03-21|0.16591832302897144| 0.8333333333333333|0.18181818181818182|\n",
      "|2025-03-20|0.18443423943590007| 0.6666666666666666|0.18181818181818182|\n",
      "|2025-03-19| 0.1474566961320321|                0.5|0.18181818181818182|\n",
      "|2025-03-18|  0.188282407643963| 0.3333333333333333|0.18181818181818182|\n",
      "|2025-03-17| 0.2400394716672628|0.16666666666666666|0.18181818181818182|\n",
      "|2025-03-16|0.13551300393439272|                0.0|0.18181818181818182|\n",
      "|2025-03-15|0.14484760615195955|                1.0|0.18181818181818182|\n",
      "+----------+-------------------+-------------------+-------------------+\n",
      "only showing top 20 rows\n",
      "\n"
     ]
    }
   ],
   "source": [
    "df_spark_test = spark.read.option(\"header\", True).option(\"inferSchema\", True).csv(\"hdfs:///transformed/\")\n",
    "df_spark_test.show()"
   ]
  },
  {
   "cell_type": "code",
   "execution_count": null,
   "id": "a9779d60",
   "metadata": {},
   "outputs": [],
   "source": []
  },
  {
   "cell_type": "code",
   "execution_count": null,
   "id": "02c5c385",
   "metadata": {},
   "outputs": [],
   "source": []
  },
  {
   "cell_type": "code",
   "execution_count": null,
   "id": "65287fd2",
   "metadata": {},
   "outputs": [],
   "source": []
  },
  {
   "cell_type": "code",
   "execution_count": 36,
   "id": "c0f0f362",
   "metadata": {},
   "outputs": [],
   "source": [
    "#RNN_df_scaled.write.mode(\"overwrite\").option(\"header\", True).csv(\"hdfs:///transformed/\")"
   ]
  },
  {
   "cell_type": "code",
   "execution_count": 37,
   "id": "53600e86",
   "metadata": {},
   "outputs": [],
   "source": [
    "########## hdfs dfs -getmerge /transformed/ ./transformed.csv"
   ]
  },
  {
   "cell_type": "markdown",
   "id": "db4905bb",
   "metadata": {},
   "source": [
    "Code to prepare for RNN"
   ]
  },
  {
   "cell_type": "code",
   "execution_count": 38,
   "id": "52f033d7",
   "metadata": {},
   "outputs": [],
   "source": [
    "RNN_spark_df = filtered_scaled_feature.select(\"Date\", \"scaled_MWh\") "
   ]
  },
  {
   "cell_type": "code",
   "execution_count": 39,
   "id": "61b4e989",
   "metadata": {},
   "outputs": [
    {
     "name": "stdout",
     "output_type": "stream",
     "text": [
      "+----------+-------------------+\n",
      "|      Date|         scaled_MWh|\n",
      "+----------+-------------------+\n",
      "|2025-04-03| 0.2215267487609218|\n",
      "|2025-04-02| 0.2534873026416637|\n",
      "|2025-04-01| 0.1616965152521588|\n",
      "|2025-03-31| 0.1989167646006847|\n",
      "|2025-03-30|0.16638138061417404|\n",
      "|2025-03-29|0.15467081395942978|\n",
      "|2025-03-28|0.20969802258443618|\n",
      "|2025-03-27|0.20252222676408974|\n",
      "|2025-03-26|0.23944867405855605|\n",
      "|2025-03-25|0.22521524193960452|\n",
      "|2025-03-24|0.28957385928159013|\n",
      "|2025-03-23|0.13879272903786216|\n",
      "|2025-03-22|0.14942708599458382|\n",
      "|2025-03-21|0.16591832302897144|\n",
      "|2025-03-20|0.18443423943590007|\n",
      "|2025-03-19| 0.1474566961320321|\n",
      "|2025-03-18|  0.188282407643963|\n",
      "|2025-03-17| 0.2400394716672628|\n",
      "|2025-03-16|0.13551300393439272|\n",
      "|2025-03-15|0.14484760615195955|\n",
      "+----------+-------------------+\n",
      "only showing top 20 rows\n",
      "\n"
     ]
    }
   ],
   "source": [
    "## Ensure correct direction\n",
    "\n",
    "#RNN_spark_df = RNN_spark_df.orderBy(col(\"Date\").desc())\n",
    "\n",
    "RNN_spark_df.show()"
   ]
  },
  {
   "cell_type": "code",
   "execution_count": 40,
   "id": "6275578d",
   "metadata": {},
   "outputs": [],
   "source": [
    "#RNN_spark_df = filtered_scaled_feature.select( \"scaled_MWh\") "
   ]
  },
  {
   "cell_type": "code",
   "execution_count": 41,
   "id": "4a36cc6b",
   "metadata": {},
   "outputs": [
    {
     "name": "stdout",
     "output_type": "stream",
     "text": [
      "+----------+-------------------+-------------------+-------------------+-------------------+-------------------+-------------------+-------------------+\n",
      "|      Date|         scaled_MWh|              lag_1|              lag_2|              lag_3|              lag_4|              lag_5|              lag_6|\n",
      "+----------+-------------------+-------------------+-------------------+-------------------+-------------------+-------------------+-------------------+\n",
      "|2020-01-07| 0.3978431097031322|0.39664235348219307| 0.2822703234377395|0.26099841602370855| 0.3299844157171325|0.34756144295130553| 0.2783614787185121|\n",
      "|2020-01-08|0.42672832251801135| 0.3978431097031322|0.39664235348219307| 0.2822703234377395|0.26099841602370855| 0.3299844157171325|0.34756144295130553|\n",
      "|2020-01-09|  0.475735782535384|0.42672832251801135| 0.3978431097031322|0.39664235348219307| 0.2822703234377395|0.26099841602370855| 0.3299844157171325|\n",
      "|2020-01-10|0.38964220019416484|  0.475735782535384|0.42672832251801135| 0.3978431097031322|0.39664235348219307| 0.2822703234377395|0.26099841602370855|\n",
      "|2020-01-11|0.21196540800163508|0.38964220019416484|  0.475735782535384|0.42672832251801135| 0.3978431097031322|0.39664235348219307| 0.2822703234377395|\n",
      "|2020-01-12|0.18736267947473303|0.21196540800163508|0.38964220019416484|  0.475735782535384|0.42672832251801135| 0.3978431097031322|0.39664235348219307|\n",
      "|2020-01-13|0.35633718256604163|0.18736267947473303|0.21196540800163508|0.38964220019416484|  0.475735782535384|0.42672832251801135| 0.3978431097031322|\n",
      "|2020-01-14| 0.3516235756987379|0.35633718256604163|0.18736267947473303|0.21196540800163508|0.38964220019416484|  0.475735782535384|0.42672832251801135|\n",
      "|2020-01-15|0.31920315773338104| 0.3516235756987379|0.35633718256604163|0.18736267947473303|0.21196540800163508|0.38964220019416484|  0.475735782535384|\n",
      "|2020-01-16| 0.3712859588166164|0.31920315773338104| 0.3516235756987379|0.35633718256604163|0.18736267947473303|0.21196540800163508|0.38964220019416484|\n",
      "|2020-01-17|0.47816603648255074| 0.3712859588166164|0.31920315773338104| 0.3516235756987379|0.35633718256604163|0.18736267947473303|0.21196540800163508|\n",
      "|2020-01-18| 0.4500983598180982|0.47816603648255074| 0.3712859588166164|0.31920315773338104| 0.3516235756987379|0.35633718256604163|0.18736267947473303|\n",
      "|2020-01-19|  0.334432962035665| 0.4500983598180982|0.47816603648255074| 0.3712859588166164|0.31920315773338104| 0.3516235756987379|0.35633718256604163|\n",
      "|2020-01-20| 0.4707922436257728|  0.334432962035665| 0.4500983598180982|0.47816603648255074| 0.3712859588166164|0.31920315773338104| 0.3516235756987379|\n",
      "|2020-01-21| 0.5056045935312452| 0.4707922436257728|  0.334432962035665| 0.4500983598180982|0.47816603648255074| 0.3712859588166164|0.31920315773338104|\n",
      "|2020-01-22| 0.4557412753563947| 0.5056045935312452| 0.4707922436257728|  0.334432962035665| 0.4500983598180982|0.47816603648255074| 0.3712859588166164|\n",
      "|2020-01-23| 0.4193736906647591| 0.4557412753563947| 0.5056045935312452| 0.4707922436257728|  0.334432962035665| 0.4500983598180982|0.47816603648255074|\n",
      "|2020-01-24| 0.3567874661488938| 0.4193736906647591| 0.4557412753563947| 0.5056045935312452| 0.4707922436257728|  0.334432962035665| 0.4500983598180982|\n",
      "|2020-01-25|0.30287159572837363| 0.3567874661488938| 0.4193736906647591| 0.4557412753563947| 0.5056045935312452| 0.4707922436257728|  0.334432962035665|\n",
      "|2020-01-26|0.26114851055132593|0.30287159572837363| 0.3567874661488938| 0.4193736906647591| 0.4557412753563947| 0.5056045935312452| 0.4707922436257728|\n",
      "+----------+-------------------+-------------------+-------------------+-------------------+-------------------+-------------------+-------------------+\n",
      "only showing top 20 rows\n",
      "\n"
     ]
    }
   ],
   "source": [
    "\n",
    "\n",
    "\n",
    "temp_df = RNN_spark_df.withColumn(\"part_id\", lit(1)).orderBy(\"Date\")\n",
    "\n",
    "\n",
    "w = Window.partitionBy(\"part_id\").orderBy(\"Date\")\n",
    "\n",
    "for i in range(1, 7):\n",
    "    temp_df = temp_df.withColumn(f\"lag_{i}\", lag(\"scaled_MWh\", i).over(w))\n",
    "\n",
    "temp_df = temp_df.dropna()\n",
    "temp_df = temp_df.withColumnRenamed(\"scaled_MWh\", \"scaled_MWh\")\n",
    "\n",
    "final_cols = [\"Date\",\"scaled_MWh\"] + [f\"lag_{i}\" for i in range(1, 7)]\n",
    "RNN_spark_df = temp_df.select(final_cols)\n",
    "RNN_spark_df.show()\n"
   ]
  },
  {
   "cell_type": "code",
   "execution_count": 42,
   "id": "361de6cc",
   "metadata": {},
   "outputs": [
    {
     "name": "stdout",
     "output_type": "stream",
     "text": [
      "+----------+-------------------+-------------------+-------------------+\n",
      "|      Date|         scaled_MWh|              lag_1|              lag_2|\n",
      "+----------+-------------------+-------------------+-------------------+\n",
      "|2025-04-03| 0.2215267487609218| 0.2534873026416637| 0.1616965152521588|\n",
      "|2025-04-02| 0.2534873026416637| 0.1616965152521588| 0.1989167646006847|\n",
      "|2025-04-01| 0.1616965152521588| 0.1989167646006847|0.16638138061417404|\n",
      "|2025-03-31| 0.1989167646006847|0.16638138061417404|0.15467081395942978|\n",
      "|2025-03-30|0.16638138061417404|0.15467081395942978|0.20969802258443618|\n",
      "|2025-03-29|0.15467081395942978|0.20969802258443618|0.20252222676408974|\n",
      "|2025-03-28|0.20969802258443618|0.20252222676408974|0.23944867405855605|\n",
      "|2025-03-27|0.20252222676408974|0.23944867405855605|0.22521524193960452|\n",
      "|2025-03-26|0.23944867405855605|0.22521524193960452|0.28957385928159013|\n",
      "|2025-03-25|0.22521524193960452|0.28957385928159013|0.13879272903786216|\n",
      "|2025-03-24|0.28957385928159013|0.13879272903786216|0.14942708599458382|\n",
      "|2025-03-23|0.13879272903786216|0.14942708599458382|0.16591832302897144|\n",
      "|2025-03-22|0.14942708599458382|0.16591832302897144|0.18443423943590007|\n",
      "|2025-03-21|0.16591832302897144|0.18443423943590007| 0.1474566961320321|\n",
      "|2025-03-20|0.18443423943590007| 0.1474566961320321|  0.188282407643963|\n",
      "|2025-03-19| 0.1474566961320321|  0.188282407643963| 0.2400394716672628|\n",
      "|2025-03-18|  0.188282407643963| 0.2400394716672628|0.13551300393439272|\n",
      "|2025-03-17| 0.2400394716672628|0.13551300393439272|0.14484760615195955|\n",
      "|2025-03-16|0.13551300393439272|0.14484760615195955| 0.1745024526084513|\n",
      "|2025-03-15|0.14484760615195955| 0.1745024526084513|0.21146083490879364|\n",
      "+----------+-------------------+-------------------+-------------------+\n",
      "only showing top 20 rows\n",
      "\n"
     ]
    }
   ],
   "source": [
    "RNN_spark_df.select(\"Date\",\"scaled_MWh\", \"lag_1\", \"lag_2\").orderBy(col(\"Date\").desc()).show()"
   ]
  },
  {
   "cell_type": "code",
   "execution_count": 43,
   "id": "49fcc148",
   "metadata": {},
   "outputs": [
    {
     "name": "stderr",
     "output_type": "stream",
     "text": [
      "\r",
      "[Stage 42:>                                                         (0 + 1) / 1]\r",
      "\r",
      "                                                                                \r"
     ]
    },
    {
     "name": "stdout",
     "output_type": "stream",
     "text": [
      "+----------+-------------------+-------------------+-------------------+-------------------+-------------------+-------------------+-------------------+\n",
      "|      Date|         scaled_MWh|              lag_1|              lag_2|              lag_3|              lag_4|              lag_5|              lag_6|\n",
      "+----------+-------------------+-------------------+-------------------+-------------------+-------------------+-------------------+-------------------+\n",
      "|2025-04-03| 0.2215267487609218| 0.2534873026416637| 0.1616965152521588| 0.1989167646006847|0.16638138061417404|0.15467081395942978|0.20969802258443618|\n",
      "|2025-04-02| 0.2534873026416637| 0.1616965152521588| 0.1989167646006847|0.16638138061417404|0.15467081395942978|0.20969802258443618|0.20252222676408974|\n",
      "|2025-04-01| 0.1616965152521588| 0.1989167646006847|0.16638138061417404|0.15467081395942978|0.20969802258443618|0.20252222676408974|0.23944867405855605|\n",
      "|2025-03-31| 0.1989167646006847|0.16638138061417404|0.15467081395942978|0.20969802258443618|0.20252222676408974|0.23944867405855605|0.22521524193960452|\n",
      "|2025-03-30|0.16638138061417404|0.15467081395942978|0.20969802258443618|0.20252222676408974|0.23944867405855605|0.22521524193960452|0.28957385928159013|\n",
      "|2025-03-29|0.15467081395942978|0.20969802258443618|0.20252222676408974|0.23944867405855605|0.22521524193960452|0.28957385928159013|0.13879272903786216|\n",
      "|2025-03-28|0.20969802258443618|0.20252222676408974|0.23944867405855605|0.22521524193960452|0.28957385928159013|0.13879272903786216|0.14942708599458382|\n",
      "|2025-03-27|0.20252222676408974|0.23944867405855605|0.22521524193960452|0.28957385928159013|0.13879272903786216|0.14942708599458382|0.16591832302897144|\n",
      "|2025-03-26|0.23944867405855605|0.22521524193960452|0.28957385928159013|0.13879272903786216|0.14942708599458382|0.16591832302897144|0.18443423943590007|\n",
      "|2025-03-25|0.22521524193960452|0.28957385928159013|0.13879272903786216|0.14942708599458382|0.16591832302897144|0.18443423943590007| 0.1474566961320321|\n",
      "|2025-03-24|0.28957385928159013|0.13879272903786216|0.14942708599458382|0.16591832302897144|0.18443423943590007| 0.1474566961320321|  0.188282407643963|\n",
      "|2025-03-23|0.13879272903786216|0.14942708599458382|0.16591832302897144|0.18443423943590007| 0.1474566961320321|  0.188282407643963| 0.2400394716672628|\n",
      "|2025-03-22|0.14942708599458382|0.16591832302897144|0.18443423943590007| 0.1474566961320321|  0.188282407643963| 0.2400394716672628|0.13551300393439272|\n",
      "|2025-03-21|0.16591832302897144|0.18443423943590007| 0.1474566961320321|  0.188282407643963| 0.2400394716672628|0.13551300393439272|0.14484760615195955|\n",
      "|2025-03-20|0.18443423943590007| 0.1474566961320321|  0.188282407643963| 0.2400394716672628|0.13551300393439272|0.14484760615195955| 0.1745024526084513|\n",
      "|2025-03-19| 0.1474566961320321|  0.188282407643963| 0.2400394716672628|0.13551300393439272|0.14484760615195955| 0.1745024526084513|0.21146083490879364|\n",
      "|2025-03-18|  0.188282407643963| 0.2400394716672628|0.13551300393439272|0.14484760615195955| 0.1745024526084513|0.21146083490879364|0.22956159623933373|\n",
      "|2025-03-17| 0.2400394716672628|0.13551300393439272|0.14484760615195955| 0.1745024526084513|0.21146083490879364|0.22956159623933373|0.16825915895968527|\n",
      "|2025-03-16|0.13551300393439272|0.14484760615195955| 0.1745024526084513|0.21146083490879364|0.22956159623933373|0.16825915895968527|0.19357723161821064|\n",
      "|2025-03-15|0.14484760615195955| 0.1745024526084513|0.21146083490879364|0.22956159623933373|0.16825915895968527|0.19357723161821064|0.22928056818762454|\n",
      "+----------+-------------------+-------------------+-------------------+-------------------+-------------------+-------------------+-------------------+\n",
      "only showing top 20 rows\n",
      "\n"
     ]
    }
   ],
   "source": [
    "RNN_spark_df = RNN_spark_df.orderBy(col(\"Date\").desc())\n",
    "RNN_spark_df.show()"
   ]
  },
  {
   "cell_type": "code",
   "execution_count": 44,
   "id": "2e414f06",
   "metadata": {},
   "outputs": [],
   "source": [
    "final_RNN_spark_df = RNN_spark_df.drop(\"Date\")"
   ]
  },
  {
   "cell_type": "code",
   "execution_count": 45,
   "id": "37213396",
   "metadata": {},
   "outputs": [],
   "source": [
    "#final_RNN_spark_df.show()"
   ]
  },
  {
   "cell_type": "code",
   "execution_count": 46,
   "id": "86012d09",
   "metadata": {},
   "outputs": [
    {
     "name": "stderr",
     "output_type": "stream",
     "text": [
      "                                                                                \r"
     ]
    }
   ],
   "source": [
    "final_RNN_spark_df.write.mode(\"overwrite\").option(\"header\", True).csv(\"hdfs:///transformed/rnn\")"
   ]
  },
  {
   "cell_type": "code",
   "execution_count": null,
   "id": "5928aa19",
   "metadata": {},
   "outputs": [],
   "source": []
  },
  {
   "cell_type": "code",
   "execution_count": null,
   "id": "e458528c",
   "metadata": {},
   "outputs": [],
   "source": []
  },
  {
   "cell_type": "code",
   "execution_count": null,
   "id": "24f50c5a",
   "metadata": {},
   "outputs": [],
   "source": []
  },
  {
   "cell_type": "code",
   "execution_count": null,
   "id": "da9b1dd1",
   "metadata": {},
   "outputs": [],
   "source": []
  },
  {
   "cell_type": "code",
   "execution_count": null,
   "id": "a974baf0",
   "metadata": {},
   "outputs": [],
   "source": []
  },
  {
   "cell_type": "markdown",
   "id": "1b6a54ea",
   "metadata": {},
   "source": [
    "To install keras and tensorflow\n",
    "\n",
    "\n",
    "sudo apt update\n",
    "sudo apt install python3-venv python3-pip -y\n",
    "\n",
    "python3 -m venv keras-env\n",
    "source keras-env/bin/activate\n",
    "\n",
    "pip install --upgrade pip\n",
    "pip install keras tensorflow\n",
    "\n",
    "\n",
    "source keras-env/bin/activate\n",
    "source /home/hduser/Documents/GitHub/CCT-SEM2-CA1/SEM2-CA--HADOOP-SPARK/keras-env/bin/activate\n",
    "\n",
    "\n",
    "\n",
    "pip install jupyter ipykernel\n",
    "\n",
    "python -m ipykernel install --user --name=keras-env --display-name=\"Python (keras-env)\""
   ]
  },
  {
   "cell_type": "code",
   "execution_count": null,
   "id": "a2a3aa09-3ae5-4884-86e4-3f793f2d0eab",
   "metadata": {},
   "outputs": [],
   "source": []
  },
  {
   "cell_type": "code",
   "execution_count": null,
   "id": "44c30150-c6fd-4c59-b3bb-a86332ccc391",
   "metadata": {},
   "outputs": [],
   "source": []
  },
  {
   "cell_type": "code",
   "execution_count": null,
   "id": "ea7cb822-4c7e-4854-b11d-2c217af7aa57",
   "metadata": {},
   "outputs": [],
   "source": []
  },
  {
   "cell_type": "code",
   "execution_count": null,
   "id": "d64fcf08-76ac-4868-b214-54426d09e46d",
   "metadata": {},
   "outputs": [],
   "source": []
  },
  {
   "cell_type": "code",
   "execution_count": null,
   "id": "300853a6-7cbb-4dee-b349-ddb31440a617",
   "metadata": {},
   "outputs": [],
   "source": []
  },
  {
   "cell_type": "code",
   "execution_count": null,
   "id": "6bb9ed2b-5cac-49da-ba49-19b85ac35d77",
   "metadata": {},
   "outputs": [],
   "source": []
  },
  {
   "cell_type": "code",
   "execution_count": null,
   "id": "86da0f1d-fa2d-4852-b281-3becb0335fb4",
   "metadata": {},
   "outputs": [],
   "source": []
  },
  {
   "cell_type": "code",
   "execution_count": null,
   "id": "97cfe179-25f6-4355-baf0-6174e0700e4f",
   "metadata": {},
   "outputs": [],
   "source": []
  },
  {
   "cell_type": "code",
   "execution_count": null,
   "id": "75dc7552-c982-4c01-9ffe-0e63af8087ea",
   "metadata": {},
   "outputs": [],
   "source": []
  },
  {
   "cell_type": "code",
   "execution_count": null,
   "id": "61ceae2b-2f96-44d0-b9eb-d56ccbd54f17",
   "metadata": {},
   "outputs": [],
   "source": []
  },
  {
   "cell_type": "code",
   "execution_count": null,
   "id": "3459f69c-46ea-4a56-b3fe-243c0327571a",
   "metadata": {},
   "outputs": [],
   "source": []
  },
  {
   "cell_type": "code",
   "execution_count": null,
   "id": "58f600a4-b503-4d00-b578-a1fc25b119e8",
   "metadata": {},
   "outputs": [],
   "source": []
  },
  {
   "cell_type": "code",
   "execution_count": null,
   "id": "962e0ebc-c2b6-4d84-b61b-82dfbe65c8af",
   "metadata": {},
   "outputs": [],
   "source": []
  },
  {
   "cell_type": "code",
   "execution_count": null,
   "id": "b395ac39-bdc1-4545-b41e-43eff4046160",
   "metadata": {},
   "outputs": [],
   "source": []
  },
  {
   "cell_type": "code",
   "execution_count": null,
   "id": "260a448f",
   "metadata": {},
   "outputs": [],
   "source": []
  },
  {
   "cell_type": "code",
   "execution_count": null,
   "id": "f18dfb2c",
   "metadata": {},
   "outputs": [],
   "source": []
  },
  {
   "cell_type": "code",
   "execution_count": null,
   "id": "131e9bb5",
   "metadata": {},
   "outputs": [],
   "source": []
  },
  {
   "cell_type": "code",
   "execution_count": null,
   "id": "cffa668f",
   "metadata": {},
   "outputs": [],
   "source": []
  },
  {
   "cell_type": "code",
   "execution_count": null,
   "id": "ca87d21a",
   "metadata": {},
   "outputs": [],
   "source": []
  },
  {
   "cell_type": "code",
   "execution_count": null,
   "id": "b381d022",
   "metadata": {},
   "outputs": [],
   "source": []
  },
  {
   "cell_type": "code",
   "execution_count": null,
   "id": "e7f8b495",
   "metadata": {},
   "outputs": [],
   "source": []
  },
  {
   "cell_type": "code",
   "execution_count": null,
   "id": "fef875c5",
   "metadata": {},
   "outputs": [],
   "source": []
  },
  {
   "cell_type": "code",
   "execution_count": null,
   "id": "f7467312",
   "metadata": {},
   "outputs": [],
   "source": []
  },
  {
   "cell_type": "code",
   "execution_count": null,
   "id": "ca302ddf",
   "metadata": {},
   "outputs": [],
   "source": []
  },
  {
   "cell_type": "code",
   "execution_count": null,
   "id": "fa096091",
   "metadata": {},
   "outputs": [],
   "source": []
  },
  {
   "cell_type": "code",
   "execution_count": 47,
   "id": "1b896346",
   "metadata": {},
   "outputs": [],
   "source": [
    "#test_df = df.copy"
   ]
  },
  {
   "cell_type": "code",
   "execution_count": 48,
   "id": "531f117d",
   "metadata": {},
   "outputs": [],
   "source": [
    "#training_data = test_df.iloc[:,0].values"
   ]
  },
  {
   "cell_type": "code",
   "execution_count": 49,
   "id": "3a2a52c2",
   "metadata": {},
   "outputs": [],
   "source": [
    "#training_data = scaler.fit_transform(training_data.reshape(-1, 1))"
   ]
  },
  {
   "cell_type": "code",
   "execution_count": 50,
   "id": "355f2ef3",
   "metadata": {},
   "outputs": [],
   "source": [
    "#scaler.fit(df)\n",
    "#scaled_data = scaler.transform(df)"
   ]
  },
  {
   "cell_type": "code",
   "execution_count": 51,
   "id": "ec5ee3b4",
   "metadata": {},
   "outputs": [],
   "source": [
    "#sns.pairplot(scaled_data)"
   ]
  },
  {
   "cell_type": "code",
   "execution_count": 52,
   "id": "2e537ade",
   "metadata": {},
   "outputs": [],
   "source": [
    "#training_data.shape"
   ]
  },
  {
   "cell_type": "code",
   "execution_count": 53,
   "id": "c63103ff",
   "metadata": {},
   "outputs": [],
   "source": [
    "#new_test_df = pd.DataFrame(training_data)"
   ]
  },
  {
   "cell_type": "code",
   "execution_count": 54,
   "id": "39ee5e17",
   "metadata": {},
   "outputs": [],
   "source": [
    "#sns.pairplot(new_test_df)"
   ]
  },
  {
   "cell_type": "code",
   "execution_count": null,
   "id": "91fc99cb",
   "metadata": {},
   "outputs": [],
   "source": []
  },
  {
   "cell_type": "code",
   "execution_count": null,
   "id": "904caad0",
   "metadata": {},
   "outputs": [],
   "source": []
  },
  {
   "cell_type": "code",
   "execution_count": null,
   "id": "7f3ca69c",
   "metadata": {},
   "outputs": [],
   "source": []
  },
  {
   "cell_type": "markdown",
   "id": "12866841",
   "metadata": {},
   "source": [
    "Save Data to HDFS"
   ]
  },
  {
   "cell_type": "code",
   "execution_count": 55,
   "id": "83afca6e",
   "metadata": {},
   "outputs": [],
   "source": [
    "## Save df as csv\n",
    "\n",
    "##df.to_csv('test-data.csv')"
   ]
  },
  {
   "cell_type": "code",
   "execution_count": 56,
   "id": "a6eb0848",
   "metadata": {},
   "outputs": [],
   "source": [
    "## upload to Hadoop\n",
    "\n",
    "#import os\n",
    "\n",
    "#os.system(\"hdfs dfs -put -f ./test-data.csv /testdata/\")\n"
   ]
  },
  {
   "cell_type": "code",
   "execution_count": 57,
   "id": "ba3bb2b7",
   "metadata": {},
   "outputs": [],
   "source": [
    "#"
   ]
  },
  {
   "cell_type": "code",
   "execution_count": 58,
   "id": "3f6743bd",
   "metadata": {},
   "outputs": [],
   "source": [
    "#from pyspark.sql import SparkSession\n",
    "#import os\n",
    "\n",
    "#os.system(\"hdfs dfs -put -f ./test-data.csv /testdata/\")\n",
    "\n",
    "\n",
    "#park = SparkSession.builder \\\n",
    "   # .appName(\"Power Demand Tracker\") \\\n",
    " #  .getOrCreate()\n",
    "\n",
    "#df_spark = spark.read.csv('hdfs:///testdata/test-data.csv', header=True, inferSchema=True)\n",
    "\n",
    "#df_spark.show()"
   ]
  },
  {
   "cell_type": "code",
   "execution_count": 59,
   "id": "c34aa9ef",
   "metadata": {},
   "outputs": [],
   "source": [
    "#df_spark"
   ]
  },
  {
   "cell_type": "code",
   "execution_count": null,
   "id": "2d5d6600",
   "metadata": {},
   "outputs": [],
   "source": []
  },
  {
   "cell_type": "code",
   "execution_count": null,
   "id": "107e56a5",
   "metadata": {},
   "outputs": [],
   "source": []
  },
  {
   "cell_type": "code",
   "execution_count": null,
   "id": "2d3406f9",
   "metadata": {},
   "outputs": [],
   "source": []
  }
 ],
 "metadata": {
  "kernelspec": {
   "display_name": "Python 3 (ipykernel)",
   "language": "python",
   "name": "python3"
  },
  "language_info": {
   "codemirror_mode": {
    "name": "ipython",
    "version": 3
   },
   "file_extension": ".py",
   "mimetype": "text/x-python",
   "name": "python",
   "nbconvert_exporter": "python",
   "pygments_lexer": "ipython3",
   "version": "3.12.3"
  }
 },
 "nbformat": 4,
 "nbformat_minor": 5
}
