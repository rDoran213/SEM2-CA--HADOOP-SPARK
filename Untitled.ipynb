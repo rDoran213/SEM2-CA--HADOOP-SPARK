{
 "cells": [
  {
   "cell_type": "code",
   "execution_count": 88,
   "id": "1dc72ffb",
   "metadata": {},
   "outputs": [
    {
     "name": "stdout",
     "output_type": "stream",
     "text": [
      "hello\n"
     ]
    }
   ],
   "source": [
    "print(\"hello\")"
   ]
  },
  {
   "cell_type": "code",
   "execution_count": 89,
   "id": "d21b3b21",
   "metadata": {},
   "outputs": [
    {
     "name": "stdout",
     "output_type": "stream",
     "text": [
      "{'api_key': 'KTBGFVX4WUuSL4nOqPjHSsm9K4gYMIOzOdEIu6Qj'}\n"
     ]
    }
   ],
   "source": [
    "import json\n",
    "\n",
    "with open('secrets.json', 'r') as file:\n",
    "    secret_data = json.load(file)\n",
    "\n",
    "print(secret_data)"
   ]
  },
  {
   "cell_type": "code",
   "execution_count": 90,
   "id": "fa7886b1",
   "metadata": {},
   "outputs": [],
   "source": [
    "api_key_arg = \"&api_key=\" + secret_data.get(\"api_key\")\n",
    "api_start_arg = \"&start=2025-01-01\""
   ]
  },
  {
   "cell_type": "code",
   "execution_count": 91,
   "id": "9917eac7",
   "metadata": {},
   "outputs": [],
   "source": [
    "###data_endpoint = \"https://api.eia.gov/v2/electricity/rto/daily-region-sub-ba-data/data/?frequency=daily&data[0]=value&start=2025-03-15&sort[0][column]=period&sort[0][direction]=desc&offset=0\""
   ]
  },
  {
   "cell_type": "code",
   "execution_count": 92,
   "id": "796e3273",
   "metadata": {},
   "outputs": [],
   "source": [
    "data_endpoint = \"https://api.eia.gov/v2/electricity/rto/daily-region-data/data/?frequency=daily&data[0]=value&facets[respondent][]=NY&facets[timezone][]=Eastern&facets[type][]=D&sort[0][column]=period&sort[0][direction]=desc&offset=0&length=5000\""
   ]
  },
  {
   "cell_type": "code",
   "execution_count": 93,
   "id": "d6532a28",
   "metadata": {},
   "outputs": [],
   "source": [
    "import requests\n",
    "import pandas as pd"
   ]
  },
  {
   "cell_type": "code",
   "execution_count": 94,
   "id": "ecd595db",
   "metadata": {},
   "outputs": [
    {
     "name": "stdout",
     "output_type": "stream",
     "text": [
      "{'response': {'total': '80', 'dateFormat': 'YYYY-MM-DD', 'frequency': 'daily', 'data': [{'period': '2025-03-22', 'respondent': 'NY', 'respondent-name': 'New York', 'type': 'D', 'type-name': 'Demand', 'timezone': 'Eastern', 'timezone-description': 'Eastern', 'value': '354942', 'value-units': 'megawatthours'}, {'period': '2025-03-21', 'respondent': 'NY', 'respondent-name': 'New York', 'type': 'D', 'type-name': 'Demand', 'timezone': 'Eastern', 'timezone-description': 'Eastern', 'value': '360106', 'value-units': 'megawatthours'}, {'period': '2025-03-20', 'respondent': 'NY', 'respondent-name': 'New York', 'type': 'D', 'type-name': 'Demand', 'timezone': 'Eastern', 'timezone-description': 'Eastern', 'value': '365904', 'value-units': 'megawatthours'}, {'period': '2025-03-19', 'respondent': 'NY', 'respondent-name': 'New York', 'type': 'D', 'type-name': 'Demand', 'timezone': 'Eastern', 'timezone-description': 'Eastern', 'value': '354325', 'value-units': 'megawatthours'}, {'period': '2025-03-18', 'respondent': 'NY', 'respondent-name': 'New York', 'type': 'D', 'type-name': 'Demand', 'timezone': 'Eastern', 'timezone-description': 'Eastern', 'value': '367109', 'value-units': 'megawatthours'}, {'period': '2025-03-17', 'respondent': 'NY', 'respondent-name': 'New York', 'type': 'D', 'type-name': 'Demand', 'timezone': 'Eastern', 'timezone-description': 'Eastern', 'value': '383316', 'value-units': 'megawatthours'}, {'period': '2025-03-16', 'respondent': 'NY', 'respondent-name': 'New York', 'type': 'D', 'type-name': 'Demand', 'timezone': 'Eastern', 'timezone-description': 'Eastern', 'value': '350585', 'value-units': 'megawatthours'}, {'period': '2025-03-15', 'respondent': 'NY', 'respondent-name': 'New York', 'type': 'D', 'type-name': 'Demand', 'timezone': 'Eastern', 'timezone-description': 'Eastern', 'value': '353508', 'value-units': 'megawatthours'}, {'period': '2025-03-14', 'respondent': 'NY', 'respondent-name': 'New York', 'type': 'D', 'type-name': 'Demand', 'timezone': 'Eastern', 'timezone-description': 'Eastern', 'value': '362794', 'value-units': 'megawatthours'}, {'period': '2025-03-13', 'respondent': 'NY', 'respondent-name': 'New York', 'type': 'D', 'type-name': 'Demand', 'timezone': 'Eastern', 'timezone-description': 'Eastern', 'value': '374367', 'value-units': 'megawatthours'}, {'period': '2025-03-12', 'respondent': 'NY', 'respondent-name': 'New York', 'type': 'D', 'type-name': 'Demand', 'timezone': 'Eastern', 'timezone-description': 'Eastern', 'value': '380035', 'value-units': 'megawatthours'}, {'period': '2025-03-11', 'respondent': 'NY', 'respondent-name': 'New York', 'type': 'D', 'type-name': 'Demand', 'timezone': 'Eastern', 'timezone-description': 'Eastern', 'value': '360839', 'value-units': 'megawatthours'}, {'period': '2025-03-10', 'respondent': 'NY', 'respondent-name': 'New York', 'type': 'D', 'type-name': 'Demand', 'timezone': 'Eastern', 'timezone-description': 'Eastern', 'value': '368767', 'value-units': 'megawatthours'}, {'period': '2025-03-08', 'respondent': 'NY', 'respondent-name': 'New York', 'type': 'D', 'type-name': 'Demand', 'timezone': 'Eastern', 'timezone-description': 'Eastern', 'value': '379947', 'value-units': 'megawatthours'}, {'period': '2025-03-07', 'respondent': 'NY', 'respondent-name': 'New York', 'type': 'D', 'type-name': 'Demand', 'timezone': 'Eastern', 'timezone-description': 'Eastern', 'value': '406048', 'value-units': 'megawatthours'}, {'period': '2025-03-06', 'respondent': 'NY', 'respondent-name': 'New York', 'type': 'D', 'type-name': 'Demand', 'timezone': 'Eastern', 'timezone-description': 'Eastern', 'value': '403469', 'value-units': 'megawatthours'}, {'period': '2025-03-05', 'respondent': 'NY', 'respondent-name': 'New York', 'type': 'D', 'type-name': 'Demand', 'timezone': 'Eastern', 'timezone-description': 'Eastern', 'value': '407344', 'value-units': 'megawatthours'}, {'period': '2025-03-04', 'respondent': 'NY', 'respondent-name': 'New York', 'type': 'D', 'type-name': 'Demand', 'timezone': 'Eastern', 'timezone-description': 'Eastern', 'value': '420282', 'value-units': 'megawatthours'}, {'period': '2025-03-03', 'respondent': 'NY', 'respondent-name': 'New York', 'type': 'D', 'type-name': 'Demand', 'timezone': 'Eastern', 'timezone-description': 'Eastern', 'value': '430754', 'value-units': 'megawatthours'}, {'period': '2025-03-02', 'respondent': 'NY', 'respondent-name': 'New York', 'type': 'D', 'type-name': 'Demand', 'timezone': 'Eastern', 'timezone-description': 'Eastern', 'value': '417602', 'value-units': 'megawatthours'}, {'period': '2025-03-01', 'respondent': 'NY', 'respondent-name': 'New York', 'type': 'D', 'type-name': 'Demand', 'timezone': 'Eastern', 'timezone-description': 'Eastern', 'value': '391122', 'value-units': 'megawatthours'}, {'period': '2025-02-28', 'respondent': 'NY', 'respondent-name': 'New York', 'type': 'D', 'type-name': 'Demand', 'timezone': 'Eastern', 'timezone-description': 'Eastern', 'value': '395168', 'value-units': 'megawatthours'}, {'period': '2025-02-27', 'respondent': 'NY', 'respondent-name': 'New York', 'type': 'D', 'type-name': 'Demand', 'timezone': 'Eastern', 'timezone-description': 'Eastern', 'value': '413497', 'value-units': 'megawatthours'}, {'period': '2025-02-26', 'respondent': 'NY', 'respondent-name': 'New York', 'type': 'D', 'type-name': 'Demand', 'timezone': 'Eastern', 'timezone-description': 'Eastern', 'value': '390557', 'value-units': 'megawatthours'}, {'period': '2025-02-25', 'respondent': 'NY', 'respondent-name': 'New York', 'type': 'D', 'type-name': 'Demand', 'timezone': 'Eastern', 'timezone-description': 'Eastern', 'value': '409251', 'value-units': 'megawatthours'}, {'period': '2025-02-24', 'respondent': 'NY', 'respondent-name': 'New York', 'type': 'D', 'type-name': 'Demand', 'timezone': 'Eastern', 'timezone-description': 'Eastern', 'value': '414863', 'value-units': 'megawatthours'}, {'period': '2025-02-23', 'respondent': 'NY', 'respondent-name': 'New York', 'type': 'D', 'type-name': 'Demand', 'timezone': 'Eastern', 'timezone-description': 'Eastern', 'value': '407668', 'value-units': 'megawatthours'}, {'period': '2025-02-22', 'respondent': 'NY', 'respondent-name': 'New York', 'type': 'D', 'type-name': 'Demand', 'timezone': 'Eastern', 'timezone-description': 'Eastern', 'value': '424577', 'value-units': 'megawatthours'}, {'period': '2025-02-21', 'respondent': 'NY', 'respondent-name': 'New York', 'type': 'D', 'type-name': 'Demand', 'timezone': 'Eastern', 'timezone-description': 'Eastern', 'value': '466908', 'value-units': 'megawatthours'}, {'period': '2025-02-20', 'respondent': 'NY', 'respondent-name': 'New York', 'type': 'D', 'type-name': 'Demand', 'timezone': 'Eastern', 'timezone-description': 'Eastern', 'value': '475569', 'value-units': 'megawatthours'}, {'period': '2025-02-19', 'respondent': 'NY', 'respondent-name': 'New York', 'type': 'D', 'type-name': 'Demand', 'timezone': 'Eastern', 'timezone-description': 'Eastern', 'value': '475123', 'value-units': 'megawatthours'}, {'period': '2025-02-18', 'respondent': 'NY', 'respondent-name': 'New York', 'type': 'D', 'type-name': 'Demand', 'timezone': 'Eastern', 'timezone-description': 'Eastern', 'value': '476969', 'value-units': 'megawatthours'}, {'period': '2025-02-17', 'respondent': 'NY', 'respondent-name': 'New York', 'type': 'D', 'type-name': 'Demand', 'timezone': 'Eastern', 'timezone-description': 'Eastern', 'value': '450724', 'value-units': 'megawatthours'}, {'period': '2025-02-16', 'respondent': 'NY', 'respondent-name': 'New York', 'type': 'D', 'type-name': 'Demand', 'timezone': 'Eastern', 'timezone-description': 'Eastern', 'value': '428955', 'value-units': 'megawatthours'}, {'period': '2025-02-15', 'respondent': 'NY', 'respondent-name': 'New York', 'type': 'D', 'type-name': 'Demand', 'timezone': 'Eastern', 'timezone-description': 'Eastern', 'value': '442916', 'value-units': 'megawatthours'}, {'period': '2025-02-14', 'respondent': 'NY', 'respondent-name': 'New York', 'type': 'D', 'type-name': 'Demand', 'timezone': 'Eastern', 'timezone-description': 'Eastern', 'value': '442568', 'value-units': 'megawatthours'}, {'period': '2025-02-13', 'respondent': 'NY', 'respondent-name': 'New York', 'type': 'D', 'type-name': 'Demand', 'timezone': 'Eastern', 'timezone-description': 'Eastern', 'value': '449773', 'value-units': 'megawatthours'}, {'period': '2025-02-12', 'respondent': 'NY', 'respondent-name': 'New York', 'type': 'D', 'type-name': 'Demand', 'timezone': 'Eastern', 'timezone-description': 'Eastern', 'value': '461393', 'value-units': 'megawatthours'}, {'period': '2025-02-11', 'respondent': 'NY', 'respondent-name': 'New York', 'type': 'D', 'type-name': 'Demand', 'timezone': 'Eastern', 'timezone-description': 'Eastern', 'value': '462141', 'value-units': 'megawatthours'}, {'period': '2025-02-10', 'respondent': 'NY', 'respondent-name': 'New York', 'type': 'D', 'type-name': 'Demand', 'timezone': 'Eastern', 'timezone-description': 'Eastern', 'value': '450779', 'value-units': 'megawatthours'}, {'period': '2025-02-09', 'respondent': 'NY', 'respondent-name': 'New York', 'type': 'D', 'type-name': 'Demand', 'timezone': 'Eastern', 'timezone-description': 'Eastern', 'value': '437321', 'value-units': 'megawatthours'}, {'period': '2025-02-08', 'respondent': 'NY', 'respondent-name': 'New York', 'type': 'D', 'type-name': 'Demand', 'timezone': 'Eastern', 'timezone-description': 'Eastern', 'value': '435101', 'value-units': 'megawatthours'}, {'period': '2025-02-07', 'respondent': 'NY', 'respondent-name': 'New York', 'type': 'D', 'type-name': 'Demand', 'timezone': 'Eastern', 'timezone-description': 'Eastern', 'value': '437921', 'value-units': 'megawatthours'}, {'period': '2025-02-06', 'respondent': 'NY', 'respondent-name': 'New York', 'type': 'D', 'type-name': 'Demand', 'timezone': 'Eastern', 'timezone-description': 'Eastern', 'value': '466398', 'value-units': 'megawatthours'}, {'period': '2025-02-05', 'respondent': 'NY', 'respondent-name': 'New York', 'type': 'D', 'type-name': 'Demand', 'timezone': 'Eastern', 'timezone-description': 'Eastern', 'value': '450687', 'value-units': 'megawatthours'}, {'period': '2025-02-04', 'respondent': 'NY', 'respondent-name': 'New York', 'type': 'D', 'type-name': 'Demand', 'timezone': 'Eastern', 'timezone-description': 'Eastern', 'value': '433662', 'value-units': 'megawatthours'}, {'period': '2025-02-03', 'respondent': 'NY', 'respondent-name': 'New York', 'type': 'D', 'type-name': 'Demand', 'timezone': 'Eastern', 'timezone-description': 'Eastern', 'value': '443795', 'value-units': 'megawatthours'}, {'period': '2025-02-02', 'respondent': 'NY', 'respondent-name': 'New York', 'type': 'D', 'type-name': 'Demand', 'timezone': 'Eastern', 'timezone-description': 'Eastern', 'value': '458769', 'value-units': 'megawatthours'}, {'period': '2025-02-01', 'respondent': 'NY', 'respondent-name': 'New York', 'type': 'D', 'type-name': 'Demand', 'timezone': 'Eastern', 'timezone-description': 'Eastern', 'value': '427318', 'value-units': 'megawatthours'}, {'period': '2025-01-31', 'respondent': 'NY', 'respondent-name': 'New York', 'type': 'D', 'type-name': 'Demand', 'timezone': 'Eastern', 'timezone-description': 'Eastern', 'value': '444812', 'value-units': 'megawatthours'}, {'period': '2025-01-30', 'respondent': 'NY', 'respondent-name': 'New York', 'type': 'D', 'type-name': 'Demand', 'timezone': 'Eastern', 'timezone-description': 'Eastern', 'value': '456746', 'value-units': 'megawatthours'}, {'period': '2025-01-29', 'respondent': 'NY', 'respondent-name': 'New York', 'type': 'D', 'type-name': 'Demand', 'timezone': 'Eastern', 'timezone-description': 'Eastern', 'value': '444445', 'value-units': 'megawatthours'}, {'period': '2025-01-28', 'respondent': 'NY', 'respondent-name': 'New York', 'type': 'D', 'type-name': 'Demand', 'timezone': 'Eastern', 'timezone-description': 'Eastern', 'value': '446129', 'value-units': 'megawatthours'}, {'period': '2025-01-27', 'respondent': 'NY', 'respondent-name': 'New York', 'type': 'D', 'type-name': 'Demand', 'timezone': 'Eastern', 'timezone-description': 'Eastern', 'value': '445832', 'value-units': 'megawatthours'}, {'period': '2025-01-26', 'respondent': 'NY', 'respondent-name': 'New York', 'type': 'D', 'type-name': 'Demand', 'timezone': 'Eastern', 'timezone-description': 'Eastern', 'value': '433362', 'value-units': 'megawatthours'}, {'period': '2025-01-25', 'respondent': 'NY', 'respondent-name': 'New York', 'type': 'D', 'type-name': 'Demand', 'timezone': 'Eastern', 'timezone-description': 'Eastern', 'value': '456690', 'value-units': 'megawatthours'}, {'period': '2025-01-24', 'respondent': 'NY', 'respondent-name': 'New York', 'type': 'D', 'type-name': 'Demand', 'timezone': 'Eastern', 'timezone-description': 'Eastern', 'value': '479623', 'value-units': 'megawatthours'}, {'period': '2025-01-23', 'respondent': 'NY', 'respondent-name': 'New York', 'type': 'D', 'type-name': 'Demand', 'timezone': 'Eastern', 'timezone-description': 'Eastern', 'value': '493684', 'value-units': 'megawatthours'}, {'period': '2025-01-22', 'respondent': 'NY', 'respondent-name': 'New York', 'type': 'D', 'type-name': 'Demand', 'timezone': 'Eastern', 'timezone-description': 'Eastern', 'value': '512469', 'value-units': 'megawatthours'}, {'period': '2025-01-21', 'respondent': 'NY', 'respondent-name': 'New York', 'type': 'D', 'type-name': 'Demand', 'timezone': 'Eastern', 'timezone-description': 'Eastern', 'value': '507458', 'value-units': 'megawatthours'}, {'period': '2025-01-20', 'respondent': 'NY', 'respondent-name': 'New York', 'type': 'D', 'type-name': 'Demand', 'timezone': 'Eastern', 'timezone-description': 'Eastern', 'value': '476314', 'value-units': 'megawatthours'}, {'period': '2025-01-19', 'respondent': 'NY', 'respondent-name': 'New York', 'type': 'D', 'type-name': 'Demand', 'timezone': 'Eastern', 'timezone-description': 'Eastern', 'value': '425620', 'value-units': 'megawatthours'}, {'period': '2025-01-18', 'respondent': 'NY', 'respondent-name': 'New York', 'type': 'D', 'type-name': 'Demand', 'timezone': 'Eastern', 'timezone-description': 'Eastern', 'value': '423690', 'value-units': 'megawatthours'}, {'period': '2025-01-17', 'respondent': 'NY', 'respondent-name': 'New York', 'type': 'D', 'type-name': 'Demand', 'timezone': 'Eastern', 'timezone-description': 'Eastern', 'value': '452520', 'value-units': 'megawatthours'}, {'period': '2025-01-16', 'respondent': 'NY', 'respondent-name': 'New York', 'type': 'D', 'type-name': 'Demand', 'timezone': 'Eastern', 'timezone-description': 'Eastern', 'value': '471935', 'value-units': 'megawatthours'}, {'period': '2025-01-15', 'respondent': 'NY', 'respondent-name': 'New York', 'type': 'D', 'type-name': 'Demand', 'timezone': 'Eastern', 'timezone-description': 'Eastern', 'value': '429499', 'value-units': 'megawatthours'}, {'period': '2025-01-14', 'respondent': 'NY', 'respondent-name': 'New York', 'type': 'D', 'type-name': 'Demand', 'timezone': 'Eastern', 'timezone-description': 'Eastern', 'value': '460618', 'value-units': 'megawatthours'}, {'period': '2025-01-13', 'respondent': 'NY', 'respondent-name': 'New York', 'type': 'D', 'type-name': 'Demand', 'timezone': 'Eastern', 'timezone-description': 'Eastern', 'value': '450534', 'value-units': 'megawatthours'}, {'period': '2025-01-12', 'respondent': 'NY', 'respondent-name': 'New York', 'type': 'D', 'type-name': 'Demand', 'timezone': 'Eastern', 'timezone-description': 'Eastern', 'value': '420996', 'value-units': 'megawatthours'}, {'period': '2025-01-11', 'respondent': 'NY', 'respondent-name': 'New York', 'type': 'D', 'type-name': 'Demand', 'timezone': 'Eastern', 'timezone-description': 'Eastern', 'value': '439882', 'value-units': 'megawatthours'}, {'period': '2025-01-10', 'respondent': 'NY', 'respondent-name': 'New York', 'type': 'D', 'type-name': 'Demand', 'timezone': 'Eastern', 'timezone-description': 'Eastern', 'value': '457755', 'value-units': 'megawatthours'}, {'period': '2025-01-09', 'respondent': 'NY', 'respondent-name': 'New York', 'type': 'D', 'type-name': 'Demand', 'timezone': 'Eastern', 'timezone-description': 'Eastern', 'value': '490373', 'value-units': 'megawatthours'}, {'period': '2025-01-08', 'respondent': 'NY', 'respondent-name': 'New York', 'type': 'D', 'type-name': 'Demand', 'timezone': 'Eastern', 'timezone-description': 'Eastern', 'value': '491538', 'value-units': 'megawatthours'}, {'period': '2025-01-07', 'respondent': 'NY', 'respondent-name': 'New York', 'type': 'D', 'type-name': 'Demand', 'timezone': 'Eastern', 'timezone-description': 'Eastern', 'value': '489499', 'value-units': 'megawatthours'}, {'period': '2025-01-06', 'respondent': 'NY', 'respondent-name': 'New York', 'type': 'D', 'type-name': 'Demand', 'timezone': 'Eastern', 'timezone-description': 'Eastern', 'value': '478157', 'value-units': 'megawatthours'}, {'period': '2025-01-05', 'respondent': 'NY', 'respondent-name': 'New York', 'type': 'D', 'type-name': 'Demand', 'timezone': 'Eastern', 'timezone-description': 'Eastern', 'value': '444306', 'value-units': 'megawatthours'}, {'period': '2025-01-04', 'respondent': 'NY', 'respondent-name': 'New York', 'type': 'D', 'type-name': 'Demand', 'timezone': 'Eastern', 'timezone-description': 'Eastern', 'value': '444490', 'value-units': 'megawatthours'}, {'period': '2025-01-03', 'respondent': 'NY', 'respondent-name': 'New York', 'type': 'D', 'type-name': 'Demand', 'timezone': 'Eastern', 'timezone-description': 'Eastern', 'value': '443961', 'value-units': 'megawatthours'}, {'period': '2025-01-02', 'respondent': 'NY', 'respondent-name': 'New York', 'type': 'D', 'type-name': 'Demand', 'timezone': 'Eastern', 'timezone-description': 'Eastern', 'value': '433967', 'value-units': 'megawatthours'}, {'period': '2025-01-01', 'respondent': 'NY', 'respondent-name': 'New York', 'type': 'D', 'type-name': 'Demand', 'timezone': 'Eastern', 'timezone-description': 'Eastern', 'value': '386468', 'value-units': 'megawatthours'}], 'description': 'Daily demand, day-ahead demand forecast, net generation, and interchange by balancing authority.  \\n    Source: Form EIA-930\\n    Product: Hourly Electric Grid Monitor'}, 'request': {'command': '/v2/electricity/rto/daily-region-data/data/', 'params': {'frequency': 'daily', 'data': ['value'], 'facets': {'respondent': ['NY'], 'timezone': ['Eastern'], 'type': ['D']}, 'sort': [{'column': 'period', 'direction': 'desc'}], 'offset': '0', 'length': '5000', 'start': '2025-01-01', 'api_key': 'KTBGFVX4WUuSL4nOqPjHSsm9K4gYMIOzOdEIu6Qj'}}, 'apiVersion': '2.1.8', 'ExcelAddInVersion': '2.1.0'}\n"
     ]
    }
   ],
   "source": [
    "\n",
    "\n",
    "response = requests.get(data_endpoint+api_start_arg+api_key_arg)\n",
    "\n",
    "if response.status_code == 200:\n",
    "    data = response.json()\n",
    "    print(data)\n",
    "else:\n",
    "    print(f\"Request failed with status code {response.status_code}\")"
   ]
  },
  {
   "cell_type": "code",
   "execution_count": 95,
   "id": "18e2f980",
   "metadata": {},
   "outputs": [],
   "source": [
    "#data.get(\"response\").get(\"data\")"
   ]
  },
  {
   "cell_type": "code",
   "execution_count": 96,
   "id": "cf4188b0",
   "metadata": {},
   "outputs": [
    {
     "data": {
      "text/html": [
       "<div>\n",
       "<style scoped>\n",
       "    .dataframe tbody tr th:only-of-type {\n",
       "        vertical-align: middle;\n",
       "    }\n",
       "\n",
       "    .dataframe tbody tr th {\n",
       "        vertical-align: top;\n",
       "    }\n",
       "\n",
       "    .dataframe thead th {\n",
       "        text-align: right;\n",
       "    }\n",
       "</style>\n",
       "<table border=\"1\" class=\"dataframe\">\n",
       "  <thead>\n",
       "    <tr style=\"text-align: right;\">\n",
       "      <th></th>\n",
       "      <th>period</th>\n",
       "      <th>respondent</th>\n",
       "      <th>respondent-name</th>\n",
       "      <th>type</th>\n",
       "      <th>type-name</th>\n",
       "      <th>timezone</th>\n",
       "      <th>timezone-description</th>\n",
       "      <th>value</th>\n",
       "      <th>value-units</th>\n",
       "    </tr>\n",
       "  </thead>\n",
       "  <tbody>\n",
       "    <tr>\n",
       "      <th>0</th>\n",
       "      <td>2025-03-22</td>\n",
       "      <td>NY</td>\n",
       "      <td>New York</td>\n",
       "      <td>D</td>\n",
       "      <td>Demand</td>\n",
       "      <td>Eastern</td>\n",
       "      <td>Eastern</td>\n",
       "      <td>354942</td>\n",
       "      <td>megawatthours</td>\n",
       "    </tr>\n",
       "    <tr>\n",
       "      <th>1</th>\n",
       "      <td>2025-03-21</td>\n",
       "      <td>NY</td>\n",
       "      <td>New York</td>\n",
       "      <td>D</td>\n",
       "      <td>Demand</td>\n",
       "      <td>Eastern</td>\n",
       "      <td>Eastern</td>\n",
       "      <td>360106</td>\n",
       "      <td>megawatthours</td>\n",
       "    </tr>\n",
       "    <tr>\n",
       "      <th>2</th>\n",
       "      <td>2025-03-20</td>\n",
       "      <td>NY</td>\n",
       "      <td>New York</td>\n",
       "      <td>D</td>\n",
       "      <td>Demand</td>\n",
       "      <td>Eastern</td>\n",
       "      <td>Eastern</td>\n",
       "      <td>365904</td>\n",
       "      <td>megawatthours</td>\n",
       "    </tr>\n",
       "    <tr>\n",
       "      <th>3</th>\n",
       "      <td>2025-03-19</td>\n",
       "      <td>NY</td>\n",
       "      <td>New York</td>\n",
       "      <td>D</td>\n",
       "      <td>Demand</td>\n",
       "      <td>Eastern</td>\n",
       "      <td>Eastern</td>\n",
       "      <td>354325</td>\n",
       "      <td>megawatthours</td>\n",
       "    </tr>\n",
       "    <tr>\n",
       "      <th>4</th>\n",
       "      <td>2025-03-18</td>\n",
       "      <td>NY</td>\n",
       "      <td>New York</td>\n",
       "      <td>D</td>\n",
       "      <td>Demand</td>\n",
       "      <td>Eastern</td>\n",
       "      <td>Eastern</td>\n",
       "      <td>367109</td>\n",
       "      <td>megawatthours</td>\n",
       "    </tr>\n",
       "    <tr>\n",
       "      <th>...</th>\n",
       "      <td>...</td>\n",
       "      <td>...</td>\n",
       "      <td>...</td>\n",
       "      <td>...</td>\n",
       "      <td>...</td>\n",
       "      <td>...</td>\n",
       "      <td>...</td>\n",
       "      <td>...</td>\n",
       "      <td>...</td>\n",
       "    </tr>\n",
       "    <tr>\n",
       "      <th>75</th>\n",
       "      <td>2025-01-05</td>\n",
       "      <td>NY</td>\n",
       "      <td>New York</td>\n",
       "      <td>D</td>\n",
       "      <td>Demand</td>\n",
       "      <td>Eastern</td>\n",
       "      <td>Eastern</td>\n",
       "      <td>444306</td>\n",
       "      <td>megawatthours</td>\n",
       "    </tr>\n",
       "    <tr>\n",
       "      <th>76</th>\n",
       "      <td>2025-01-04</td>\n",
       "      <td>NY</td>\n",
       "      <td>New York</td>\n",
       "      <td>D</td>\n",
       "      <td>Demand</td>\n",
       "      <td>Eastern</td>\n",
       "      <td>Eastern</td>\n",
       "      <td>444490</td>\n",
       "      <td>megawatthours</td>\n",
       "    </tr>\n",
       "    <tr>\n",
       "      <th>77</th>\n",
       "      <td>2025-01-03</td>\n",
       "      <td>NY</td>\n",
       "      <td>New York</td>\n",
       "      <td>D</td>\n",
       "      <td>Demand</td>\n",
       "      <td>Eastern</td>\n",
       "      <td>Eastern</td>\n",
       "      <td>443961</td>\n",
       "      <td>megawatthours</td>\n",
       "    </tr>\n",
       "    <tr>\n",
       "      <th>78</th>\n",
       "      <td>2025-01-02</td>\n",
       "      <td>NY</td>\n",
       "      <td>New York</td>\n",
       "      <td>D</td>\n",
       "      <td>Demand</td>\n",
       "      <td>Eastern</td>\n",
       "      <td>Eastern</td>\n",
       "      <td>433967</td>\n",
       "      <td>megawatthours</td>\n",
       "    </tr>\n",
       "    <tr>\n",
       "      <th>79</th>\n",
       "      <td>2025-01-01</td>\n",
       "      <td>NY</td>\n",
       "      <td>New York</td>\n",
       "      <td>D</td>\n",
       "      <td>Demand</td>\n",
       "      <td>Eastern</td>\n",
       "      <td>Eastern</td>\n",
       "      <td>386468</td>\n",
       "      <td>megawatthours</td>\n",
       "    </tr>\n",
       "  </tbody>\n",
       "</table>\n",
       "<p>80 rows × 9 columns</p>\n",
       "</div>"
      ],
      "text/plain": [
       "        period respondent respondent-name type type-name timezone  \\\n",
       "0   2025-03-22         NY        New York    D    Demand  Eastern   \n",
       "1   2025-03-21         NY        New York    D    Demand  Eastern   \n",
       "2   2025-03-20         NY        New York    D    Demand  Eastern   \n",
       "3   2025-03-19         NY        New York    D    Demand  Eastern   \n",
       "4   2025-03-18         NY        New York    D    Demand  Eastern   \n",
       "..         ...        ...             ...  ...       ...      ...   \n",
       "75  2025-01-05         NY        New York    D    Demand  Eastern   \n",
       "76  2025-01-04         NY        New York    D    Demand  Eastern   \n",
       "77  2025-01-03         NY        New York    D    Demand  Eastern   \n",
       "78  2025-01-02         NY        New York    D    Demand  Eastern   \n",
       "79  2025-01-01         NY        New York    D    Demand  Eastern   \n",
       "\n",
       "   timezone-description   value    value-units  \n",
       "0               Eastern  354942  megawatthours  \n",
       "1               Eastern  360106  megawatthours  \n",
       "2               Eastern  365904  megawatthours  \n",
       "3               Eastern  354325  megawatthours  \n",
       "4               Eastern  367109  megawatthours  \n",
       "..                  ...     ...            ...  \n",
       "75              Eastern  444306  megawatthours  \n",
       "76              Eastern  444490  megawatthours  \n",
       "77              Eastern  443961  megawatthours  \n",
       "78              Eastern  433967  megawatthours  \n",
       "79              Eastern  386468  megawatthours  \n",
       "\n",
       "[80 rows x 9 columns]"
      ]
     },
     "execution_count": 96,
     "metadata": {},
     "output_type": "execute_result"
    }
   ],
   "source": [
    "raw_df = pd.DataFrame(data.get(\"response\").get(\"data\"))\n",
    "raw_df\n",
    "##df = pd.DataFrame(data.get(\"data\"))\n"
   ]
  },
  {
   "cell_type": "code",
   "execution_count": 97,
   "id": "96237ee8",
   "metadata": {},
   "outputs": [],
   "source": [
    "df = raw_df[['period', 'value']]"
   ]
  },
  {
   "cell_type": "code",
   "execution_count": 98,
   "id": "0c3ceb12",
   "metadata": {},
   "outputs": [
    {
     "data": {
      "text/html": [
       "<div>\n",
       "<style scoped>\n",
       "    .dataframe tbody tr th:only-of-type {\n",
       "        vertical-align: middle;\n",
       "    }\n",
       "\n",
       "    .dataframe tbody tr th {\n",
       "        vertical-align: top;\n",
       "    }\n",
       "\n",
       "    .dataframe thead th {\n",
       "        text-align: right;\n",
       "    }\n",
       "</style>\n",
       "<table border=\"1\" class=\"dataframe\">\n",
       "  <thead>\n",
       "    <tr style=\"text-align: right;\">\n",
       "      <th></th>\n",
       "      <th>period</th>\n",
       "      <th>value</th>\n",
       "    </tr>\n",
       "  </thead>\n",
       "  <tbody>\n",
       "    <tr>\n",
       "      <th>0</th>\n",
       "      <td>2025-03-22</td>\n",
       "      <td>354942</td>\n",
       "    </tr>\n",
       "    <tr>\n",
       "      <th>1</th>\n",
       "      <td>2025-03-21</td>\n",
       "      <td>360106</td>\n",
       "    </tr>\n",
       "    <tr>\n",
       "      <th>2</th>\n",
       "      <td>2025-03-20</td>\n",
       "      <td>365904</td>\n",
       "    </tr>\n",
       "    <tr>\n",
       "      <th>3</th>\n",
       "      <td>2025-03-19</td>\n",
       "      <td>354325</td>\n",
       "    </tr>\n",
       "    <tr>\n",
       "      <th>4</th>\n",
       "      <td>2025-03-18</td>\n",
       "      <td>367109</td>\n",
       "    </tr>\n",
       "    <tr>\n",
       "      <th>...</th>\n",
       "      <td>...</td>\n",
       "      <td>...</td>\n",
       "    </tr>\n",
       "    <tr>\n",
       "      <th>75</th>\n",
       "      <td>2025-01-05</td>\n",
       "      <td>444306</td>\n",
       "    </tr>\n",
       "    <tr>\n",
       "      <th>76</th>\n",
       "      <td>2025-01-04</td>\n",
       "      <td>444490</td>\n",
       "    </tr>\n",
       "    <tr>\n",
       "      <th>77</th>\n",
       "      <td>2025-01-03</td>\n",
       "      <td>443961</td>\n",
       "    </tr>\n",
       "    <tr>\n",
       "      <th>78</th>\n",
       "      <td>2025-01-02</td>\n",
       "      <td>433967</td>\n",
       "    </tr>\n",
       "    <tr>\n",
       "      <th>79</th>\n",
       "      <td>2025-01-01</td>\n",
       "      <td>386468</td>\n",
       "    </tr>\n",
       "  </tbody>\n",
       "</table>\n",
       "<p>80 rows × 2 columns</p>\n",
       "</div>"
      ],
      "text/plain": [
       "        period   value\n",
       "0   2025-03-22  354942\n",
       "1   2025-03-21  360106\n",
       "2   2025-03-20  365904\n",
       "3   2025-03-19  354325\n",
       "4   2025-03-18  367109\n",
       "..         ...     ...\n",
       "75  2025-01-05  444306\n",
       "76  2025-01-04  444490\n",
       "77  2025-01-03  443961\n",
       "78  2025-01-02  433967\n",
       "79  2025-01-01  386468\n",
       "\n",
       "[80 rows x 2 columns]"
      ]
     },
     "execution_count": 98,
     "metadata": {},
     "output_type": "execute_result"
    }
   ],
   "source": [
    "df"
   ]
  },
  {
   "cell_type": "code",
   "execution_count": 99,
   "id": "40103052",
   "metadata": {},
   "outputs": [],
   "source": [
    "#arizona_data = df[df[\"timezone\"] == \"Arizona\"]"
   ]
  },
  {
   "cell_type": "code",
   "execution_count": 100,
   "id": "b381d022",
   "metadata": {},
   "outputs": [],
   "source": [
    "#arizona_data[\"subba-name\"].unique()"
   ]
  },
  {
   "cell_type": "code",
   "execution_count": null,
   "id": "fef875c5",
   "metadata": {},
   "outputs": [],
   "source": []
  }
 ],
 "metadata": {
  "kernelspec": {
   "display_name": "Python 3 (ipykernel)",
   "language": "python",
   "name": "python3"
  },
  "language_info": {
   "codemirror_mode": {
    "name": "ipython",
    "version": 3
   },
   "file_extension": ".py",
   "mimetype": "text/x-python",
   "name": "python",
   "nbconvert_exporter": "python",
   "pygments_lexer": "ipython3",
   "version": "3.12.3"
  }
 },
 "nbformat": 4,
 "nbformat_minor": 5
}
