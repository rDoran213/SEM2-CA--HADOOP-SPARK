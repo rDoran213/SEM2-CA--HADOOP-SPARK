{
 "cells": [
  {
   "cell_type": "code",
   "execution_count": 1,
   "id": "1dc72ffb",
   "metadata": {},
   "outputs": [],
   "source": [
    "import os\n",
    "import requests\n",
    "import pandas as pd\n",
    "import seaborn as sns\n",
    "from pyspark.sql import SparkSession\n",
    "from pyspark.sql import functions as F\n",
    "from pyspark.sql.functions import col, collect_list, udf,expr\n",
    "from pyspark.sql.window import Window\n",
    "from pyspark.sql.functions import lag, lit\n",
    "from pyspark.ml.feature import MinMaxScaler, VectorAssembler\n",
    "from pyspark.sql.types import DoubleType\n",
    "\n"
   ]
  },
  {
   "cell_type": "code",
   "execution_count": 2,
   "id": "8cab66c6",
   "metadata": {},
   "outputs": [
    {
     "name": "stderr",
     "output_type": "stream",
     "text": [
      "25/04/09 19:32:12 WARN SparkSession: Using an existing Spark session; only runtime SQL configurations will take effect.\n"
     ]
    }
   ],
   "source": [
    "spark = SparkSession.builder \\\n",
    "    .appName(\"Power Demand Tracker\") \\\n",
    "    .getOrCreate()"
   ]
  },
  {
   "cell_type": "markdown",
   "id": "1c8840d7",
   "metadata": {},
   "source": [
    "EXTRACT TEMPURATURE DATA"
   ]
  },
  {
   "cell_type": "code",
   "execution_count": 3,
   "id": "90913fc3",
   "metadata": {
    "scrolled": false
   },
   "outputs": [
    {
     "name": "stderr",
     "output_type": "stream",
     "text": [
      "                                                                                \r"
     ]
    },
    {
     "name": "stdout",
     "output_type": "stream",
     "text": [
      "+----------+--------------------+--------------------+------------------+----------------+---------------------+\n",
      "|  latitude|           longitude|           elevation|utc_offset_seconds|        timezone|timezone_abbreviation|\n",
      "+----------+--------------------+--------------------+------------------+----------------+---------------------+\n",
      "| 40.738136|           -74.04254|                51.0|            -14400|America/New_York|                GMT-4|\n",
      "|      time|temperature_2m_me...|temperature_2m_ma...|              null|            null|                 null|\n",
      "|2020-01-01|                 2.1|                 4.2|              null|            null|                 null|\n",
      "|2020-01-02|                 2.3|                 8.8|              null|            null|                 null|\n",
      "|2020-01-03|                 6.3|                 9.2|              null|            null|                 null|\n",
      "|2020-01-04|                 7.5|                 9.9|              null|            null|                 null|\n",
      "|2020-01-05|                 2.5|                 5.0|              null|            null|                 null|\n",
      "|2020-01-06|                 2.6|                 7.5|              null|            null|                 null|\n",
      "|2020-01-07|                 2.4|                 5.9|              null|            null|                 null|\n",
      "|2020-01-08|                 0.8|                 4.9|              null|            null|                 null|\n",
      "|2020-01-09|                -2.3|                 0.4|              null|            null|                 null|\n",
      "|2020-01-10|                 4.8|                11.0|              null|            null|                 null|\n",
      "|2020-01-11|                13.6|                18.2|              null|            null|                 null|\n",
      "|2020-01-12|                14.6|                18.6|              null|            null|                 null|\n",
      "|2020-01-13|                 4.7|                 8.7|              null|            null|                 null|\n",
      "|2020-01-14|                 4.0|                 6.6|              null|            null|                 null|\n",
      "|2020-01-15|                 5.5|                 9.2|              null|            null|                 null|\n",
      "|2020-01-16|                 5.5|                 8.5|              null|            null|                 null|\n",
      "|2020-01-17|                -3.3|                 0.6|              null|            null|                 null|\n",
      "|2020-01-18|                -3.3|                 2.3|              null|            null|                 null|\n",
      "+----------+--------------------+--------------------+------------------+----------------+---------------------+\n",
      "only showing top 20 rows\n",
      "\n"
     ]
    }
   ],
   "source": [
    "os.system(\"hdfs dfs -put -f ./open-meteo-nwe-york.csv /staging/temp\")\n",
    "df_tempurature_spark = spark.read.csv('hdfs:///staging/temp/open-meteo-nwe-york.csv', header=True, inferSchema=True)\n",
    "df_tempurature_spark.show()"
   ]
  },
  {
   "cell_type": "markdown",
   "id": "8c89155f",
   "metadata": {},
   "source": [
    "TRANSFORM TEMPURATURE DATA"
   ]
  },
  {
   "cell_type": "code",
   "execution_count": 4,
   "id": "708629a8",
   "metadata": {},
   "outputs": [],
   "source": [
    "## remove the first 2 rows \n",
    "df_tempurature_spark = df_tempurature_spark.rdd.zipWithIndex().filter(lambda row: row[1] >= 2).map(lambda row: row[0]).toDF(df_tempurature_spark.schema)"
   ]
  },
  {
   "cell_type": "code",
   "execution_count": 5,
   "id": "607bee9e",
   "metadata": {},
   "outputs": [
    {
     "name": "stderr",
     "output_type": "stream",
     "text": [
      "\r",
      "[Stage 3:>                                                          (0 + 1) / 1]\r"
     ]
    },
    {
     "name": "stdout",
     "output_type": "stream",
     "text": [
      "+----------+---------+---------+------------------+--------+---------------------+\n",
      "|  latitude|longitude|elevation|utc_offset_seconds|timezone|timezone_abbreviation|\n",
      "+----------+---------+---------+------------------+--------+---------------------+\n",
      "|2020-01-01|      2.1|      4.2|              null|    null|                 null|\n",
      "|2020-01-02|      2.3|      8.8|              null|    null|                 null|\n",
      "|2020-01-03|      6.3|      9.2|              null|    null|                 null|\n",
      "|2020-01-04|      7.5|      9.9|              null|    null|                 null|\n",
      "|2020-01-05|      2.5|      5.0|              null|    null|                 null|\n",
      "|2020-01-06|      2.6|      7.5|              null|    null|                 null|\n",
      "|2020-01-07|      2.4|      5.9|              null|    null|                 null|\n",
      "|2020-01-08|      0.8|      4.9|              null|    null|                 null|\n",
      "|2020-01-09|     -2.3|      0.4|              null|    null|                 null|\n",
      "|2020-01-10|      4.8|     11.0|              null|    null|                 null|\n",
      "|2020-01-11|     13.6|     18.2|              null|    null|                 null|\n",
      "|2020-01-12|     14.6|     18.6|              null|    null|                 null|\n",
      "|2020-01-13|      4.7|      8.7|              null|    null|                 null|\n",
      "|2020-01-14|      4.0|      6.6|              null|    null|                 null|\n",
      "|2020-01-15|      5.5|      9.2|              null|    null|                 null|\n",
      "|2020-01-16|      5.5|      8.5|              null|    null|                 null|\n",
      "|2020-01-17|     -3.3|      0.6|              null|    null|                 null|\n",
      "|2020-01-18|     -3.3|      2.3|              null|    null|                 null|\n",
      "|2020-01-19|      2.6|      6.9|              null|    null|                 null|\n",
      "|2020-01-20|     -4.1|     -1.0|              null|    null|                 null|\n",
      "+----------+---------+---------+------------------+--------+---------------------+\n",
      "only showing top 20 rows\n",
      "\n"
     ]
    },
    {
     "name": "stderr",
     "output_type": "stream",
     "text": [
      "\r",
      "                                                                                \r"
     ]
    }
   ],
   "source": [
    "df_tempurature_spark.show()"
   ]
  },
  {
   "cell_type": "code",
   "execution_count": 6,
   "id": "e949a0f0",
   "metadata": {},
   "outputs": [],
   "source": [
    "filtered_tempurature_df = df_tempurature_spark.select(\n",
    "    col(\"latitude\").alias(\"Date\"),\n",
    "    col(\"longitude\").alias(\"Min_temp\"),\n",
    "    col(\"elevation\").alias(\"Max_temp\")\n",
    ")"
   ]
  },
  {
   "cell_type": "code",
   "execution_count": 7,
   "id": "fc59f209",
   "metadata": {},
   "outputs": [
    {
     "name": "stdout",
     "output_type": "stream",
     "text": [
      "+----------+--------+--------+\n",
      "|      Date|Min_temp|Max_temp|\n",
      "+----------+--------+--------+\n",
      "|2020-01-01|     2.1|     4.2|\n",
      "|2020-01-02|     2.3|     8.8|\n",
      "|2020-01-03|     6.3|     9.2|\n",
      "|2020-01-04|     7.5|     9.9|\n",
      "|2020-01-05|     2.5|     5.0|\n",
      "|2020-01-06|     2.6|     7.5|\n",
      "|2020-01-07|     2.4|     5.9|\n",
      "|2020-01-08|     0.8|     4.9|\n",
      "|2020-01-09|    -2.3|     0.4|\n",
      "|2020-01-10|     4.8|    11.0|\n",
      "|2020-01-11|    13.6|    18.2|\n",
      "|2020-01-12|    14.6|    18.6|\n",
      "|2020-01-13|     4.7|     8.7|\n",
      "|2020-01-14|     4.0|     6.6|\n",
      "|2020-01-15|     5.5|     9.2|\n",
      "|2020-01-16|     5.5|     8.5|\n",
      "|2020-01-17|    -3.3|     0.6|\n",
      "|2020-01-18|    -3.3|     2.3|\n",
      "|2020-01-19|     2.6|     6.9|\n",
      "|2020-01-20|    -4.1|    -1.0|\n",
      "+----------+--------+--------+\n",
      "only showing top 20 rows\n",
      "\n"
     ]
    }
   ],
   "source": [
    "filtered_tempurature_df.show()"
   ]
  },
  {
   "cell_type": "code",
   "execution_count": 8,
   "id": "0bb42122",
   "metadata": {},
   "outputs": [],
   "source": [
    "filtered_tempurature_df = filtered_tempurature_df.withColumn(\"Avg_temp\", (col(\"Min_temp\") + col(\"Max_temp\")) / 2)"
   ]
  },
  {
   "cell_type": "code",
   "execution_count": null,
   "id": "7c83e464",
   "metadata": {},
   "outputs": [],
   "source": []
  },
  {
   "cell_type": "code",
   "execution_count": 9,
   "id": "9bba92c3",
   "metadata": {
    "scrolled": false
   },
   "outputs": [
    {
     "name": "stdout",
     "output_type": "stream",
     "text": [
      "+----------+--------+--------+-------------------+\n",
      "|      Date|Min_temp|Max_temp|           Avg_temp|\n",
      "+----------+--------+--------+-------------------+\n",
      "|2020-01-01|     2.1|     4.2| 3.1500000000000004|\n",
      "|2020-01-02|     2.3|     8.8|  5.550000000000001|\n",
      "|2020-01-03|     6.3|     9.2|               7.75|\n",
      "|2020-01-04|     7.5|     9.9|                8.7|\n",
      "|2020-01-05|     2.5|     5.0|               3.75|\n",
      "|2020-01-06|     2.6|     7.5|               5.05|\n",
      "|2020-01-07|     2.4|     5.9|               4.15|\n",
      "|2020-01-08|     0.8|     4.9|               2.85|\n",
      "|2020-01-09|    -2.3|     0.4|              -0.95|\n",
      "|2020-01-10|     4.8|    11.0|                7.9|\n",
      "|2020-01-11|    13.6|    18.2| 15.899999999999999|\n",
      "|2020-01-12|    14.6|    18.6|               16.6|\n",
      "|2020-01-13|     4.7|     8.7|  6.699999999999999|\n",
      "|2020-01-14|     4.0|     6.6|                5.3|\n",
      "|2020-01-15|     5.5|     9.2|               7.35|\n",
      "|2020-01-16|     5.5|     8.5|                7.0|\n",
      "|2020-01-17|    -3.3|     0.6|-1.3499999999999999|\n",
      "|2020-01-18|    -3.3|     2.3|               -0.5|\n",
      "|2020-01-19|     2.6|     6.9|               4.75|\n",
      "|2020-01-20|    -4.1|    -1.0|              -2.55|\n",
      "+----------+--------+--------+-------------------+\n",
      "only showing top 20 rows\n",
      "\n"
     ]
    }
   ],
   "source": [
    "filtered_tempurature_df.show()"
   ]
  },
  {
   "cell_type": "markdown",
   "id": "47458fcb",
   "metadata": {},
   "source": [
    "EXTRACT POWER DATA"
   ]
  },
  {
   "cell_type": "code",
   "execution_count": 10,
   "id": "44092e66",
   "metadata": {},
   "outputs": [],
   "source": [
    "import json\n",
    "\n",
    "with open('secrets.json', 'r') as file:\n",
    "    secret_data = json.load(file)\n",
    "\n"
   ]
  },
  {
   "cell_type": "code",
   "execution_count": 11,
   "id": "fa7886b1",
   "metadata": {},
   "outputs": [],
   "source": [
    "api_data_start = \"2020-01-01\"\n",
    "\n",
    "api_key_arg = \"&api_key=\" + secret_data.get(\"eia_api_key\")\n",
    "api_start_arg = \"&start=\" + api_data_start"
   ]
  },
  {
   "cell_type": "code",
   "execution_count": null,
   "id": "9917eac7",
   "metadata": {},
   "outputs": [],
   "source": []
  },
  {
   "cell_type": "code",
   "execution_count": 12,
   "id": "796e3273",
   "metadata": {},
   "outputs": [],
   "source": [
    "data_endpoint = \"https://api.eia.gov/v2/electricity/rto/daily-region-data/data/?frequency=daily&data[0]=value&facets[respondent][]=NY&facets[timezone][]=Eastern&facets[type][]=D&sort[0][column]=period&sort[0][direction]=desc&offset=0&length=5000\""
   ]
  },
  {
   "cell_type": "code",
   "execution_count": null,
   "id": "d6532a28",
   "metadata": {},
   "outputs": [],
   "source": []
  },
  {
   "cell_type": "code",
   "execution_count": 13,
   "id": "ecd595db",
   "metadata": {},
   "outputs": [
    {
     "name": "stdout",
     "output_type": "stream",
     "text": [
      "request succeeded\n"
     ]
    }
   ],
   "source": [
    "\n",
    "response = requests.get(data_endpoint+api_start_arg+api_key_arg)\n",
    "\n",
    "if response.status_code == 200:\n",
    "    data = response.json()\n",
    "    print(\"request succeeded\")\n",
    "\n",
    "else:\n",
    "    print(\"request failed\")"
   ]
  },
  {
   "cell_type": "code",
   "execution_count": null,
   "id": "18e2f980",
   "metadata": {},
   "outputs": [],
   "source": []
  },
  {
   "cell_type": "code",
   "execution_count": 14,
   "id": "cf4188b0",
   "metadata": {},
   "outputs": [],
   "source": [
    "raw_df = pd.DataFrame(data.get(\"response\").get(\"data\"))\n"
   ]
  },
  {
   "cell_type": "code",
   "execution_count": 15,
   "id": "1c0aac7a",
   "metadata": {},
   "outputs": [],
   "source": [
    "raw_df.to_csv('raw-data.csv')"
   ]
  },
  {
   "cell_type": "code",
   "execution_count": 16,
   "id": "bf139802",
   "metadata": {},
   "outputs": [
    {
     "name": "stdout",
     "output_type": "stream",
     "text": [
      "+---+----------+----------+---------------+----+---------+--------+--------------------+------+-------------+\n",
      "|_c0|    period|respondent|respondent-name|type|type-name|timezone|timezone-description| value|  value-units|\n",
      "+---+----------+----------+---------------+----+---------+--------+--------------------+------+-------------+\n",
      "|  0|2025-04-08|        NY|       New York|   D|   Demand| Eastern|             Eastern|390632|megawatthours|\n",
      "|  1|2025-04-07|        NY|       New York|   D|   Demand| Eastern|             Eastern|383201|megawatthours|\n",
      "|  2|2025-04-06|        NY|       New York|   D|   Demand| Eastern|             Eastern|347576|megawatthours|\n",
      "|  3|2025-04-05|        NY|       New York|   D|   Demand| Eastern|             Eastern|355164|megawatthours|\n",
      "|  4|2025-04-04|        NY|       New York|   D|   Demand| Eastern|             Eastern|346729|megawatthours|\n",
      "|  5|2025-04-03|        NY|       New York|   D|   Demand| Eastern|             Eastern|377519|megawatthours|\n",
      "|  6|2025-04-02|        NY|       New York|   D|   Demand| Eastern|             Eastern|387527|megawatthours|\n",
      "|  7|2025-04-01|        NY|       New York|   D|   Demand| Eastern|             Eastern|358784|megawatthours|\n",
      "|  8|2025-03-31|        NY|       New York|   D|   Demand| Eastern|             Eastern|370439|megawatthours|\n",
      "|  9|2025-03-30|        NY|       New York|   D|   Demand| Eastern|             Eastern|360251|megawatthours|\n",
      "| 10|2025-03-29|        NY|       New York|   D|   Demand| Eastern|             Eastern|356584|megawatthours|\n",
      "| 11|2025-03-28|        NY|       New York|   D|   Demand| Eastern|             Eastern|373815|megawatthours|\n",
      "| 12|2025-03-27|        NY|       New York|   D|   Demand| Eastern|             Eastern|371568|megawatthours|\n",
      "| 13|2025-03-26|        NY|       New York|   D|   Demand| Eastern|             Eastern|383131|megawatthours|\n",
      "| 14|2025-03-25|        NY|       New York|   D|   Demand| Eastern|             Eastern|378674|megawatthours|\n",
      "| 15|2025-03-24|        NY|       New York|   D|   Demand| Eastern|             Eastern|398827|megawatthours|\n",
      "| 16|2025-03-23|        NY|       New York|   D|   Demand| Eastern|             Eastern|351612|megawatthours|\n",
      "| 17|2025-03-22|        NY|       New York|   D|   Demand| Eastern|             Eastern|354942|megawatthours|\n",
      "| 18|2025-03-21|        NY|       New York|   D|   Demand| Eastern|             Eastern|360106|megawatthours|\n",
      "| 19|2025-03-20|        NY|       New York|   D|   Demand| Eastern|             Eastern|365904|megawatthours|\n",
      "+---+----------+----------+---------------+----+---------+--------+--------------------+------+-------------+\n",
      "only showing top 20 rows\n",
      "\n"
     ]
    },
    {
     "name": "stderr",
     "output_type": "stream",
     "text": [
      "25/04/09 19:32:40 WARN CSVHeaderChecker: CSV header does not conform to the schema.\n",
      " Header: , period, respondent, respondent-name, type, type-name, timezone, timezone-description, value, value-units\n",
      " Schema: _c0, period, respondent, respondent-name, type, type-name, timezone, timezone-description, value, value-units\n",
      "Expected: _c0 but found: \n",
      "CSV file: hdfs://localhost:9000/staging/eia/raw-data.csv\n"
     ]
    }
   ],
   "source": [
    "\n",
    "\n",
    "os.system(\"hdfs dfs -put -f ./raw-data.csv /staging/eia\")\n",
    "df_spark = spark.read.csv('hdfs:///staging/eia/raw-data.csv', header=True, inferSchema=True)\n",
    "\n",
    "df_spark.show()"
   ]
  },
  {
   "cell_type": "markdown",
   "id": "2a3ced72",
   "metadata": {},
   "source": [
    "TRANSFORM POWER DATA"
   ]
  },
  {
   "cell_type": "code",
   "execution_count": 17,
   "id": "5b191230",
   "metadata": {},
   "outputs": [],
   "source": [
    "\n",
    "\n",
    "filtered_spark_df = df_spark.select(\n",
    "    col(\"period\").alias(\"Date\"),\n",
    "    col(\"value\").alias(\"MWh\")\n",
    ")"
   ]
  },
  {
   "cell_type": "code",
   "execution_count": null,
   "id": "9bbb85e5",
   "metadata": {},
   "outputs": [],
   "source": []
  },
  {
   "cell_type": "code",
   "execution_count": 18,
   "id": "08da28e7",
   "metadata": {},
   "outputs": [
    {
     "name": "stdout",
     "output_type": "stream",
     "text": [
      "+----------+------+\n",
      "|      Date|   MWh|\n",
      "+----------+------+\n",
      "|2025-04-08|390632|\n",
      "|2025-04-07|383201|\n",
      "|2025-04-06|347576|\n",
      "|2025-04-05|355164|\n",
      "|2025-04-04|346729|\n",
      "|2025-04-03|377519|\n",
      "|2025-04-02|387527|\n",
      "|2025-04-01|358784|\n",
      "|2025-03-31|370439|\n",
      "|2025-03-30|360251|\n",
      "|2025-03-29|356584|\n",
      "|2025-03-28|373815|\n",
      "|2025-03-27|371568|\n",
      "|2025-03-26|383131|\n",
      "|2025-03-25|378674|\n",
      "|2025-03-24|398827|\n",
      "|2025-03-23|351612|\n",
      "|2025-03-22|354942|\n",
      "|2025-03-21|360106|\n",
      "|2025-03-20|365904|\n",
      "+----------+------+\n",
      "only showing top 20 rows\n",
      "\n"
     ]
    }
   ],
   "source": [
    "filtered_spark_df.show()"
   ]
  },
  {
   "cell_type": "code",
   "execution_count": 19,
   "id": "40103052",
   "metadata": {},
   "outputs": [
    {
     "name": "stdout",
     "output_type": "stream",
     "text": [
      "+----------+------+---+-----+\n",
      "|      Date|   MWh|Day|Month|\n",
      "+----------+------+---+-----+\n",
      "|2025-04-08|390632|  3|    4|\n",
      "|2025-04-07|383201|  2|    4|\n",
      "|2025-04-06|347576|  1|    4|\n",
      "|2025-04-05|355164|  7|    4|\n",
      "|2025-04-04|346729|  6|    4|\n",
      "|2025-04-03|377519|  5|    4|\n",
      "|2025-04-02|387527|  4|    4|\n",
      "|2025-04-01|358784|  3|    4|\n",
      "|2025-03-31|370439|  2|    3|\n",
      "|2025-03-30|360251|  1|    3|\n",
      "|2025-03-29|356584|  7|    3|\n",
      "|2025-03-28|373815|  6|    3|\n",
      "|2025-03-27|371568|  5|    3|\n",
      "|2025-03-26|383131|  4|    3|\n",
      "|2025-03-25|378674|  3|    3|\n",
      "|2025-03-24|398827|  2|    3|\n",
      "|2025-03-23|351612|  1|    3|\n",
      "|2025-03-22|354942|  7|    3|\n",
      "|2025-03-21|360106|  6|    3|\n",
      "|2025-03-20|365904|  5|    3|\n",
      "+----------+------+---+-----+\n",
      "only showing top 20 rows\n",
      "\n"
     ]
    }
   ],
   "source": [
    "features_df = filtered_spark_df.withColumn(\"Day\", F.dayofweek(\"Date\"))\n",
    "features_df = features_df.withColumn(\"Month\", F.month(\"Date\"))\n",
    "features_df.show()"
   ]
  },
  {
   "cell_type": "code",
   "execution_count": 20,
   "id": "a5bfad99",
   "metadata": {},
   "outputs": [],
   "source": [
    "joined_df = features_df.join(filtered_tempurature_df, on=\"date\", how=\"inner\")  \n"
   ]
  },
  {
   "cell_type": "code",
   "execution_count": 21,
   "id": "a7aa965d",
   "metadata": {},
   "outputs": [],
   "source": [
    "joined_df = joined_df.withColumn(\"Avg_temp\", joined_df[\"Avg_temp\"].cast(DoubleType()))\n",
    "joined_df = joined_df.withColumn(\"Min_temp\", joined_df[\"Min_temp\"].cast(DoubleType()))\n",
    "joined_df = joined_df.withColumn(\"Max_temp\", joined_df[\"Max_temp\"].cast(DoubleType()))"
   ]
  },
  {
   "cell_type": "code",
   "execution_count": 22,
   "id": "4811196d",
   "metadata": {},
   "outputs": [
    {
     "name": "stdout",
     "output_type": "stream",
     "text": [
      "root\n",
      " |-- Date: date (nullable = true)\n",
      " |-- MWh: integer (nullable = true)\n",
      " |-- Day: integer (nullable = true)\n",
      " |-- Month: integer (nullable = true)\n",
      " |-- Min_temp: double (nullable = true)\n",
      " |-- Max_temp: double (nullable = true)\n",
      " |-- Avg_temp: double (nullable = true)\n",
      "\n"
     ]
    }
   ],
   "source": [
    "joined_df.printSchema()"
   ]
  },
  {
   "cell_type": "code",
   "execution_count": 23,
   "id": "c2b13dc4",
   "metadata": {
    "scrolled": false
   },
   "outputs": [
    {
     "name": "stdout",
     "output_type": "stream",
     "text": [
      "+----------+------+---+-----+--------+--------+-------------------+\n",
      "|      Date|   MWh|Day|Month|Min_temp|Max_temp|           Avg_temp|\n",
      "+----------+------+---+-----+--------+--------+-------------------+\n",
      "|2020-01-01|395316|  4|    1|     2.1|     4.2| 3.1500000000000004|\n",
      "|2020-01-02|416985|  5|    1|     2.3|     8.8|  5.550000000000001|\n",
      "|2020-01-03|411481|  6|    1|     6.3|     9.2|               7.75|\n",
      "|2020-01-04|389879|  7|    1|     7.5|     9.9|                8.7|\n",
      "|2020-01-05|396540|  1|    1|     2.5|     5.0|               3.75|\n",
      "|2020-01-06|432354|  2|    1|     2.6|     7.5|               5.05|\n",
      "|2020-01-07|432730|  3|    1|     2.4|     5.9|               4.15|\n",
      "|2020-01-08|441775|  4|    1|     0.8|     4.9|               2.85|\n",
      "|2020-01-09|457121|  5|    1|    -2.3|     0.4|              -0.95|\n",
      "|2020-01-10|430162|  6|    1|     4.8|    11.0|                7.9|\n",
      "|2020-01-11|374525|  7|    1|    13.6|    18.2| 15.899999999999999|\n",
      "|2020-01-12|366821|  1|    1|    14.6|    18.6|               16.6|\n",
      "|2020-01-13|419733|  2|    1|     4.7|     8.7|  6.699999999999999|\n",
      "|2020-01-14|418257|  3|    1|     4.0|     6.6|                5.3|\n",
      "|2020-01-15|408105|  4|    1|     5.5|     9.2|               7.35|\n",
      "|2020-01-16|424414|  5|    1|     5.5|     8.5|                7.0|\n",
      "|2020-01-17|457882|  6|    1|    -3.3|     0.6|-1.3499999999999999|\n",
      "|2020-01-18|449093|  7|    1|    -3.3|     2.3|               -0.5|\n",
      "|2020-01-19|412874|  1|    1|     2.6|     6.9|               4.75|\n",
      "|2020-01-20|455573|  2|    1|    -4.1|    -1.0|              -2.55|\n",
      "+----------+------+---+-----+--------+--------+-------------------+\n",
      "only showing top 20 rows\n",
      "\n"
     ]
    }
   ],
   "source": [
    "joined_df.show()"
   ]
  },
  {
   "cell_type": "code",
   "execution_count": 24,
   "id": "a95d887c",
   "metadata": {
    "scrolled": true
   },
   "outputs": [
    {
     "name": "stdout",
     "output_type": "stream",
     "text": [
      "+----------+------+---+-----+--------+--------+------------------+\n",
      "|      Date|   MWh|Day|Month|Min_temp|Max_temp|          Avg_temp|\n",
      "+----------+------+---+-----+--------+--------+------------------+\n",
      "|2025-04-03|377519|  5|    4|    15.0|    22.1|             18.55|\n",
      "|2025-04-02|387527|  4|    4|     4.5|     8.3|               6.4|\n",
      "|2025-04-01|358784|  3|    4|     8.6|    15.8|              12.2|\n",
      "|2025-03-31|370439|  2|    3|    16.4|    23.8|              20.1|\n",
      "|2025-03-30|360251|  1|    3|     8.5|    13.7|              11.1|\n",
      "|2025-03-29|356584|  7|    3|    15.8|    26.1|20.950000000000003|\n",
      "|2025-03-28|373815|  6|    3|     9.9|    15.5|              12.7|\n",
      "|2025-03-27|371568|  5|    3|     4.4|     9.7|              7.05|\n",
      "|2025-03-26|383131|  4|    3|     5.8|    10.0|               7.9|\n",
      "|2025-03-25|378674|  3|    3|     9.1|    14.0|             11.55|\n",
      "|2025-03-24|398827|  2|    3|     6.9|    10.4|              8.65|\n",
      "|2025-03-23|351612|  1|    3|     2.9|     8.1|               5.5|\n",
      "|2025-03-22|354942|  7|    3|     8.1|    16.2|12.149999999999999|\n",
      "|2025-03-21|360106|  6|    3|     6.3|     9.1| 7.699999999999999|\n",
      "|2025-03-20|365904|  5|    3|     7.6|     9.9|              8.75|\n",
      "|2025-03-19|354325|  4|    3|     7.9|    14.0|             10.95|\n",
      "|2025-03-18|367109|  3|    3|     6.6|    13.9|             10.25|\n",
      "|2025-03-17|383316|  2|    3|    11.4|    14.6|              13.0|\n",
      "|2025-03-16|350585|  1|    3|    12.5|    15.7|              14.1|\n",
      "|2025-03-15|353508|  7|    3|     6.4|     9.0|               7.7|\n",
      "+----------+------+---+-----+--------+--------+------------------+\n",
      "only showing top 20 rows\n",
      "\n"
     ]
    }
   ],
   "source": [
    "joined_df.orderBy(col(\"Date\").desc()).show()\n"
   ]
  },
  {
   "cell_type": "code",
   "execution_count": 25,
   "id": "52b8daf5",
   "metadata": {},
   "outputs": [],
   "source": [
    "\n",
    "def scale_features(df):\n",
    "    this_df = df\n",
    "    \n",
    "    for index, column in enumerate(df.columns):\n",
    "        if column != \"Date\":\n",
    "            assembler = VectorAssembler(inputCols=[column], outputCol=\"feature_\"+column)\n",
    "            df_vec = assembler.transform(this_df)\n",
    "            #print(df_vec)\n",
    "            scaler = MinMaxScaler(inputCol=\"feature_\"+column, outputCol=\"scaled_\"+column, min=0.1, max =1.0)\n",
    "            scaler_model = scaler.fit(df_vec)\n",
    "            scaled_df = scaler_model.transform(df_vec)\n",
    "            extract_element = udf(lambda v: float(v[0]), DoubleType())\n",
    "            #print(\"scaled_\"+column)\n",
    "            this_df = scaled_df.withColumn(\"scaled_\"+column, extract_element(col(\"scaled_\"+column)))\n",
    "\n",
    "    return this_df\n"
   ]
  },
  {
   "cell_type": "code",
   "execution_count": null,
   "id": "30fa6118",
   "metadata": {},
   "outputs": [],
   "source": []
  },
  {
   "cell_type": "code",
   "execution_count": 26,
   "id": "a346724a",
   "metadata": {},
   "outputs": [
    {
     "name": "stderr",
     "output_type": "stream",
     "text": [
      "                                                                                \r"
     ]
    }
   ],
   "source": [
    "joined_df = joined_df.dropna()\n",
    "\n",
    "scaled_features_df = scale_features(joined_df)"
   ]
  },
  {
   "cell_type": "code",
   "execution_count": 27,
   "id": "b20e416a",
   "metadata": {},
   "outputs": [],
   "source": [
    "\n",
    "filtered_scaled_feature = scaled_features_df.select(\"Date\", \"scaled_MWh\", \"scaled_Day\", \"scaled_Month\", \"scaled_Min_temp\", \"scaled_Max_temp\", \"scaled_Avg_temp\")"
   ]
  },
  {
   "cell_type": "code",
   "execution_count": 28,
   "id": "2f079ce8",
   "metadata": {
    "scrolled": false
   },
   "outputs": [
    {
     "name": "stderr",
     "output_type": "stream",
     "text": [
      "\r",
      "[Stage 40:>                                                         (0 + 1) / 1]\r"
     ]
    },
    {
     "name": "stdout",
     "output_type": "stream",
     "text": [
      "+----------+-------------------+------------------+------------+-------------------+-------------------+-------------------+\n",
      "|      Date|         scaled_MWh|        scaled_Day|scaled_Month|    scaled_Min_temp|    scaled_Max_temp|    scaled_Avg_temp|\n",
      "+----------+-------------------+------------------+------------+-------------------+-------------------+-------------------+\n",
      "|2020-01-01|0.35052533084666093|0.5499999999999999|         0.1|0.40214285714285714| 0.3509803921568627|0.37400228050171047|\n",
      "|2020-01-02|  0.412805298656175|               0.7|         0.1| 0.4064285714285715| 0.4411764705882353|0.42326111744583816|\n",
      "|2020-01-03|0.39698597414541925|              0.85|         0.1| 0.4921428571428572| 0.4490196078431372| 0.4684150513112886|\n",
      "|2020-01-04|0.33489857442133775|0.9999999999999999|         0.1| 0.5178571428571429| 0.4627450980392157| 0.4879133409350057|\n",
      "|2020-01-05| 0.3540432910939656|               0.1|         0.1| 0.4107142857142857| 0.3666666666666667| 0.3863169897377423|\n",
      "|2020-01-06| 0.4569781181339737|              0.25|         0.1| 0.4128571428571428|  0.415686274509804|0.41299885974914485|\n",
      "|2020-01-07|0.45805879873281896|               0.4|         0.1| 0.4085714285714286|0.38431372549019605|  0.394526795895097|\n",
      "|2020-01-08| 0.4840554902662102|0.5499999999999999|         0.1|0.37428571428571433| 0.3647058823529412|0.36784492588369444|\n",
      "|2020-01-09| 0.5281622042818456|               0.7|         0.1|0.30785714285714283|0.27647058823529413|0.28985176738882557|\n",
      "|2020-01-10|0.45067798017474836|              0.85|         0.1| 0.4600000000000001|0.48431372549019613| 0.4714937286202966|\n",
      "|2020-01-11|0.29076886720147155|0.9999999999999999|         0.1| 0.6485714285714286| 0.6254901960784313| 0.6356898517673889|\n",
      "|2020-01-12|0.26862641152725975|               0.1|         0.1|               0.67| 0.6333333333333334| 0.6500570125427595|\n",
      "|2020-01-13| 0.4207034643094375|              0.25|         0.1|0.45785714285714285| 0.4392156862745098| 0.4468643101482327|\n",
      "|2020-01-14|0.41646121812886416|               0.4|         0.1|0.44285714285714284|0.39803921568627454| 0.4181299885974915|\n",
      "|2020-01-15| 0.3872828419600429|0.5499999999999999|         0.1|              0.475| 0.4490196078431372| 0.4602052451539339|\n",
      "|2020-01-16|0.43415736293495477|               0.7|         0.1|              0.475|0.43529411764705883| 0.4530216647662486|\n",
      "|2020-01-17| 0.5303494328342957|              0.85|         0.1| 0.2864285714285714| 0.2803921568627451|0.28164196123147095|\n",
      "|2020-01-18| 0.5050885238362884|0.9999999999999999|         0.1| 0.2864285714285714| 0.3137254901960784| 0.2990877993158495|\n",
      "|2020-01-19| 0.4009896658320985|               0.1|         0.1| 0.4128571428571428|  0.403921568627451|0.40684150513112893|\n",
      "|2020-01-20| 0.5237130192631956|              0.25|         0.1| 0.2692857142857143|0.24901960784313726| 0.2570125427594071|\n",
      "+----------+-------------------+------------------+------------+-------------------+-------------------+-------------------+\n",
      "only showing top 20 rows\n",
      "\n"
     ]
    },
    {
     "name": "stderr",
     "output_type": "stream",
     "text": [
      "\r",
      "                                                                                \r"
     ]
    }
   ],
   "source": [
    "filtered_scaled_feature.show()"
   ]
  },
  {
   "cell_type": "markdown",
   "id": "ec41f7be",
   "metadata": {},
   "source": [
    "LOAD JOINED TEMPURATURE AND POWER DATA"
   ]
  },
  {
   "cell_type": "code",
   "execution_count": 29,
   "id": "d10b78da",
   "metadata": {},
   "outputs": [
    {
     "name": "stderr",
     "output_type": "stream",
     "text": [
      "                                                                                \r"
     ]
    }
   ],
   "source": [
    "\n",
    "filtered_scaled_feature.write.mode(\"overwrite\").option(\"header\", True).csv(\"hdfs:///eda/\")\n",
    "\n",
    "### hdfs dfs -getmerge /eda/ ./eda-data.csv\n"
   ]
  },
  {
   "cell_type": "code",
   "execution_count": null,
   "id": "4eacd79c",
   "metadata": {},
   "outputs": [],
   "source": []
  },
  {
   "cell_type": "markdown",
   "id": "e6e384bb",
   "metadata": {},
   "source": [
    "TRANSFORM POWER DATA FOR TIME SERIES"
   ]
  },
  {
   "cell_type": "markdown",
   "id": "37a37113",
   "metadata": {},
   "source": [
    "Code to prepare for RNN"
   ]
  },
  {
   "cell_type": "code",
   "execution_count": 30,
   "id": "52f033d7",
   "metadata": {},
   "outputs": [],
   "source": [
    "RNN_spark_df = filtered_scaled_feature.select(\"Date\", \"scaled_MWh\") "
   ]
  },
  {
   "cell_type": "code",
   "execution_count": 31,
   "id": "61b4e989",
   "metadata": {},
   "outputs": [
    {
     "name": "stdout",
     "output_type": "stream",
     "text": [
      "+----------+-------------------+\n",
      "|      Date|         scaled_MWh|\n",
      "+----------+-------------------+\n",
      "|2020-01-01|0.35052533084666093|\n",
      "|2020-01-02|  0.412805298656175|\n",
      "|2020-01-03|0.39698597414541925|\n",
      "|2020-01-04|0.33489857442133775|\n",
      "|2020-01-05| 0.3540432910939656|\n",
      "|2020-01-06| 0.4569781181339737|\n",
      "|2020-01-07|0.45805879873281896|\n",
      "|2020-01-08| 0.4840554902662102|\n",
      "|2020-01-09| 0.5281622042818456|\n",
      "|2020-01-10|0.45067798017474836|\n",
      "|2020-01-11|0.29076886720147155|\n",
      "|2020-01-12|0.26862641152725975|\n",
      "|2020-01-13| 0.4207034643094375|\n",
      "|2020-01-14|0.41646121812886416|\n",
      "|2020-01-15| 0.3872828419600429|\n",
      "|2020-01-16|0.43415736293495477|\n",
      "|2020-01-17| 0.5303494328342957|\n",
      "|2020-01-18| 0.5050885238362884|\n",
      "|2020-01-19| 0.4009896658320985|\n",
      "|2020-01-20| 0.5237130192631956|\n",
      "+----------+-------------------+\n",
      "only showing top 20 rows\n",
      "\n"
     ]
    }
   ],
   "source": [
    "## Ensure correct direction\n",
    "\n",
    "#RNN_spark_df = RNN_spark_df.orderBy(col(\"Date\").desc())\n",
    "\n",
    "RNN_spark_df.show()"
   ]
  },
  {
   "cell_type": "code",
   "execution_count": null,
   "id": "6275578d",
   "metadata": {},
   "outputs": [],
   "source": []
  },
  {
   "cell_type": "code",
   "execution_count": 32,
   "id": "5e978986",
   "metadata": {},
   "outputs": [
    {
     "name": "stdout",
     "output_type": "stream",
     "text": [
      "+----------+-------------------+-------------------+-------------------+-------------------+-------------------+-------------------+-------------------+\n",
      "|      Date|         scaled_MWh|              lag_1|              lag_2|              lag_3|              lag_4|              lag_5|              lag_6|\n",
      "+----------+-------------------+-------------------+-------------------+-------------------+-------------------+-------------------+-------------------+\n",
      "|2020-01-07|0.45805879873281896| 0.4569781181339737| 0.3540432910939656|0.33489857442133775|0.39698597414541925|  0.412805298656175|0.35052533084666093|\n",
      "|2020-01-08| 0.4840554902662102|0.45805879873281896| 0.4569781181339737| 0.3540432910939656|0.33489857442133775|0.39698597414541925|  0.412805298656175|\n",
      "|2020-01-09| 0.5281622042818456| 0.4840554902662102|0.45805879873281896| 0.4569781181339737| 0.3540432910939656|0.33489857442133775|0.39698597414541925|\n",
      "|2020-01-10|0.45067798017474836| 0.5281622042818456| 0.4840554902662102|0.45805879873281896| 0.4569781181339737| 0.3540432910939656|0.33489857442133775|\n",
      "|2020-01-11|0.29076886720147155|0.45067798017474836| 0.5281622042818456| 0.4840554902662102|0.45805879873281896| 0.4569781181339737| 0.3540432910939656|\n",
      "|2020-01-12|0.26862641152725975|0.29076886720147155|0.45067798017474836| 0.5281622042818456| 0.4840554902662102|0.45805879873281896| 0.4569781181339737|\n",
      "|2020-01-13| 0.4207034643094375|0.26862641152725975|0.29076886720147155|0.45067798017474836| 0.5281622042818456| 0.4840554902662102|0.45805879873281896|\n",
      "|2020-01-14|0.41646121812886416| 0.4207034643094375|0.26862641152725975|0.29076886720147155|0.45067798017474836| 0.5281622042818456| 0.4840554902662102|\n",
      "|2020-01-15| 0.3872828419600429|0.41646121812886416| 0.4207034643094375|0.26862641152725975|0.29076886720147155|0.45067798017474836| 0.5281622042818456|\n",
      "|2020-01-16|0.43415736293495477| 0.3872828419600429|0.41646121812886416| 0.4207034643094375|0.26862641152725975|0.29076886720147155|0.45067798017474836|\n",
      "|2020-01-17| 0.5303494328342957|0.43415736293495477| 0.3872828419600429|0.41646121812886416| 0.4207034643094375|0.26862641152725975|0.29076886720147155|\n",
      "|2020-01-18| 0.5050885238362884| 0.5303494328342957|0.43415736293495477| 0.3872828419600429|0.41646121812886416| 0.4207034643094375|0.26862641152725975|\n",
      "|2020-01-19| 0.4009896658320985| 0.5050885238362884| 0.5303494328342957|0.43415736293495477| 0.3872828419600429|0.41646121812886416| 0.4207034643094375|\n",
      "|2020-01-20| 0.5237130192631956| 0.4009896658320985| 0.5050885238362884| 0.5303494328342957|0.43415736293495477| 0.3872828419600429|0.41646121812886416|\n",
      "|2020-01-21| 0.5550441341781207| 0.5237130192631956| 0.4009896658320985| 0.5050885238362884| 0.5303494328342957|0.43415736293495477| 0.3872828419600429|\n",
      "|2020-01-22| 0.5101671478207552| 0.5550441341781207| 0.5237130192631956| 0.4009896658320985| 0.5050885238362884| 0.5303494328342957|0.43415736293495477|\n",
      "|2020-01-23| 0.4774363215982832| 0.5101671478207552| 0.5550441341781207| 0.5237130192631956| 0.4009896658320985| 0.5050885238362884| 0.5303494328342957|\n",
      "|2020-01-24| 0.4211087195340044| 0.4774363215982832| 0.5101671478207552| 0.5550441341781207| 0.5237130192631956| 0.4009896658320985| 0.5050885238362884|\n",
      "|2020-01-25|0.37258443615553627| 0.4211087195340044| 0.4774363215982832| 0.5101671478207552| 0.5550441341781207| 0.5237130192631956| 0.4009896658320985|\n",
      "|2020-01-26|0.33503365949619335|0.37258443615553627| 0.4211087195340044| 0.4774363215982832| 0.5101671478207552| 0.5550441341781207| 0.5237130192631956|\n",
      "+----------+-------------------+-------------------+-------------------+-------------------+-------------------+-------------------+-------------------+\n",
      "only showing top 20 rows\n",
      "\n"
     ]
    }
   ],
   "source": [
    "\n",
    "\n",
    "\n",
    "temp_df = RNN_spark_df.withColumn(\"part_id\", lit(1)).orderBy(\"Date\")\n",
    "\n",
    "\n",
    "w = Window.partitionBy(\"part_id\").orderBy(\"Date\")\n",
    "\n",
    "for i in range(1, 7):\n",
    "    temp_df = temp_df.withColumn(f\"lag_{i}\", lag(\"scaled_MWh\", i).over(w))\n",
    "\n",
    "temp_df = temp_df.dropna()\n",
    "temp_df = temp_df.withColumnRenamed(\"scaled_MWh\", \"scaled_MWh\")\n",
    "\n",
    "final_cols = [\"Date\",\"scaled_MWh\"] + [f\"lag_{i}\" for i in range(1, 7)]\n",
    "RNN_spark_df = temp_df.select(final_cols)\n",
    "RNN_spark_df.show()\n"
   ]
  },
  {
   "cell_type": "code",
   "execution_count": 33,
   "id": "92ac2a7c",
   "metadata": {},
   "outputs": [
    {
     "name": "stdout",
     "output_type": "stream",
     "text": [
      "+----------+-------------------+-------------------+-------------------+\n",
      "|      Date|         scaled_MWh|              lag_1|              lag_2|\n",
      "+----------+-------------------+-------------------+-------------------+\n",
      "|2025-04-03| 0.2993740738848296|0.32813857237749733|0.24552686372694293|\n",
      "|2025-04-02|0.32813857237749733|0.24552686372694293| 0.2790250881406162|\n",
      "|2025-04-01|0.24552686372694293| 0.2790250881406162|0.24974324255275665|\n",
      "|2025-03-31| 0.2790250881406162|0.24974324255275665| 0.2392037325634868|\n",
      "|2025-03-30|0.24974324255275665| 0.2392037325634868|0.28872822032599255|\n",
      "|2025-03-29| 0.2392037325634868|0.28872822032599255|0.28227000408768077|\n",
      "|2025-03-28|0.28872822032599255|0.28227000408768077|0.31550380665270045|\n",
      "|2025-03-27|0.28227000408768077|0.31550380665270045| 0.3026937177456441|\n",
      "|2025-03-26|0.31550380665270045| 0.3026937177456441|0.36061647335343106|\n",
      "|2025-03-25| 0.3026937177456441|0.36061647335343106|0.22491345613407593|\n",
      "|2025-03-24|0.36061647335343106|0.22491345613407593|0.23448437739512545|\n",
      "|2025-03-23|0.22491345613407593|0.23448437739512545| 0.2493264907260743|\n",
      "|2025-03-22|0.23448437739512545| 0.2493264907260743| 0.2659908154923101|\n",
      "|2025-03-21| 0.2493264907260743| 0.2659908154923101|0.23271102651882888|\n",
      "|2025-03-20| 0.2659908154923101|0.23271102651882888| 0.2694541668795667|\n",
      "|2025-03-19|0.23271102651882888| 0.2694541668795667| 0.3160355245005365|\n",
      "|2025-03-18| 0.2694541668795667| 0.3160355245005365|0.22196170354095346|\n",
      "|2025-03-17| 0.3160355245005365|0.22196170354095346| 0.2303628455367636|\n",
      "|2025-03-16|0.22196170354095346| 0.2303628455367636|0.25705220734760614|\n",
      "|2025-03-15| 0.2303628455367636|0.25705220734760614| 0.2903147514179143|\n",
      "+----------+-------------------+-------------------+-------------------+\n",
      "only showing top 20 rows\n",
      "\n"
     ]
    }
   ],
   "source": [
    "RNN_spark_df.select(\"Date\",\"scaled_MWh\", \"lag_1\", \"lag_2\").orderBy(col(\"Date\").desc()).show()"
   ]
  },
  {
   "cell_type": "code",
   "execution_count": 34,
   "id": "1084d4c4",
   "metadata": {},
   "outputs": [
    {
     "name": "stdout",
     "output_type": "stream",
     "text": [
      "+----------+-------------------+-------------------+-------------------+-------------------+-------------------+-------------------+-------------------+\n",
      "|      Date|         scaled_MWh|              lag_1|              lag_2|              lag_3|              lag_4|              lag_5|              lag_6|\n",
      "+----------+-------------------+-------------------+-------------------+-------------------+-------------------+-------------------+-------------------+\n",
      "|2025-04-03| 0.2993740738848296|0.32813857237749733|0.24552686372694293| 0.2790250881406162|0.24974324255275665| 0.2392037325634868|0.28872822032599255|\n",
      "|2025-04-02|0.32813857237749733|0.24552686372694293| 0.2790250881406162|0.24974324255275665| 0.2392037325634868|0.28872822032599255|0.28227000408768077|\n",
      "|2025-04-01|0.24552686372694293| 0.2790250881406162|0.24974324255275665| 0.2392037325634868|0.28872822032599255|0.28227000408768077|0.31550380665270045|\n",
      "|2025-03-31| 0.2790250881406162|0.24974324255275665| 0.2392037325634868|0.28872822032599255|0.28227000408768077|0.31550380665270045| 0.3026937177456441|\n",
      "|2025-03-30|0.24974324255275665| 0.2392037325634868|0.28872822032599255|0.28227000408768077|0.31550380665270045| 0.3026937177456441|0.36061647335343106|\n",
      "|2025-03-29| 0.2392037325634868|0.28872822032599255|0.28227000408768077|0.31550380665270045| 0.3026937177456441|0.36061647335343106|0.22491345613407593|\n",
      "|2025-03-28|0.28872822032599255|0.28227000408768077|0.31550380665270045| 0.3026937177456441|0.36061647335343106|0.22491345613407593|0.23448437739512545|\n",
      "|2025-03-27|0.28227000408768077|0.31550380665270045| 0.3026937177456441|0.36061647335343106|0.22491345613407593|0.23448437739512545| 0.2493264907260743|\n",
      "|2025-03-26|0.31550380665270045| 0.3026937177456441|0.36061647335343106|0.22491345613407593|0.23448437739512545| 0.2493264907260743| 0.2659908154923101|\n",
      "|2025-03-25| 0.3026937177456441|0.36061647335343106|0.22491345613407593|0.23448437739512545| 0.2493264907260743| 0.2659908154923101|0.23271102651882888|\n",
      "|2025-03-24|0.36061647335343106|0.22491345613407593|0.23448437739512545| 0.2493264907260743| 0.2659908154923101|0.23271102651882888| 0.2694541668795667|\n",
      "|2025-03-23|0.22491345613407593|0.23448437739512545| 0.2493264907260743| 0.2659908154923101|0.23271102651882888| 0.2694541668795667| 0.3160355245005365|\n",
      "|2025-03-22|0.23448437739512545| 0.2493264907260743| 0.2659908154923101|0.23271102651882888| 0.2694541668795667| 0.3160355245005365|0.22196170354095346|\n",
      "|2025-03-21| 0.2493264907260743| 0.2659908154923101|0.23271102651882888| 0.2694541668795667| 0.3160355245005365|0.22196170354095346| 0.2303628455367636|\n",
      "|2025-03-20| 0.2659908154923101|0.23271102651882888| 0.2694541668795667| 0.3160355245005365|0.22196170354095346| 0.2303628455367636|0.25705220734760614|\n",
      "|2025-03-19|0.23271102651882888| 0.2694541668795667| 0.3160355245005365|0.22196170354095346| 0.2303628455367636|0.25705220734760614| 0.2903147514179143|\n",
      "|2025-03-18| 0.2694541668795667| 0.3160355245005365|0.22196170354095346| 0.2303628455367636|0.25705220734760614| 0.2903147514179143|0.30660543661540035|\n",
      "|2025-03-17| 0.3160355245005365|0.22196170354095346| 0.2303628455367636|0.25705220734760614| 0.2903147514179143|0.30660543661540035| 0.2514332430637167|\n",
      "|2025-03-16|0.22196170354095346| 0.2303628455367636|0.25705220734760614| 0.2903147514179143|0.30660543661540035| 0.2514332430637167|0.27421950845638954|\n",
      "|2025-03-15| 0.2303628455367636|0.25705220734760614| 0.2903147514179143|0.30660543661540035| 0.2514332430637167|0.27421950845638954| 0.3063525113688621|\n",
      "+----------+-------------------+-------------------+-------------------+-------------------+-------------------+-------------------+-------------------+\n",
      "only showing top 20 rows\n",
      "\n"
     ]
    }
   ],
   "source": [
    "RNN_spark_df = RNN_spark_df.orderBy(col(\"Date\").desc())\n",
    "RNN_spark_df.show()"
   ]
  },
  {
   "cell_type": "code",
   "execution_count": 35,
   "id": "818f8cb2",
   "metadata": {},
   "outputs": [],
   "source": [
    "final_RNN_spark_df = RNN_spark_df.drop(\"Date\")"
   ]
  },
  {
   "cell_type": "code",
   "execution_count": 36,
   "id": "f0a13289",
   "metadata": {},
   "outputs": [],
   "source": [
    "#final_RNN_spark_df.show()"
   ]
  },
  {
   "cell_type": "markdown",
   "id": "bf7c64a8",
   "metadata": {},
   "source": [
    "LOAD TIME SERIES DATA"
   ]
  },
  {
   "cell_type": "code",
   "execution_count": 37,
   "id": "9dbda8e6",
   "metadata": {},
   "outputs": [
    {
     "name": "stderr",
     "output_type": "stream",
     "text": [
      "\r",
      "[Stage 83:>                                                         (0 + 1) / 1]\r",
      "\r",
      "                                                                                \r"
     ]
    }
   ],
   "source": [
    "final_RNN_spark_df.write.mode(\"overwrite\").option(\"header\", True).csv(\"hdfs:///transformed/rnn\")"
   ]
  },
  {
   "cell_type": "code",
   "execution_count": 38,
   "id": "5928aa19",
   "metadata": {},
   "outputs": [],
   "source": [
    "########## hdfs dfs -getmerge /transformed/rnn/ ./rnn-data.csv"
   ]
  },
  {
   "cell_type": "code",
   "execution_count": null,
   "id": "e458528c",
   "metadata": {},
   "outputs": [],
   "source": []
  },
  {
   "cell_type": "code",
   "execution_count": null,
   "id": "0b53bae7",
   "metadata": {},
   "outputs": [],
   "source": []
  },
  {
   "cell_type": "code",
   "execution_count": null,
   "id": "75dc7552-c982-4c01-9ffe-0e63af8087ea",
   "metadata": {},
   "outputs": [],
   "source": []
  },
  {
   "cell_type": "code",
   "execution_count": null,
   "id": "61ceae2b-2f96-44d0-b9eb-d56ccbd54f17",
   "metadata": {},
   "outputs": [],
   "source": []
  },
  {
   "cell_type": "code",
   "execution_count": null,
   "id": "3459f69c-46ea-4a56-b3fe-243c0327571a",
   "metadata": {},
   "outputs": [],
   "source": []
  },
  {
   "cell_type": "code",
   "execution_count": null,
   "id": "58f600a4-b503-4d00-b578-a1fc25b119e8",
   "metadata": {},
   "outputs": [],
   "source": []
  },
  {
   "cell_type": "code",
   "execution_count": null,
   "id": "962e0ebc-c2b6-4d84-b61b-82dfbe65c8af",
   "metadata": {},
   "outputs": [],
   "source": []
  },
  {
   "cell_type": "code",
   "execution_count": null,
   "id": "b395ac39-bdc1-4545-b41e-43eff4046160",
   "metadata": {},
   "outputs": [],
   "source": []
  },
  {
   "cell_type": "code",
   "execution_count": null,
   "id": "260a448f",
   "metadata": {},
   "outputs": [],
   "source": []
  },
  {
   "cell_type": "code",
   "execution_count": null,
   "id": "f18dfb2c",
   "metadata": {},
   "outputs": [],
   "source": []
  },
  {
   "cell_type": "code",
   "execution_count": null,
   "id": "131e9bb5",
   "metadata": {},
   "outputs": [],
   "source": []
  },
  {
   "cell_type": "code",
   "execution_count": null,
   "id": "cffa668f",
   "metadata": {},
   "outputs": [],
   "source": []
  },
  {
   "cell_type": "code",
   "execution_count": null,
   "id": "ca87d21a",
   "metadata": {},
   "outputs": [],
   "source": []
  },
  {
   "cell_type": "code",
   "execution_count": null,
   "id": "b381d022",
   "metadata": {},
   "outputs": [],
   "source": []
  },
  {
   "cell_type": "code",
   "execution_count": null,
   "id": "e7f8b495",
   "metadata": {},
   "outputs": [],
   "source": []
  },
  {
   "cell_type": "code",
   "execution_count": null,
   "id": "fef875c5",
   "metadata": {},
   "outputs": [],
   "source": []
  },
  {
   "cell_type": "code",
   "execution_count": null,
   "id": "f7467312",
   "metadata": {},
   "outputs": [],
   "source": []
  },
  {
   "cell_type": "code",
   "execution_count": null,
   "id": "ca302ddf",
   "metadata": {},
   "outputs": [],
   "source": []
  },
  {
   "cell_type": "code",
   "execution_count": null,
   "id": "fa096091",
   "metadata": {},
   "outputs": [],
   "source": []
  },
  {
   "cell_type": "code",
   "execution_count": null,
   "id": "1b896346",
   "metadata": {},
   "outputs": [],
   "source": []
  },
  {
   "cell_type": "code",
   "execution_count": null,
   "id": "531f117d",
   "metadata": {},
   "outputs": [],
   "source": []
  },
  {
   "cell_type": "code",
   "execution_count": null,
   "id": "3a2a52c2",
   "metadata": {},
   "outputs": [],
   "source": []
  },
  {
   "cell_type": "code",
   "execution_count": null,
   "id": "355f2ef3",
   "metadata": {},
   "outputs": [],
   "source": []
  },
  {
   "cell_type": "code",
   "execution_count": null,
   "id": "ec5ee3b4",
   "metadata": {},
   "outputs": [],
   "source": []
  },
  {
   "cell_type": "code",
   "execution_count": null,
   "id": "2e537ade",
   "metadata": {},
   "outputs": [],
   "source": []
  },
  {
   "cell_type": "code",
   "execution_count": null,
   "id": "c63103ff",
   "metadata": {},
   "outputs": [],
   "source": []
  },
  {
   "cell_type": "code",
   "execution_count": null,
   "id": "39ee5e17",
   "metadata": {},
   "outputs": [],
   "source": []
  },
  {
   "cell_type": "code",
   "execution_count": null,
   "id": "91fc99cb",
   "metadata": {},
   "outputs": [],
   "source": []
  },
  {
   "cell_type": "code",
   "execution_count": null,
   "id": "904caad0",
   "metadata": {},
   "outputs": [],
   "source": []
  },
  {
   "cell_type": "code",
   "execution_count": null,
   "id": "7f3ca69c",
   "metadata": {},
   "outputs": [],
   "source": []
  },
  {
   "cell_type": "markdown",
   "id": "12866841",
   "metadata": {},
   "source": []
  },
  {
   "cell_type": "code",
   "execution_count": null,
   "id": "83afca6e",
   "metadata": {},
   "outputs": [],
   "source": []
  },
  {
   "cell_type": "code",
   "execution_count": null,
   "id": "a6eb0848",
   "metadata": {},
   "outputs": [],
   "source": [
    "\n"
   ]
  },
  {
   "cell_type": "code",
   "execution_count": null,
   "id": "ba3bb2b7",
   "metadata": {},
   "outputs": [],
   "source": []
  },
  {
   "cell_type": "code",
   "execution_count": null,
   "id": "3f6743bd",
   "metadata": {},
   "outputs": [],
   "source": []
  },
  {
   "cell_type": "code",
   "execution_count": null,
   "id": "c34aa9ef",
   "metadata": {},
   "outputs": [],
   "source": []
  },
  {
   "cell_type": "code",
   "execution_count": null,
   "id": "2d5d6600",
   "metadata": {},
   "outputs": [],
   "source": []
  },
  {
   "cell_type": "code",
   "execution_count": null,
   "id": "107e56a5",
   "metadata": {},
   "outputs": [],
   "source": []
  },
  {
   "cell_type": "code",
   "execution_count": null,
   "id": "2d3406f9",
   "metadata": {},
   "outputs": [],
   "source": []
  }
 ],
 "metadata": {
  "kernelspec": {
   "display_name": "Python 3 (ipykernel)",
   "language": "python",
   "name": "python3"
  },
  "language_info": {
   "codemirror_mode": {
    "name": "ipython",
    "version": 3
   },
   "file_extension": ".py",
   "mimetype": "text/x-python",
   "name": "python",
   "nbconvert_exporter": "python",
   "pygments_lexer": "ipython3",
   "version": "3.12.3"
  }
 },
 "nbformat": 4,
 "nbformat_minor": 5
}
